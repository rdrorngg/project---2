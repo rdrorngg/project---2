{
  "nbformat": 4,
  "nbformat_minor": 0,
  "metadata": {
    "colab": {
      "provenance": [],
      "collapsed_sections": [
        "71VIkbQEMmjl"
      ]
    },
    "kernelspec": {
      "name": "python3",
      "display_name": "Python 3"
    },
    "language_info": {
      "name": "python"
    }
  },
  "cells": [
    {
      "cell_type": "markdown",
      "source": [
        "# 데이터 전처리 % 기본적인 EDA"
      ],
      "metadata": {
        "id": "7ZttWX6aMZYa"
      }
    },
    {
      "cell_type": "code",
      "execution_count": 1,
      "metadata": {
        "colab": {
          "base_uri": "https://localhost:8080/"
        },
        "id": "hK20l1h2bM0S",
        "outputId": "0bef3632-0e98-4d6c-e50a-49f874d85a8a"
      },
      "outputs": [
        {
          "output_type": "stream",
          "name": "stdout",
          "text": [
            "Mounted at /content/drive\n"
          ]
        }
      ],
      "source": [
        "from google.colab import drive\n",
        "drive.mount('/content/drive')"
      ]
    },
    {
      "cell_type": "code",
      "source": [
        "import pandas as pd\n",
        "import numpy as np"
      ],
      "metadata": {
        "id": "KZqqMzK0hvEa"
      },
      "execution_count": 2,
      "outputs": []
    },
    {
      "cell_type": "code",
      "source": [
        "df1 = pd.read_csv('/content/drive/MyDrive/AI부트/Kickstarter_2023-01-05T03_20_04_136Z/Kickstarter.csv')\n",
        "df2 = pd.read_csv('/content/drive/MyDrive/AI부트/Kickstarter_2023-01-05T03_20_04_136Z/Kickstarter001.csv')\n",
        "df3 = pd.read_csv('/content/drive/MyDrive/AI부트/Kickstarter_2023-01-05T03_20_04_136Z/Kickstarter002.csv')"
      ],
      "metadata": {
        "id": "d1iwhZAXh43U"
      },
      "execution_count": 3,
      "outputs": []
    },
    {
      "cell_type": "markdown",
      "source": [
        "예시는 df1의 0번 기준\n",
        "\n",
        "backers_count : 프로젝트를 후원한 사람들의 수\n",
        "\n",
        "ex) 12\n",
        "\n",
        "blurb : 프로젝트에 대한 짧은 설명\n",
        "\n",
        "ex) A kung fu master gets canceled for defeating an Asian challenger because the victory is mistaken for a hate crime.\n",
        "\n",
        "category : 프로젝트의 카테고리\n",
        "\n",
        "ex) {\"id\":292,\"name\":\"Comedy\",\"analytics_name\":\"Comedy\",\"slug\":\"film & video/comedy\",\"position\":3,\"parent_id\":11,\"parent_name\":\"Film & Video\",\"color\":16734574,\"urls\":{\"web\":{\"discover\":\"http://www.kickstarter.com/discover/categories/film%20&%20video/comedy\"}}}\n",
        "\n",
        "\n",
        "converted_pledged_amount : 변환된 약정(펀딩) 금액, 해당 프로젝트에 대한 약정 금액\n",
        "\n",
        "ex) 619.0\n",
        "\n",
        "country : 국가\n",
        "\n",
        "ex) US\n",
        "\n",
        "country_displayable_name : 표시되는 국가명\n",
        "\n",
        "ex) the United States\n",
        "\n",
        "created_at : 프로젝트가 생성된 날짜\n",
        "\n",
        "ex) 1672609702\n",
        "\n",
        "creator : 제작자의 id 번호\n",
        "\n",
        "ex) {\"id\":584593596,\"name\":\"Michael J Kospiah\",\"slug\":\"michaeljkospiah\",\"is_registered\":null,\"is_email_verified\":null,\"chosen_currency\":null,\"is_superbacker\":null,\"avatar\":{\"thumb\":\"https://ksr-ugc.imgix.net/assets/039/567/599/c5aa2167684a9ee5bd155ace2ed61f34_original.jpg?ixlib=rb-4.0.2&w=40&h=40&fit=crop&v=1672623580&auto=format&frame=1&q=92&s=8971b6dc8e555d4283ff4cc9281eebb5\",\"small\":\"https://ksr-ugc.imgix.net/assets/039/567/599/c5aa2167684a9ee5bd155ace2ed61f34_original.jpg?ixlib=rb-4.0.2&w=80&h=80&fit=crop&v=1672623580&auto=format&frame=1&q=92&s=b77a8c514720dc8442beab8ea2f07a73\",\"medium\":\"https://ksr-ugc.imgix.net/assets/039/567/599/c5aa2167684a9ee5bd155ace2ed61f34_original.jpg?ixlib=rb-4.0.2&w=160&h=160&fit=crop&v=1672623580&auto=format&frame=1&q=92&s=f176e9b7f83fce8d726c90ea6fa2f160\"},\"urls\":{\"web\":{\"user\":\"https://www.kickstarter.com/profile/michaeljkospiah\"},\"api\":{\"user\":\"https://api.kickstarter.com/v1/users/584593596?signature=1672975215.9522df02a7f3860584bd472dfca7193dba9d83c7\"}}}\n",
        "\n",
        "\n",
        "currency : 통화\n",
        "\n",
        "ex) USD\n",
        "\n",
        "currency_symbol : 통화 기호\n",
        "\n",
        "ex) $\n",
        "\n",
        "currency_trailing_code : 통화에 trailing_code가 존재하는지의 여부\n",
        "\n",
        "ex) True\n",
        "\n",
        "current_currency : 현재 통화\n",
        "\n",
        "ex) USD\n",
        "\n",
        "deadline : 프로젝트의 기한\n",
        "\n",
        "ex) 1673852626\n",
        "\n",
        "disable_communication\n",
        "\n",
        "ex) False\n",
        "\n",
        "fx_rate : 외환거래 환율\n",
        "\n",
        "ex) 1.0\n",
        "\n",
        "goal : 목표치\n",
        "\n",
        "ex) 600\n",
        "\n",
        "id : 프로젝트 id\n",
        "\n",
        "ex) 1218249044\n",
        "\n",
        "is_starrable : Kickstarter가 해당 프로젝트가 성공했다고 판단했는지의 여부\n",
        "\n",
        "ex) True\n",
        "\n",
        "launched_at : 시작된 날짜\n",
        "\n",
        "ex) 1672643026\n",
        "\n",
        "location : 위치\n",
        "\n",
        "ex) {\"id\":2459115,\"name\":\"New York\",\"slug\":\"new-york-ny\",\"short_name\":\"New York, NY\",\"displayable_name\":\"New York, NY\",\"localized_name\":\"New York\",\"country\":\"US\",\"state\":\"NY\",\"type\":\"Town\",\"is_root\":false,\"expanded_country\":\"United States\",\"urls\":{\"web\":{\"discover\":\"https://www.kickstarter.com/discover/places/new-york-ny\",\"location\":\"https://www.kickstarter.com/locations/new-york-ny\"},\"api\":{\"nearby_projects\":\"https://api.kickstarter.com/v1/discover?signature=1672937661.51a36fee5be332c73a903ee88eb92b42f7b46648&woe_id=2459115\"}}}\n",
        "\n",
        "\n",
        "name : 프로젝트 이름\n",
        "\n",
        "ex) Kung Fubar\n",
        "\n",
        "photo : 사진의 정보\n",
        "\n",
        "ex) {\"key\":\"assets/039/567/041/eed695655a1b1da7aba57c76e464da43_original.png\",\"full\":\"https://ksr-ugc.imgix.net/assets/039/567/041/eed695655a1b1da7aba57c76e464da43_original.png?ixlib=rb-4.0.2&crop=faces&w=560&h=315&fit=crop&v=1672610526&auto=format&frame=1&q=92&s=77b9e747a05cfc5a1ff2224d9f1597af\",\"ed\":\"https://ksr-ugc.imgix.net/assets/039/567/041/eed695655a1b1da7aba57c76e464da43_original.png?ixlib=rb-4.0.2&crop=faces&w=352&h=198&fit=crop&v=1672610526&auto=format&frame=1&q=92&s=7146dfa070938ccde6a18ea3069c14f2\",\"med\":\"https://ksr-ugc.imgix.net/assets/039/567/041/eed695655a1b1da7aba57c76e464da43_original.png?ixlib=rb-4.0.2&crop=faces&w=272&h=153&fit=crop&v=1672610526&auto=format&frame=1&q=92&s=f3af340325ab54bf20ea8f188b8a018f\",\"little\":\"https://ksr-ugc.imgix.net/assets/039/567/041/eed695655a1b1da7aba57c76e464da43_original.png?ixlib=rb-4.0.2&crop=faces&w=208&h=117&fit=crop&v=1672610526&auto=format&frame=1&q=92&s=e07dce7f8c9faeeec70b975c9e732484\",\"small\":\"https://ksr-ugc.imgix.net/assets/039/567/041/eed695655a1b1da7aba57c76e464da43_original.png?ixlib=rb-4.0.2&crop=faces&w=160&h=90&fit=crop&v=1672610526&auto=format&frame=1&q=92&s=fdddeaaf1709a8720e411ba311230982\",\"thumb\":\"https://ksr-ugc.imgix.net/assets/039/567/041/eed695655a1b1da7aba57c76e464da43_original.png?ixlib=rb-4.0.2&crop=faces&w=48&h=27&fit=crop&v=1672610526&auto=format&frame=1&q=92&s=ff668a0fe5f03013b5c7ab67157b789c\",\"1024x576\":\"https://ksr-ugc.imgix.net/assets/039/567/041/eed695655a1b1da7aba57c76e464da43_original.png?ixlib=rb-4.0.2&crop=faces&w=1024&h=576&fit=crop&v=1672610526&auto=format&frame=1&q=92&s=359973544eca2491faffa865d6ba7444\",\"1536x864\":\"https://ksr-ugc.imgix.net/assets/039/567/041/eed695655a1b1da7aba57c76e464da43_original.png?ixlib=rb-4.0.2&crop=faces&w=1552&h=873&fit=crop&v=1672610526&auto=format&frame=1&q=92&s=48c3f141ceed55d2ba327a4b8738a952\"}\n",
        "\n",
        "\n",
        "pledged : 펀딩된 금액\n",
        "\n",
        "ex) 619.0\n",
        "\n",
        "profile : 프로젝트 프로필\n",
        "ex) {\"id\":4534078,\"project_id\":4534078,\"state\":\"inactive\",\"state_changed_at\":1672609702,\"name\":null,\"blurb\":null,\"background_color\":null,\"text_color\":null,\"link_background_color\":null,\"link_text_color\":null,\"link_text\":null,\"link_url\":null,\"show_feature_image\":false,\"background_image_opacity\":0.8,\"should_show_feature_image_section\":true,\"feature_image_attributes\":{\"image_urls\":{\"default\":\"https://ksr-ugc.imgix.net/assets/039/567/041/eed695655a1b1da7aba57c76e464da43_original.png?ixlib=rb-4.0.2&crop=faces&w=1552&h=873&fit=crop&v=1672610526&auto=format&frame=1&q=92&s=48c3f141ceed55d2ba327a4b8738a952\",\"baseball_card\":\"https://ksr-ugc.imgix.net/assets/039/567/041/eed695655a1b1da7aba57c76e464da43_original.png?ixlib=rb-4.0.2&crop=faces&w=560&h=315&fit=crop&v=1672610526&auto=format&frame=1&q=92&s=77b9e747a05cfc5a1ff2224d9f1597af\"}}}\n",
        "\n",
        "\n",
        "slug : name과 거의 동일\n",
        "\n",
        "ex) kung-fubar\n",
        "\n",
        "source_url : url\n",
        "\n",
        "ex) https://www.kickstarter.com/discover/categories/film%20&%20video/comedy\n",
        "\n",
        "spotlight : Kickstarter에 의해 홍보되었는지\n",
        "\n",
        "ex) False\n",
        "\n",
        "staff_pick : spotlight와 동일\n",
        "\n",
        "ex) False\n",
        "\n",
        "state : 프로젝트의 현재 상태('live', 'submitted', 'suspended', 'successful', 'started', 'failed', 'canceled')\n",
        "\n",
        "ex) live\n",
        "\n",
        "state_changed_at : state가 변한 날짜\n",
        "\n",
        "ex) 1672643028\n",
        "\n",
        "static_usd_rate : usd 기준 정적 환율\n",
        "\n",
        "ex) 1.0\n",
        "\n",
        "urls : 프로젝트의 주소\n",
        "\n",
        "ex) {\"web\":{\"project\":\"https://www.kickstarter.com/projects/michaeljkospiah/kung-fubar?ref=discovery_category_newest\",\"rewards\":\"https://www.kickstarter.com/projects/michaeljkospiah/kung-fubar/rewards\"}}\n",
        "\n",
        "\n",
        "usd_exchange_rate : usd 기준 환율\n",
        "\n",
        "ex) 1.0\n",
        "\n",
        "usd_pledged : usd 기준 펀딩된 금액\n",
        "\n",
        "ex) 619.0\n",
        "\n",
        "usd_type : 국제 달러여부\n",
        "\n",
        "ex) international\n"
      ],
      "metadata": {
        "id": "m0Qskb6tMz1l"
      }
    },
    {
      "cell_type": "markdown",
      "source": [
        "예상 타겟 : is_starrable(True, False), state('live', 'submitted', 'suspended', 'successful', 'started', 'failed', 'canceled')"
      ],
      "metadata": {
        "id": "FDYF23fRNOuN"
      }
    },
    {
      "cell_type": "markdown",
      "source": [
        "데이터 정제 과정에서 drop할 특성 : blurb(설명문), creator(키 값), currency_symbol(기호), currency_trailing_code(용도 불명), country_displayable_name(country 컬럼으로 충분), disable_communication(용도 불명), id(키 값), name(유니크), photo(크롤된 사진 정보), profile(크롤된 프로필 정보), slug(유니크), source_url(크롤된 url), urls(크롤된 url), usd_type(usd에 한정된 특성)"
      ],
      "metadata": {
        "id": "jVOl9P3aNc8R"
      }
    },
    {
      "cell_type": "markdown",
      "source": [
        "애매한 특성 : created_at, daedline, launched_at, state_changed_at - 날짜를 사용해 유의미한 정보를 끌어낼 수 있을 것 같지만 데이터가 해석 불가능한 상태\n",
        "\n",
        "돈 관련 특성들 : 정확히 알고 있는 분야가 아니기 때문에 조정이 필요."
      ],
      "metadata": {
        "id": "0uIAZgR3pb8n"
      }
    },
    {
      "cell_type": "code",
      "source": [
        "df1"
      ],
      "metadata": {
        "colab": {
          "base_uri": "https://localhost:8080/",
          "height": 0
        },
        "id": "L9R2QPZKjisQ",
        "outputId": "0655ce49-1084-4415-8ffa-ffa31a289b69"
      },
      "execution_count": 43,
      "outputs": [
        {
          "output_type": "execute_result",
          "data": {
            "text/plain": [
              "      backers_count                                              blurb  \\\n",
              "0                12  A kung fu master gets canceled for defeating a...   \n",
              "1                 9  A black dramady short film about 3 unsuspectin...   \n",
              "2                12  A mockumentary short film that follows the gra...   \n",
              "3                46  A darkly humorous look at one man's struggle i...   \n",
              "4                 2  A comedy based on UK retail in a gaming and el...   \n",
              "...             ...                                                ...   \n",
              "3654             16  The First Ever Giardiniera Cookbook written by...   \n",
              "3655              8  I'm going to write a new Cookbook with all the...   \n",
              "3656              8  The cookbook about food and enjoyment. Written...   \n",
              "3657              1  Ein Online-Kochbuch mit Rezepten von einer Ern...   \n",
              "3658              3     “ Unlocking the crispy fried chicken secrets ”   \n",
              "\n",
              "                                               category  \\\n",
              "0     {\"id\":292,\"name\":\"Comedy\",\"analytics_name\":\"Co...   \n",
              "1     {\"id\":292,\"name\":\"Comedy\",\"analytics_name\":\"Co...   \n",
              "2     {\"id\":292,\"name\":\"Comedy\",\"analytics_name\":\"Co...   \n",
              "3     {\"id\":292,\"name\":\"Comedy\",\"analytics_name\":\"Co...   \n",
              "4     {\"id\":292,\"name\":\"Comedy\",\"analytics_name\":\"Co...   \n",
              "...                                                 ...   \n",
              "3654  {\"id\":306,\"name\":\"Cookbooks\",\"analytics_name\":...   \n",
              "3655  {\"id\":306,\"name\":\"Cookbooks\",\"analytics_name\":...   \n",
              "3656  {\"id\":306,\"name\":\"Cookbooks\",\"analytics_name\":...   \n",
              "3657  {\"id\":306,\"name\":\"Cookbooks\",\"analytics_name\":...   \n",
              "3658  {\"id\":306,\"name\":\"Cookbooks\",\"analytics_name\":...   \n",
              "\n",
              "      converted_pledged_amount country country_displayable_name  created_at  \\\n",
              "0                        619.0      US        the United States  1672609702   \n",
              "1                        431.0      GB       the United Kingdom  1667319103   \n",
              "2                        626.0      US        the United States  1671919424   \n",
              "3                       7052.0      US        the United States  1671565688   \n",
              "4                         19.0      GB       the United Kingdom  1670767302   \n",
              "...                        ...     ...                      ...         ...   \n",
              "3654                     715.0      US        the United States  1426388281   \n",
              "3655                     326.0      IT                    Italy  1542880403   \n",
              "3656                     284.0      NO                   Norway  1540822832   \n",
              "3657                       1.0      DE                  Germany  1542541998   \n",
              "3658                      89.0      SE                   Sweden  1541763202   \n",
              "\n",
              "                                                creator currency  \\\n",
              "0     {\"id\":584593596,\"name\":\"Michael J Kospiah\",\"sl...      USD   \n",
              "1     {\"id\":461556119,\"name\":\"Oscar Saunders\",\"slug\"...      GBP   \n",
              "2     {\"id\":357438630,\"name\":\"LeMieux Studios\",\"slug...      USD   \n",
              "3     {\"id\":696286874,\"name\":\"Lexi Sloan\",\"slug\":\"sl...      USD   \n",
              "4     {\"id\":62629582,\"name\":\"JTG Productions\",\"is_re...      GBP   \n",
              "...                                                 ...      ...   \n",
              "3654  {\"id\":702866505,\"name\":\"Josh Downey\",\"slug\":\"c...      USD   \n",
              "3655  {\"id\":222858142,\"name\":\"Giacomo Zangrando\",\"is...      EUR   \n",
              "3656  {\"id\":1731681397,\"name\":\"Silje Merethe Fossnes...      NOK   \n",
              "3657  {\"id\":470448202,\"name\":\"Sven Leisten (deleted)...      EUR   \n",
              "3658  {\"id\":175391867,\"name\":\"Peter Jensen\",\"is_regi...      SEK   \n",
              "\n",
              "     currency_symbol  ...                                         source_url  \\\n",
              "0                  $  ...  https://www.kickstarter.com/discover/categorie...   \n",
              "1                  £  ...  https://www.kickstarter.com/discover/categorie...   \n",
              "2                  $  ...  https://www.kickstarter.com/discover/categorie...   \n",
              "3                  $  ...  https://www.kickstarter.com/discover/categorie...   \n",
              "4                  £  ...  https://www.kickstarter.com/discover/categorie...   \n",
              "...              ...  ...                                                ...   \n",
              "3654               $  ...  https://www.kickstarter.com/discover/categorie...   \n",
              "3655               €  ...  https://www.kickstarter.com/discover/categorie...   \n",
              "3656              kr  ...  https://www.kickstarter.com/discover/categorie...   \n",
              "3657               €  ...  https://www.kickstarter.com/discover/categorie...   \n",
              "3658              kr  ...  https://www.kickstarter.com/discover/categorie...   \n",
              "\n",
              "     spotlight  staff_pick   state  state_changed_at  static_usd_rate  \\\n",
              "0        False       False    live        1672643028         1.000000   \n",
              "1        False       False    live        1672504516         1.204512   \n",
              "2        False       False    live        1671952947         1.000000   \n",
              "3        False       False    live        1671656810         1.000000   \n",
              "4        False       False    live        1671316210         1.221417   \n",
              "...        ...         ...     ...               ...              ...   \n",
              "3654     False       False  failed        1545198600         1.000000   \n",
              "3655     False       False  failed        1545476341         1.137739   \n",
              "3656     False       False  failed        1544375058         0.118492   \n",
              "3657     False       False  failed        1545138641         1.142054   \n",
              "3658     False       False  failed        1544771166         0.109642   \n",
              "\n",
              "                                                   urls  usd_exchange_rate  \\\n",
              "0     {\"web\":{\"project\":\"https://www.kickstarter.com...           1.000000   \n",
              "1     {\"web\":{\"project\":\"https://www.kickstarter.com...           1.199223   \n",
              "2     {\"web\":{\"project\":\"https://www.kickstarter.com...           1.000000   \n",
              "3     {\"web\":{\"project\":\"https://www.kickstarter.com...           1.000000   \n",
              "4     {\"web\":{\"project\":\"https://www.kickstarter.com...           1.199223   \n",
              "...                                                 ...                ...   \n",
              "3654  {\"web\":{\"project\":\"https://www.kickstarter.com...           1.000000   \n",
              "3655  {\"web\":{\"project\":\"https://www.kickstarter.com...           1.137050   \n",
              "3656  {\"web\":{\"project\":\"https://www.kickstarter.com...           0.117556   \n",
              "3657  {\"web\":{\"project\":\"https://www.kickstarter.com...           1.134776   \n",
              "3658  {\"web\":{\"project\":\"https://www.kickstarter.com...           0.110290   \n",
              "\n",
              "      usd_pledged       usd_type  \n",
              "0      619.000000  international  \n",
              "1      433.624183  international  \n",
              "2      626.000000  international  \n",
              "3     7052.000000  international  \n",
              "4       19.542677  international  \n",
              "...           ...            ...  \n",
              "3654   715.000000       domestic  \n",
              "3655   326.531170       domestic  \n",
              "3656   286.513269       domestic  \n",
              "3657     1.142054       domestic  \n",
              "3658    88.668735       domestic  \n",
              "\n",
              "[3659 rows x 35 columns]"
            ],
            "text/html": [
              "\n",
              "  <div id=\"df-424b5127-df38-4057-a284-207f13c365f4\">\n",
              "    <div class=\"colab-df-container\">\n",
              "      <div>\n",
              "<style scoped>\n",
              "    .dataframe tbody tr th:only-of-type {\n",
              "        vertical-align: middle;\n",
              "    }\n",
              "\n",
              "    .dataframe tbody tr th {\n",
              "        vertical-align: top;\n",
              "    }\n",
              "\n",
              "    .dataframe thead th {\n",
              "        text-align: right;\n",
              "    }\n",
              "</style>\n",
              "<table border=\"1\" class=\"dataframe\">\n",
              "  <thead>\n",
              "    <tr style=\"text-align: right;\">\n",
              "      <th></th>\n",
              "      <th>backers_count</th>\n",
              "      <th>blurb</th>\n",
              "      <th>category</th>\n",
              "      <th>converted_pledged_amount</th>\n",
              "      <th>country</th>\n",
              "      <th>country_displayable_name</th>\n",
              "      <th>created_at</th>\n",
              "      <th>creator</th>\n",
              "      <th>currency</th>\n",
              "      <th>currency_symbol</th>\n",
              "      <th>...</th>\n",
              "      <th>source_url</th>\n",
              "      <th>spotlight</th>\n",
              "      <th>staff_pick</th>\n",
              "      <th>state</th>\n",
              "      <th>state_changed_at</th>\n",
              "      <th>static_usd_rate</th>\n",
              "      <th>urls</th>\n",
              "      <th>usd_exchange_rate</th>\n",
              "      <th>usd_pledged</th>\n",
              "      <th>usd_type</th>\n",
              "    </tr>\n",
              "  </thead>\n",
              "  <tbody>\n",
              "    <tr>\n",
              "      <th>0</th>\n",
              "      <td>12</td>\n",
              "      <td>A kung fu master gets canceled for defeating a...</td>\n",
              "      <td>{\"id\":292,\"name\":\"Comedy\",\"analytics_name\":\"Co...</td>\n",
              "      <td>619.0</td>\n",
              "      <td>US</td>\n",
              "      <td>the United States</td>\n",
              "      <td>1672609702</td>\n",
              "      <td>{\"id\":584593596,\"name\":\"Michael J Kospiah\",\"sl...</td>\n",
              "      <td>USD</td>\n",
              "      <td>$</td>\n",
              "      <td>...</td>\n",
              "      <td>https://www.kickstarter.com/discover/categorie...</td>\n",
              "      <td>False</td>\n",
              "      <td>False</td>\n",
              "      <td>live</td>\n",
              "      <td>1672643028</td>\n",
              "      <td>1.000000</td>\n",
              "      <td>{\"web\":{\"project\":\"https://www.kickstarter.com...</td>\n",
              "      <td>1.000000</td>\n",
              "      <td>619.000000</td>\n",
              "      <td>international</td>\n",
              "    </tr>\n",
              "    <tr>\n",
              "      <th>1</th>\n",
              "      <td>9</td>\n",
              "      <td>A black dramady short film about 3 unsuspectin...</td>\n",
              "      <td>{\"id\":292,\"name\":\"Comedy\",\"analytics_name\":\"Co...</td>\n",
              "      <td>431.0</td>\n",
              "      <td>GB</td>\n",
              "      <td>the United Kingdom</td>\n",
              "      <td>1667319103</td>\n",
              "      <td>{\"id\":461556119,\"name\":\"Oscar Saunders\",\"slug\"...</td>\n",
              "      <td>GBP</td>\n",
              "      <td>£</td>\n",
              "      <td>...</td>\n",
              "      <td>https://www.kickstarter.com/discover/categorie...</td>\n",
              "      <td>False</td>\n",
              "      <td>False</td>\n",
              "      <td>live</td>\n",
              "      <td>1672504516</td>\n",
              "      <td>1.204512</td>\n",
              "      <td>{\"web\":{\"project\":\"https://www.kickstarter.com...</td>\n",
              "      <td>1.199223</td>\n",
              "      <td>433.624183</td>\n",
              "      <td>international</td>\n",
              "    </tr>\n",
              "    <tr>\n",
              "      <th>2</th>\n",
              "      <td>12</td>\n",
              "      <td>A mockumentary short film that follows the gra...</td>\n",
              "      <td>{\"id\":292,\"name\":\"Comedy\",\"analytics_name\":\"Co...</td>\n",
              "      <td>626.0</td>\n",
              "      <td>US</td>\n",
              "      <td>the United States</td>\n",
              "      <td>1671919424</td>\n",
              "      <td>{\"id\":357438630,\"name\":\"LeMieux Studios\",\"slug...</td>\n",
              "      <td>USD</td>\n",
              "      <td>$</td>\n",
              "      <td>...</td>\n",
              "      <td>https://www.kickstarter.com/discover/categorie...</td>\n",
              "      <td>False</td>\n",
              "      <td>False</td>\n",
              "      <td>live</td>\n",
              "      <td>1671952947</td>\n",
              "      <td>1.000000</td>\n",
              "      <td>{\"web\":{\"project\":\"https://www.kickstarter.com...</td>\n",
              "      <td>1.000000</td>\n",
              "      <td>626.000000</td>\n",
              "      <td>international</td>\n",
              "    </tr>\n",
              "    <tr>\n",
              "      <th>3</th>\n",
              "      <td>46</td>\n",
              "      <td>A darkly humorous look at one man's struggle i...</td>\n",
              "      <td>{\"id\":292,\"name\":\"Comedy\",\"analytics_name\":\"Co...</td>\n",
              "      <td>7052.0</td>\n",
              "      <td>US</td>\n",
              "      <td>the United States</td>\n",
              "      <td>1671565688</td>\n",
              "      <td>{\"id\":696286874,\"name\":\"Lexi Sloan\",\"slug\":\"sl...</td>\n",
              "      <td>USD</td>\n",
              "      <td>$</td>\n",
              "      <td>...</td>\n",
              "      <td>https://www.kickstarter.com/discover/categorie...</td>\n",
              "      <td>False</td>\n",
              "      <td>False</td>\n",
              "      <td>live</td>\n",
              "      <td>1671656810</td>\n",
              "      <td>1.000000</td>\n",
              "      <td>{\"web\":{\"project\":\"https://www.kickstarter.com...</td>\n",
              "      <td>1.000000</td>\n",
              "      <td>7052.000000</td>\n",
              "      <td>international</td>\n",
              "    </tr>\n",
              "    <tr>\n",
              "      <th>4</th>\n",
              "      <td>2</td>\n",
              "      <td>A comedy based on UK retail in a gaming and el...</td>\n",
              "      <td>{\"id\":292,\"name\":\"Comedy\",\"analytics_name\":\"Co...</td>\n",
              "      <td>19.0</td>\n",
              "      <td>GB</td>\n",
              "      <td>the United Kingdom</td>\n",
              "      <td>1670767302</td>\n",
              "      <td>{\"id\":62629582,\"name\":\"JTG Productions\",\"is_re...</td>\n",
              "      <td>GBP</td>\n",
              "      <td>£</td>\n",
              "      <td>...</td>\n",
              "      <td>https://www.kickstarter.com/discover/categorie...</td>\n",
              "      <td>False</td>\n",
              "      <td>False</td>\n",
              "      <td>live</td>\n",
              "      <td>1671316210</td>\n",
              "      <td>1.221417</td>\n",
              "      <td>{\"web\":{\"project\":\"https://www.kickstarter.com...</td>\n",
              "      <td>1.199223</td>\n",
              "      <td>19.542677</td>\n",
              "      <td>international</td>\n",
              "    </tr>\n",
              "    <tr>\n",
              "      <th>...</th>\n",
              "      <td>...</td>\n",
              "      <td>...</td>\n",
              "      <td>...</td>\n",
              "      <td>...</td>\n",
              "      <td>...</td>\n",
              "      <td>...</td>\n",
              "      <td>...</td>\n",
              "      <td>...</td>\n",
              "      <td>...</td>\n",
              "      <td>...</td>\n",
              "      <td>...</td>\n",
              "      <td>...</td>\n",
              "      <td>...</td>\n",
              "      <td>...</td>\n",
              "      <td>...</td>\n",
              "      <td>...</td>\n",
              "      <td>...</td>\n",
              "      <td>...</td>\n",
              "      <td>...</td>\n",
              "      <td>...</td>\n",
              "      <td>...</td>\n",
              "    </tr>\n",
              "    <tr>\n",
              "      <th>3654</th>\n",
              "      <td>16</td>\n",
              "      <td>The First Ever Giardiniera Cookbook written by...</td>\n",
              "      <td>{\"id\":306,\"name\":\"Cookbooks\",\"analytics_name\":...</td>\n",
              "      <td>715.0</td>\n",
              "      <td>US</td>\n",
              "      <td>the United States</td>\n",
              "      <td>1426388281</td>\n",
              "      <td>{\"id\":702866505,\"name\":\"Josh Downey\",\"slug\":\"c...</td>\n",
              "      <td>USD</td>\n",
              "      <td>$</td>\n",
              "      <td>...</td>\n",
              "      <td>https://www.kickstarter.com/discover/categorie...</td>\n",
              "      <td>False</td>\n",
              "      <td>False</td>\n",
              "      <td>failed</td>\n",
              "      <td>1545198600</td>\n",
              "      <td>1.000000</td>\n",
              "      <td>{\"web\":{\"project\":\"https://www.kickstarter.com...</td>\n",
              "      <td>1.000000</td>\n",
              "      <td>715.000000</td>\n",
              "      <td>domestic</td>\n",
              "    </tr>\n",
              "    <tr>\n",
              "      <th>3655</th>\n",
              "      <td>8</td>\n",
              "      <td>I'm going to write a new Cookbook with all the...</td>\n",
              "      <td>{\"id\":306,\"name\":\"Cookbooks\",\"analytics_name\":...</td>\n",
              "      <td>326.0</td>\n",
              "      <td>IT</td>\n",
              "      <td>Italy</td>\n",
              "      <td>1542880403</td>\n",
              "      <td>{\"id\":222858142,\"name\":\"Giacomo Zangrando\",\"is...</td>\n",
              "      <td>EUR</td>\n",
              "      <td>€</td>\n",
              "      <td>...</td>\n",
              "      <td>https://www.kickstarter.com/discover/categorie...</td>\n",
              "      <td>False</td>\n",
              "      <td>False</td>\n",
              "      <td>failed</td>\n",
              "      <td>1545476341</td>\n",
              "      <td>1.137739</td>\n",
              "      <td>{\"web\":{\"project\":\"https://www.kickstarter.com...</td>\n",
              "      <td>1.137050</td>\n",
              "      <td>326.531170</td>\n",
              "      <td>domestic</td>\n",
              "    </tr>\n",
              "    <tr>\n",
              "      <th>3656</th>\n",
              "      <td>8</td>\n",
              "      <td>The cookbook about food and enjoyment. Written...</td>\n",
              "      <td>{\"id\":306,\"name\":\"Cookbooks\",\"analytics_name\":...</td>\n",
              "      <td>284.0</td>\n",
              "      <td>NO</td>\n",
              "      <td>Norway</td>\n",
              "      <td>1540822832</td>\n",
              "      <td>{\"id\":1731681397,\"name\":\"Silje Merethe Fossnes...</td>\n",
              "      <td>NOK</td>\n",
              "      <td>kr</td>\n",
              "      <td>...</td>\n",
              "      <td>https://www.kickstarter.com/discover/categorie...</td>\n",
              "      <td>False</td>\n",
              "      <td>False</td>\n",
              "      <td>failed</td>\n",
              "      <td>1544375058</td>\n",
              "      <td>0.118492</td>\n",
              "      <td>{\"web\":{\"project\":\"https://www.kickstarter.com...</td>\n",
              "      <td>0.117556</td>\n",
              "      <td>286.513269</td>\n",
              "      <td>domestic</td>\n",
              "    </tr>\n",
              "    <tr>\n",
              "      <th>3657</th>\n",
              "      <td>1</td>\n",
              "      <td>Ein Online-Kochbuch mit Rezepten von einer Ern...</td>\n",
              "      <td>{\"id\":306,\"name\":\"Cookbooks\",\"analytics_name\":...</td>\n",
              "      <td>1.0</td>\n",
              "      <td>DE</td>\n",
              "      <td>Germany</td>\n",
              "      <td>1542541998</td>\n",
              "      <td>{\"id\":470448202,\"name\":\"Sven Leisten (deleted)...</td>\n",
              "      <td>EUR</td>\n",
              "      <td>€</td>\n",
              "      <td>...</td>\n",
              "      <td>https://www.kickstarter.com/discover/categorie...</td>\n",
              "      <td>False</td>\n",
              "      <td>False</td>\n",
              "      <td>failed</td>\n",
              "      <td>1545138641</td>\n",
              "      <td>1.142054</td>\n",
              "      <td>{\"web\":{\"project\":\"https://www.kickstarter.com...</td>\n",
              "      <td>1.134776</td>\n",
              "      <td>1.142054</td>\n",
              "      <td>domestic</td>\n",
              "    </tr>\n",
              "    <tr>\n",
              "      <th>3658</th>\n",
              "      <td>3</td>\n",
              "      <td>“ Unlocking the crispy fried chicken secrets ”</td>\n",
              "      <td>{\"id\":306,\"name\":\"Cookbooks\",\"analytics_name\":...</td>\n",
              "      <td>89.0</td>\n",
              "      <td>SE</td>\n",
              "      <td>Sweden</td>\n",
              "      <td>1541763202</td>\n",
              "      <td>{\"id\":175391867,\"name\":\"Peter Jensen\",\"is_regi...</td>\n",
              "      <td>SEK</td>\n",
              "      <td>kr</td>\n",
              "      <td>...</td>\n",
              "      <td>https://www.kickstarter.com/discover/categorie...</td>\n",
              "      <td>False</td>\n",
              "      <td>False</td>\n",
              "      <td>failed</td>\n",
              "      <td>1544771166</td>\n",
              "      <td>0.109642</td>\n",
              "      <td>{\"web\":{\"project\":\"https://www.kickstarter.com...</td>\n",
              "      <td>0.110290</td>\n",
              "      <td>88.668735</td>\n",
              "      <td>domestic</td>\n",
              "    </tr>\n",
              "  </tbody>\n",
              "</table>\n",
              "<p>3659 rows × 35 columns</p>\n",
              "</div>\n",
              "      <button class=\"colab-df-convert\" onclick=\"convertToInteractive('df-424b5127-df38-4057-a284-207f13c365f4')\"\n",
              "              title=\"Convert this dataframe to an interactive table.\"\n",
              "              style=\"display:none;\">\n",
              "        \n",
              "  <svg xmlns=\"http://www.w3.org/2000/svg\" height=\"24px\"viewBox=\"0 0 24 24\"\n",
              "       width=\"24px\">\n",
              "    <path d=\"M0 0h24v24H0V0z\" fill=\"none\"/>\n",
              "    <path d=\"M18.56 5.44l.94 2.06.94-2.06 2.06-.94-2.06-.94-.94-2.06-.94 2.06-2.06.94zm-11 1L8.5 8.5l.94-2.06 2.06-.94-2.06-.94L8.5 2.5l-.94 2.06-2.06.94zm10 10l.94 2.06.94-2.06 2.06-.94-2.06-.94-.94-2.06-.94 2.06-2.06.94z\"/><path d=\"M17.41 7.96l-1.37-1.37c-.4-.4-.92-.59-1.43-.59-.52 0-1.04.2-1.43.59L10.3 9.45l-7.72 7.72c-.78.78-.78 2.05 0 2.83L4 21.41c.39.39.9.59 1.41.59.51 0 1.02-.2 1.41-.59l7.78-7.78 2.81-2.81c.8-.78.8-2.07 0-2.86zM5.41 20L4 18.59l7.72-7.72 1.47 1.35L5.41 20z\"/>\n",
              "  </svg>\n",
              "      </button>\n",
              "      \n",
              "  <style>\n",
              "    .colab-df-container {\n",
              "      display:flex;\n",
              "      flex-wrap:wrap;\n",
              "      gap: 12px;\n",
              "    }\n",
              "\n",
              "    .colab-df-convert {\n",
              "      background-color: #E8F0FE;\n",
              "      border: none;\n",
              "      border-radius: 50%;\n",
              "      cursor: pointer;\n",
              "      display: none;\n",
              "      fill: #1967D2;\n",
              "      height: 32px;\n",
              "      padding: 0 0 0 0;\n",
              "      width: 32px;\n",
              "    }\n",
              "\n",
              "    .colab-df-convert:hover {\n",
              "      background-color: #E2EBFA;\n",
              "      box-shadow: 0px 1px 2px rgba(60, 64, 67, 0.3), 0px 1px 3px 1px rgba(60, 64, 67, 0.15);\n",
              "      fill: #174EA6;\n",
              "    }\n",
              "\n",
              "    [theme=dark] .colab-df-convert {\n",
              "      background-color: #3B4455;\n",
              "      fill: #D2E3FC;\n",
              "    }\n",
              "\n",
              "    [theme=dark] .colab-df-convert:hover {\n",
              "      background-color: #434B5C;\n",
              "      box-shadow: 0px 1px 3px 1px rgba(0, 0, 0, 0.15);\n",
              "      filter: drop-shadow(0px 1px 2px rgba(0, 0, 0, 0.3));\n",
              "      fill: #FFFFFF;\n",
              "    }\n",
              "  </style>\n",
              "\n",
              "      <script>\n",
              "        const buttonEl =\n",
              "          document.querySelector('#df-424b5127-df38-4057-a284-207f13c365f4 button.colab-df-convert');\n",
              "        buttonEl.style.display =\n",
              "          google.colab.kernel.accessAllowed ? 'block' : 'none';\n",
              "\n",
              "        async function convertToInteractive(key) {\n",
              "          const element = document.querySelector('#df-424b5127-df38-4057-a284-207f13c365f4');\n",
              "          const dataTable =\n",
              "            await google.colab.kernel.invokeFunction('convertToInteractive',\n",
              "                                                     [key], {});\n",
              "          if (!dataTable) return;\n",
              "\n",
              "          const docLinkHtml = 'Like what you see? Visit the ' +\n",
              "            '<a target=\"_blank\" href=https://colab.research.google.com/notebooks/data_table.ipynb>data table notebook</a>'\n",
              "            + ' to learn more about interactive tables.';\n",
              "          element.innerHTML = '';\n",
              "          dataTable['output_type'] = 'display_data';\n",
              "          await google.colab.output.renderOutput(dataTable, element);\n",
              "          const docLink = document.createElement('div');\n",
              "          docLink.innerHTML = docLinkHtml;\n",
              "          element.appendChild(docLink);\n",
              "        }\n",
              "      </script>\n",
              "    </div>\n",
              "  </div>\n",
              "  "
            ]
          },
          "metadata": {},
          "execution_count": 43
        }
      ]
    },
    {
      "cell_type": "code",
      "source": [
        "kick = pd.concat([df1, df2, df3])"
      ],
      "metadata": {
        "id": "Y6wnct3-PEo2"
      },
      "execution_count": 4,
      "outputs": []
    },
    {
      "cell_type": "code",
      "source": [
        "kick.drop(columns=['blurb', 'creator', 'currency_symbol', 'currency_trailing_code', 'country_displayable_name', 'disable_communication', 'id', 'name', 'photo', 'profile', 'slug', 'source_url', 'urls', 'usd_type', 'created_at', 'deadline', 'launched_at', 'state_changed_at', 'fx_rate', 'current_currency', 'usd_exchange_rate', 'static_usd_rate'], inplace=True)"
      ],
      "metadata": {
        "id": "iwlzsMhJPyCW"
      },
      "execution_count": 5,
      "outputs": []
    },
    {
      "cell_type": "code",
      "source": [
        "kick.isnull().sum()"
      ],
      "metadata": {
        "colab": {
          "base_uri": "https://localhost:8080/"
        },
        "id": "3ErXqfROsjzI",
        "outputId": "37cc89ea-dae4-4c2b-ebb8-262c8561d3d2"
      },
      "execution_count": 6,
      "outputs": [
        {
          "output_type": "execute_result",
          "data": {
            "text/plain": [
              "backers_count                 0\n",
              "category                      0\n",
              "converted_pledged_amount    334\n",
              "country                       0\n",
              "currency                      0\n",
              "goal                          0\n",
              "is_starrable                  0\n",
              "location                      8\n",
              "pledged                       0\n",
              "spotlight                     0\n",
              "staff_pick                    0\n",
              "state                         0\n",
              "usd_pledged                 334\n",
              "dtype: int64"
            ]
          },
          "metadata": {},
          "execution_count": 6
        }
      ]
    },
    {
      "cell_type": "markdown",
      "source": [
        "결측치\n",
        "\n",
        "backers_count                 0\n",
        "\n",
        "category                      0\n",
        "\n",
        "converted_pledged_amount    334\n",
        "\n",
        "country                       0\n",
        "\n",
        "country_displayable_name      0\n",
        "\n",
        "currency                      0\n",
        "\n",
        "current_currency              0\n",
        "\n",
        "fx_rate                       0\n",
        "\n",
        "goal                          0\n",
        "\n",
        "is_starrable                  0\n",
        "\n",
        "location                      8\n",
        "\n",
        "pledged                       0\n",
        "\n",
        "spotlight                     0\n",
        "\n",
        "staff_pick                    0\n",
        "\n",
        "state                         0\n",
        "\n",
        "static_usd_rate               0\n",
        "\n",
        "usd_exchange_rate           334\n",
        "\n",
        "usd_pledged                 334\n",
        "\n",
        "\n",
        "지역과 약정(펀딩)의 결측치는 임의로 채우기 힘든 결측치 -> 삭제"
      ],
      "metadata": {
        "id": "yIN-aQxtwJx5"
      }
    },
    {
      "cell_type": "code",
      "source": [
        "kick.dropna(inplace=True)"
      ],
      "metadata": {
        "id": "R83gqFJywU06"
      },
      "execution_count": 7,
      "outputs": []
    },
    {
      "cell_type": "markdown",
      "source": [
        "JSON 형태가 그대로 들어온 category와 location 컬럼 정제\n",
        "\n",
        "category : 대조 결과 anlytics_name과 parent_name을 컬럼화 시킨다.\n",
        "\n",
        "parent_name에 결측치 존재 -> 동일한 카테고리의 데이터가 결측되었기 때문에 임의로 Design으로 대체\n",
        "\n",
        "location : 대조 결과 country로 대체한다. -> 추출결과 country 컬럼과 동일했기 때문에 location 컬럼을 삭제"
      ],
      "metadata": {
        "id": "UujPloB42quA"
      }
    },
    {
      "cell_type": "code",
      "source": [
        "kick['category_name'] = kick['category'].str.extract('analytics_name\":\"([a-zA-z]+)')\n",
        "kick['category_parent'] = kick['category'].str.extract('parent_name\":\"([a-zA-z]+)')\n",
        "kick.drop(columns=['category', 'location'], inplace=True)\n",
        "kick['category_parent'].fillna(\"Design\", inplace=True)"
      ],
      "metadata": {
        "id": "jxsQbXJOwbWZ"
      },
      "execution_count": 8,
      "outputs": []
    },
    {
      "cell_type": "markdown",
      "source": [
        "환율을 적용해 usd로 변환한 컬럼인 usd_pleadged는 fx_rate나 usd_exchange_rate보다 static_usd_rate를 적용했을 때 근사치가 나옴 -> static_usd_rate를 제외한 컬럼 삭제\n",
        "\n",
        "current_currency : 현재 통화가 usd기준이라는 것은 usd_pledged에 이미 포함되어있는 정보라 판단하여 컬럼을 삭제"
      ],
      "metadata": {
        "id": "-SePENKtKrhd"
      }
    },
    {
      "cell_type": "code",
      "source": [
        "kick"
      ],
      "metadata": {
        "colab": {
          "base_uri": "https://localhost:8080/",
          "height": 0
        },
        "id": "5eKEC4gJSZny",
        "outputId": "e64998d6-fcee-43df-f992-db3552648ea4"
      },
      "execution_count": 9,
      "outputs": [
        {
          "output_type": "execute_result",
          "data": {
            "text/plain": [
              "    backers_count  converted_pledged_amount country currency      goal  \\\n",
              "0              12                     619.0      US      USD     600.0   \n",
              "1               9                     431.0      GB      GBP     500.0   \n",
              "2              12                     626.0      US      USD     300.0   \n",
              "3              46                    7052.0      US      USD    8500.0   \n",
              "4               2                      19.0      GB      GBP    2000.0   \n",
              "..            ...                       ...     ...      ...       ...   \n",
              "78              1                      13.0      GB      GBP   25000.0   \n",
              "79              3                      20.0      US      USD    5000.0   \n",
              "80              2                      86.0      MX      MXN  100000.0   \n",
              "81              1                       1.0      US      USD   11000.0   \n",
              "82              0                       0.0      US      USD   25000.0   \n",
              "\n",
              "    is_starrable  pledged  spotlight  staff_pick   state  usd_pledged  \\\n",
              "0           True    619.0      False       False    live   619.000000   \n",
              "1           True    360.0      False       False    live   433.624183   \n",
              "2           True    626.0      False       False    live   626.000000   \n",
              "3           True   7052.0      False       False    live  7052.000000   \n",
              "4           True     16.0      False       False    live    19.542677   \n",
              "..           ...      ...        ...         ...     ...          ...   \n",
              "78         False     10.0      False       False  failed    13.985740   \n",
              "79         False     20.0      False       False  failed    20.000000   \n",
              "80         False   1600.0      False       False  failed    85.281968   \n",
              "81         False      1.0      False       False  failed     1.000000   \n",
              "82         False      0.0      False       False  failed     0.000000   \n",
              "\n",
              "   category_name category_parent  \n",
              "0         Comedy            Film  \n",
              "1         Comedy            Film  \n",
              "2         Comedy            Film  \n",
              "3         Comedy            Film  \n",
              "4         Comedy            Film  \n",
              "..           ...             ...  \n",
              "78      Software      Technology  \n",
              "79      Software      Technology  \n",
              "80      Software      Technology  \n",
              "81      Software      Technology  \n",
              "82      Software      Technology  \n",
              "\n",
              "[7090 rows x 13 columns]"
            ],
            "text/html": [
              "\n",
              "  <div id=\"df-45155e7f-7091-4f51-856e-80e4edb28d3b\">\n",
              "    <div class=\"colab-df-container\">\n",
              "      <div>\n",
              "<style scoped>\n",
              "    .dataframe tbody tr th:only-of-type {\n",
              "        vertical-align: middle;\n",
              "    }\n",
              "\n",
              "    .dataframe tbody tr th {\n",
              "        vertical-align: top;\n",
              "    }\n",
              "\n",
              "    .dataframe thead th {\n",
              "        text-align: right;\n",
              "    }\n",
              "</style>\n",
              "<table border=\"1\" class=\"dataframe\">\n",
              "  <thead>\n",
              "    <tr style=\"text-align: right;\">\n",
              "      <th></th>\n",
              "      <th>backers_count</th>\n",
              "      <th>converted_pledged_amount</th>\n",
              "      <th>country</th>\n",
              "      <th>currency</th>\n",
              "      <th>goal</th>\n",
              "      <th>is_starrable</th>\n",
              "      <th>pledged</th>\n",
              "      <th>spotlight</th>\n",
              "      <th>staff_pick</th>\n",
              "      <th>state</th>\n",
              "      <th>usd_pledged</th>\n",
              "      <th>category_name</th>\n",
              "      <th>category_parent</th>\n",
              "    </tr>\n",
              "  </thead>\n",
              "  <tbody>\n",
              "    <tr>\n",
              "      <th>0</th>\n",
              "      <td>12</td>\n",
              "      <td>619.0</td>\n",
              "      <td>US</td>\n",
              "      <td>USD</td>\n",
              "      <td>600.0</td>\n",
              "      <td>True</td>\n",
              "      <td>619.0</td>\n",
              "      <td>False</td>\n",
              "      <td>False</td>\n",
              "      <td>live</td>\n",
              "      <td>619.000000</td>\n",
              "      <td>Comedy</td>\n",
              "      <td>Film</td>\n",
              "    </tr>\n",
              "    <tr>\n",
              "      <th>1</th>\n",
              "      <td>9</td>\n",
              "      <td>431.0</td>\n",
              "      <td>GB</td>\n",
              "      <td>GBP</td>\n",
              "      <td>500.0</td>\n",
              "      <td>True</td>\n",
              "      <td>360.0</td>\n",
              "      <td>False</td>\n",
              "      <td>False</td>\n",
              "      <td>live</td>\n",
              "      <td>433.624183</td>\n",
              "      <td>Comedy</td>\n",
              "      <td>Film</td>\n",
              "    </tr>\n",
              "    <tr>\n",
              "      <th>2</th>\n",
              "      <td>12</td>\n",
              "      <td>626.0</td>\n",
              "      <td>US</td>\n",
              "      <td>USD</td>\n",
              "      <td>300.0</td>\n",
              "      <td>True</td>\n",
              "      <td>626.0</td>\n",
              "      <td>False</td>\n",
              "      <td>False</td>\n",
              "      <td>live</td>\n",
              "      <td>626.000000</td>\n",
              "      <td>Comedy</td>\n",
              "      <td>Film</td>\n",
              "    </tr>\n",
              "    <tr>\n",
              "      <th>3</th>\n",
              "      <td>46</td>\n",
              "      <td>7052.0</td>\n",
              "      <td>US</td>\n",
              "      <td>USD</td>\n",
              "      <td>8500.0</td>\n",
              "      <td>True</td>\n",
              "      <td>7052.0</td>\n",
              "      <td>False</td>\n",
              "      <td>False</td>\n",
              "      <td>live</td>\n",
              "      <td>7052.000000</td>\n",
              "      <td>Comedy</td>\n",
              "      <td>Film</td>\n",
              "    </tr>\n",
              "    <tr>\n",
              "      <th>4</th>\n",
              "      <td>2</td>\n",
              "      <td>19.0</td>\n",
              "      <td>GB</td>\n",
              "      <td>GBP</td>\n",
              "      <td>2000.0</td>\n",
              "      <td>True</td>\n",
              "      <td>16.0</td>\n",
              "      <td>False</td>\n",
              "      <td>False</td>\n",
              "      <td>live</td>\n",
              "      <td>19.542677</td>\n",
              "      <td>Comedy</td>\n",
              "      <td>Film</td>\n",
              "    </tr>\n",
              "    <tr>\n",
              "      <th>...</th>\n",
              "      <td>...</td>\n",
              "      <td>...</td>\n",
              "      <td>...</td>\n",
              "      <td>...</td>\n",
              "      <td>...</td>\n",
              "      <td>...</td>\n",
              "      <td>...</td>\n",
              "      <td>...</td>\n",
              "      <td>...</td>\n",
              "      <td>...</td>\n",
              "      <td>...</td>\n",
              "      <td>...</td>\n",
              "      <td>...</td>\n",
              "    </tr>\n",
              "    <tr>\n",
              "      <th>78</th>\n",
              "      <td>1</td>\n",
              "      <td>13.0</td>\n",
              "      <td>GB</td>\n",
              "      <td>GBP</td>\n",
              "      <td>25000.0</td>\n",
              "      <td>False</td>\n",
              "      <td>10.0</td>\n",
              "      <td>False</td>\n",
              "      <td>False</td>\n",
              "      <td>failed</td>\n",
              "      <td>13.985740</td>\n",
              "      <td>Software</td>\n",
              "      <td>Technology</td>\n",
              "    </tr>\n",
              "    <tr>\n",
              "      <th>79</th>\n",
              "      <td>3</td>\n",
              "      <td>20.0</td>\n",
              "      <td>US</td>\n",
              "      <td>USD</td>\n",
              "      <td>5000.0</td>\n",
              "      <td>False</td>\n",
              "      <td>20.0</td>\n",
              "      <td>False</td>\n",
              "      <td>False</td>\n",
              "      <td>failed</td>\n",
              "      <td>20.000000</td>\n",
              "      <td>Software</td>\n",
              "      <td>Technology</td>\n",
              "    </tr>\n",
              "    <tr>\n",
              "      <th>80</th>\n",
              "      <td>2</td>\n",
              "      <td>86.0</td>\n",
              "      <td>MX</td>\n",
              "      <td>MXN</td>\n",
              "      <td>100000.0</td>\n",
              "      <td>False</td>\n",
              "      <td>1600.0</td>\n",
              "      <td>False</td>\n",
              "      <td>False</td>\n",
              "      <td>failed</td>\n",
              "      <td>85.281968</td>\n",
              "      <td>Software</td>\n",
              "      <td>Technology</td>\n",
              "    </tr>\n",
              "    <tr>\n",
              "      <th>81</th>\n",
              "      <td>1</td>\n",
              "      <td>1.0</td>\n",
              "      <td>US</td>\n",
              "      <td>USD</td>\n",
              "      <td>11000.0</td>\n",
              "      <td>False</td>\n",
              "      <td>1.0</td>\n",
              "      <td>False</td>\n",
              "      <td>False</td>\n",
              "      <td>failed</td>\n",
              "      <td>1.000000</td>\n",
              "      <td>Software</td>\n",
              "      <td>Technology</td>\n",
              "    </tr>\n",
              "    <tr>\n",
              "      <th>82</th>\n",
              "      <td>0</td>\n",
              "      <td>0.0</td>\n",
              "      <td>US</td>\n",
              "      <td>USD</td>\n",
              "      <td>25000.0</td>\n",
              "      <td>False</td>\n",
              "      <td>0.0</td>\n",
              "      <td>False</td>\n",
              "      <td>False</td>\n",
              "      <td>failed</td>\n",
              "      <td>0.000000</td>\n",
              "      <td>Software</td>\n",
              "      <td>Technology</td>\n",
              "    </tr>\n",
              "  </tbody>\n",
              "</table>\n",
              "<p>7090 rows × 13 columns</p>\n",
              "</div>\n",
              "      <button class=\"colab-df-convert\" onclick=\"convertToInteractive('df-45155e7f-7091-4f51-856e-80e4edb28d3b')\"\n",
              "              title=\"Convert this dataframe to an interactive table.\"\n",
              "              style=\"display:none;\">\n",
              "        \n",
              "  <svg xmlns=\"http://www.w3.org/2000/svg\" height=\"24px\"viewBox=\"0 0 24 24\"\n",
              "       width=\"24px\">\n",
              "    <path d=\"M0 0h24v24H0V0z\" fill=\"none\"/>\n",
              "    <path d=\"M18.56 5.44l.94 2.06.94-2.06 2.06-.94-2.06-.94-.94-2.06-.94 2.06-2.06.94zm-11 1L8.5 8.5l.94-2.06 2.06-.94-2.06-.94L8.5 2.5l-.94 2.06-2.06.94zm10 10l.94 2.06.94-2.06 2.06-.94-2.06-.94-.94-2.06-.94 2.06-2.06.94z\"/><path d=\"M17.41 7.96l-1.37-1.37c-.4-.4-.92-.59-1.43-.59-.52 0-1.04.2-1.43.59L10.3 9.45l-7.72 7.72c-.78.78-.78 2.05 0 2.83L4 21.41c.39.39.9.59 1.41.59.51 0 1.02-.2 1.41-.59l7.78-7.78 2.81-2.81c.8-.78.8-2.07 0-2.86zM5.41 20L4 18.59l7.72-7.72 1.47 1.35L5.41 20z\"/>\n",
              "  </svg>\n",
              "      </button>\n",
              "      \n",
              "  <style>\n",
              "    .colab-df-container {\n",
              "      display:flex;\n",
              "      flex-wrap:wrap;\n",
              "      gap: 12px;\n",
              "    }\n",
              "\n",
              "    .colab-df-convert {\n",
              "      background-color: #E8F0FE;\n",
              "      border: none;\n",
              "      border-radius: 50%;\n",
              "      cursor: pointer;\n",
              "      display: none;\n",
              "      fill: #1967D2;\n",
              "      height: 32px;\n",
              "      padding: 0 0 0 0;\n",
              "      width: 32px;\n",
              "    }\n",
              "\n",
              "    .colab-df-convert:hover {\n",
              "      background-color: #E2EBFA;\n",
              "      box-shadow: 0px 1px 2px rgba(60, 64, 67, 0.3), 0px 1px 3px 1px rgba(60, 64, 67, 0.15);\n",
              "      fill: #174EA6;\n",
              "    }\n",
              "\n",
              "    [theme=dark] .colab-df-convert {\n",
              "      background-color: #3B4455;\n",
              "      fill: #D2E3FC;\n",
              "    }\n",
              "\n",
              "    [theme=dark] .colab-df-convert:hover {\n",
              "      background-color: #434B5C;\n",
              "      box-shadow: 0px 1px 3px 1px rgba(0, 0, 0, 0.15);\n",
              "      filter: drop-shadow(0px 1px 2px rgba(0, 0, 0, 0.3));\n",
              "      fill: #FFFFFF;\n",
              "    }\n",
              "  </style>\n",
              "\n",
              "      <script>\n",
              "        const buttonEl =\n",
              "          document.querySelector('#df-45155e7f-7091-4f51-856e-80e4edb28d3b button.colab-df-convert');\n",
              "        buttonEl.style.display =\n",
              "          google.colab.kernel.accessAllowed ? 'block' : 'none';\n",
              "\n",
              "        async function convertToInteractive(key) {\n",
              "          const element = document.querySelector('#df-45155e7f-7091-4f51-856e-80e4edb28d3b');\n",
              "          const dataTable =\n",
              "            await google.colab.kernel.invokeFunction('convertToInteractive',\n",
              "                                                     [key], {});\n",
              "          if (!dataTable) return;\n",
              "\n",
              "          const docLinkHtml = 'Like what you see? Visit the ' +\n",
              "            '<a target=\"_blank\" href=https://colab.research.google.com/notebooks/data_table.ipynb>data table notebook</a>'\n",
              "            + ' to learn more about interactive tables.';\n",
              "          element.innerHTML = '';\n",
              "          dataTable['output_type'] = 'display_data';\n",
              "          await google.colab.output.renderOutput(dataTable, element);\n",
              "          const docLink = document.createElement('div');\n",
              "          docLink.innerHTML = docLinkHtml;\n",
              "          element.appendChild(docLink);\n",
              "        }\n",
              "      </script>\n",
              "    </div>\n",
              "  </div>\n",
              "  "
            ]
          },
          "metadata": {},
          "execution_count": 9
        }
      ]
    },
    {
      "cell_type": "markdown",
      "source": [
        "static_usd_rate 또한 usd_pledged에 이미 포함되어있느 정보로 판단된다. -> 삭제"
      ],
      "metadata": {
        "id": "L1YrT8P5Lcr2"
      }
    },
    {
      "cell_type": "code",
      "source": [
        "kick.info()"
      ],
      "metadata": {
        "colab": {
          "base_uri": "https://localhost:8080/"
        },
        "id": "EA1xivR3HSmY",
        "outputId": "69478844-8bca-437e-ba71-80454561295e"
      },
      "execution_count": 10,
      "outputs": [
        {
          "output_type": "stream",
          "name": "stdout",
          "text": [
            "<class 'pandas.core.frame.DataFrame'>\n",
            "Int64Index: 7090 entries, 0 to 82\n",
            "Data columns (total 13 columns):\n",
            " #   Column                    Non-Null Count  Dtype  \n",
            "---  ------                    --------------  -----  \n",
            " 0   backers_count             7090 non-null   int64  \n",
            " 1   converted_pledged_amount  7090 non-null   float64\n",
            " 2   country                   7090 non-null   object \n",
            " 3   currency                  7090 non-null   object \n",
            " 4   goal                      7090 non-null   float64\n",
            " 5   is_starrable              7090 non-null   bool   \n",
            " 6   pledged                   7090 non-null   float64\n",
            " 7   spotlight                 7090 non-null   bool   \n",
            " 8   staff_pick                7090 non-null   bool   \n",
            " 9   state                     7090 non-null   object \n",
            " 10  usd_pledged               7090 non-null   float64\n",
            " 11  category_name             7090 non-null   object \n",
            " 12  category_parent           7090 non-null   object \n",
            "dtypes: bool(3), float64(4), int64(1), object(5)\n",
            "memory usage: 630.1+ KB\n"
          ]
        }
      ]
    },
    {
      "cell_type": "markdown",
      "source": [
        "초기 데이터 프레임 7090x13"
      ],
      "metadata": {
        "id": "IxF2CYXWL81K"
      }
    },
    {
      "cell_type": "markdown",
      "source": [
        "# 모델링"
      ],
      "metadata": {
        "id": "71VIkbQEMmjl"
      }
    },
    {
      "cell_type": "code",
      "source": [
        "!pip install category_encoders\n",
        "!pip3 install eli5"
      ],
      "metadata": {
        "colab": {
          "base_uri": "https://localhost:8080/"
        },
        "id": "baRPPobbUjgM",
        "outputId": "d9fdedc3-7c4a-46c0-a56f-eba915e255c9"
      },
      "execution_count": 11,
      "outputs": [
        {
          "output_type": "stream",
          "name": "stdout",
          "text": [
            "Looking in indexes: https://pypi.org/simple, https://us-python.pkg.dev/colab-wheels/public/simple/\n",
            "Collecting category_encoders\n",
            "  Downloading category_encoders-2.6.0-py2.py3-none-any.whl (81 kB)\n",
            "\u001b[2K     \u001b[90m━━━━━━━━━━━━━━━━━━━━━━━━━━━━━━━━━━━━━━━━\u001b[0m \u001b[32m81.2/81.2 KB\u001b[0m \u001b[31m4.5 MB/s\u001b[0m eta \u001b[36m0:00:00\u001b[0m\n",
            "\u001b[?25hRequirement already satisfied: pandas>=1.0.5 in /usr/local/lib/python3.8/dist-packages (from category_encoders) (1.3.5)\n",
            "Requirement already satisfied: scipy>=1.0.0 in /usr/local/lib/python3.8/dist-packages (from category_encoders) (1.7.3)\n",
            "Requirement already satisfied: scikit-learn>=0.20.0 in /usr/local/lib/python3.8/dist-packages (from category_encoders) (1.0.2)\n",
            "Requirement already satisfied: statsmodels>=0.9.0 in /usr/local/lib/python3.8/dist-packages (from category_encoders) (0.12.2)\n",
            "Requirement already satisfied: patsy>=0.5.1 in /usr/local/lib/python3.8/dist-packages (from category_encoders) (0.5.3)\n",
            "Requirement already satisfied: numpy>=1.14.0 in /usr/local/lib/python3.8/dist-packages (from category_encoders) (1.21.6)\n",
            "Requirement already satisfied: pytz>=2017.3 in /usr/local/lib/python3.8/dist-packages (from pandas>=1.0.5->category_encoders) (2022.7.1)\n",
            "Requirement already satisfied: python-dateutil>=2.7.3 in /usr/local/lib/python3.8/dist-packages (from pandas>=1.0.5->category_encoders) (2.8.2)\n",
            "Requirement already satisfied: six in /usr/local/lib/python3.8/dist-packages (from patsy>=0.5.1->category_encoders) (1.15.0)\n",
            "Requirement already satisfied: joblib>=0.11 in /usr/local/lib/python3.8/dist-packages (from scikit-learn>=0.20.0->category_encoders) (1.2.0)\n",
            "Requirement already satisfied: threadpoolctl>=2.0.0 in /usr/local/lib/python3.8/dist-packages (from scikit-learn>=0.20.0->category_encoders) (3.1.0)\n",
            "Installing collected packages: category_encoders\n",
            "Successfully installed category_encoders-2.6.0\n",
            "Looking in indexes: https://pypi.org/simple, https://us-python.pkg.dev/colab-wheels/public/simple/\n",
            "Collecting eli5\n",
            "  Downloading eli5-0.13.0.tar.gz (216 kB)\n",
            "\u001b[2K     \u001b[90m━━━━━━━━━━━━━━━━━━━━━━━━━━━━━━━━━━━━━━━\u001b[0m \u001b[32m216.2/216.2 KB\u001b[0m \u001b[31m6.9 MB/s\u001b[0m eta \u001b[36m0:00:00\u001b[0m\n",
            "\u001b[?25h  Preparing metadata (setup.py) ... \u001b[?25l\u001b[?25hdone\n",
            "Requirement already satisfied: attrs>17.1.0 in /usr/local/lib/python3.8/dist-packages (from eli5) (22.2.0)\n",
            "Collecting jinja2>=3.0.0\n",
            "  Downloading Jinja2-3.1.2-py3-none-any.whl (133 kB)\n",
            "\u001b[2K     \u001b[90m━━━━━━━━━━━━━━━━━━━━━━━━━━━━━━━━━━━━━━\u001b[0m \u001b[32m133.1/133.1 KB\u001b[0m \u001b[31m14.1 MB/s\u001b[0m eta \u001b[36m0:00:00\u001b[0m\n",
            "\u001b[?25hRequirement already satisfied: numpy>=1.9.0 in /usr/local/lib/python3.8/dist-packages (from eli5) (1.21.6)\n",
            "Requirement already satisfied: scipy in /usr/local/lib/python3.8/dist-packages (from eli5) (1.7.3)\n",
            "Requirement already satisfied: six in /usr/local/lib/python3.8/dist-packages (from eli5) (1.15.0)\n",
            "Requirement already satisfied: scikit-learn>=0.20 in /usr/local/lib/python3.8/dist-packages (from eli5) (1.0.2)\n",
            "Requirement already satisfied: graphviz in /usr/local/lib/python3.8/dist-packages (from eli5) (0.10.1)\n",
            "Requirement already satisfied: tabulate>=0.7.7 in /usr/local/lib/python3.8/dist-packages (from eli5) (0.8.10)\n",
            "Requirement already satisfied: MarkupSafe>=2.0 in /usr/local/lib/python3.8/dist-packages (from jinja2>=3.0.0->eli5) (2.0.1)\n",
            "Requirement already satisfied: joblib>=0.11 in /usr/local/lib/python3.8/dist-packages (from scikit-learn>=0.20->eli5) (1.2.0)\n",
            "Requirement already satisfied: threadpoolctl>=2.0.0 in /usr/local/lib/python3.8/dist-packages (from scikit-learn>=0.20->eli5) (3.1.0)\n",
            "Building wheels for collected packages: eli5\n",
            "  Building wheel for eli5 (setup.py) ... \u001b[?25l\u001b[?25hdone\n",
            "  Created wheel for eli5: filename=eli5-0.13.0-py2.py3-none-any.whl size=107748 sha256=93ef69c174a2b863970c1e1fd6bd0adc82af1117305b839c81b1e3f189f8333e\n",
            "  Stored in directory: /root/.cache/pip/wheels/85/ac/25/ffcd87ef8f9b1eec324fdf339359be71f22612459d8c75d89c\n",
            "Successfully built eli5\n",
            "Installing collected packages: jinja2, eli5\n",
            "  Attempting uninstall: jinja2\n",
            "    Found existing installation: Jinja2 2.11.3\n",
            "    Uninstalling Jinja2-2.11.3:\n",
            "      Successfully uninstalled Jinja2-2.11.3\n",
            "\u001b[31mERROR: pip's dependency resolver does not currently take into account all the packages that are installed. This behaviour is the source of the following dependency conflicts.\n",
            "notebook 5.7.16 requires jinja2<=3.0.0, but you have jinja2 3.1.2 which is incompatible.\n",
            "flask 1.1.4 requires Jinja2<3.0,>=2.10.1, but you have jinja2 3.1.2 which is incompatible.\u001b[0m\u001b[31m\n",
            "\u001b[0mSuccessfully installed eli5-0.13.0 jinja2-3.1.2\n"
          ]
        }
      ]
    },
    {
      "cell_type": "code",
      "source": [
        "# 라이브러리\n",
        "\n",
        "from sklearn.model_selection import train_test_split\n",
        "from sklearn.metrics import accuracy_score\n",
        "import seaborn as sns\n",
        "from sklearn.tree import DecisionTreeClassifier\n",
        "from sklearn.pipeline import make_pipeline\n",
        "from category_encoders import OrdinalEncoder\n",
        "from sklearn.metrics import confusion_matrix, ConfusionMatrixDisplay\n",
        "import graphviz\n",
        "from sklearn.tree import export_graphviz\n",
        "import matplotlib.pyplot as plt\n",
        "from xgboost import XGBClassifier\n",
        "from imblearn.over_sampling import SMOTE\n",
        "import eli5\n",
        "from eli5.sklearn import PermutationImportance\n",
        "from sklearn.metrics import classification_report, roc_auc_score\n",
        "from sklearn.model_selection import RandomizedSearchCV\n",
        "from sklearn.ensemble import RandomForestClassifier"
      ],
      "metadata": {
        "id": "13JK9CjjNl_v"
      },
      "execution_count": 12,
      "outputs": []
    },
    {
      "cell_type": "code",
      "source": [
        "target = 'is_starrable'\n",
        "features = kick.drop(columns=target).columns.to_list()"
      ],
      "metadata": {
        "id": "uM02cUqyNLPa"
      },
      "execution_count": 13,
      "outputs": []
    },
    {
      "cell_type": "code",
      "source": [
        "train, val = train_test_split(\n",
        "    kick, train_size=0.80, test_size=0.20, stratify=kick[target], random_state=2\n",
        ")\n",
        "\n",
        "X_train = train[features]\n",
        "y_train = train[target]\n",
        "X_val = val[features]\n",
        "y_val = val[target]"
      ],
      "metadata": {
        "id": "r53Esrr2NkVq"
      },
      "execution_count": 14,
      "outputs": []
    },
    {
      "cell_type": "code",
      "source": [
        "print(\"Baseline Score:\", kick[target].value_counts(normalize=True).max())\n",
        "#비현실적인 수치의 기준모델"
      ],
      "metadata": {
        "colab": {
          "base_uri": "https://localhost:8080/"
        },
        "id": "WbvIigqtPxCy",
        "outputId": "bd5df996-6bd6-4704-d758-1468b243b7ef"
      },
      "execution_count": 15,
      "outputs": [
        {
          "output_type": "stream",
          "name": "stdout",
          "text": [
            "Baseline Score: 0.9588152327221439\n"
          ]
        }
      ]
    },
    {
      "cell_type": "code",
      "source": [
        "kick[target].value_counts(normalize=True).plot.pie(autopct=\"%.3f%%\")"
      ],
      "metadata": {
        "colab": {
          "base_uri": "https://localhost:8080/",
          "height": 266
        },
        "id": "u2InkuFhYRd8",
        "outputId": "1c376922-0298-4a53-affd-97f180ffc6d7"
      },
      "execution_count": 16,
      "outputs": [
        {
          "output_type": "execute_result",
          "data": {
            "text/plain": [
              "<matplotlib.axes._subplots.AxesSubplot at 0x7f930be86a90>"
            ]
          },
          "metadata": {},
          "execution_count": 16
        },
        {
          "output_type": "display_data",
          "data": {
            "text/plain": [
              "<Figure size 432x288 with 1 Axes>"
            ],
            "image/png": "[encoded data removed]"
          },
          "metadata": {}
        }
      ]
    },
    {
      "cell_type": "code",
      "source": [
        "kick[target].describe()\n",
        "#타겟의 분포가 치우쳐져있다."
      ],
      "metadata": {
        "colab": {
          "base_uri": "https://localhost:8080/"
        },
        "id": "awb79v6yTaKY",
        "outputId": "4c3cea92-3d62-4825-ba75-bfdabaababf2"
      },
      "execution_count": 17,
      "outputs": [
        {
          "output_type": "execute_result",
          "data": {
            "text/plain": [
              "count      7090\n",
              "unique        2\n",
              "top       False\n",
              "freq       6798\n",
              "Name: is_starrable, dtype: object"
            ]
          },
          "metadata": {},
          "execution_count": 17
        }
      ]
    },
    {
      "cell_type": "code",
      "source": [
        "pipe = make_pipeline(\n",
        "    OrdinalEncoder(),\n",
        "    DecisionTreeClassifier(max_depth=6, random_state=2),\n",
        ")\n",
        "pipe.fit(X_train, y_train)\n",
        "print(\"검증 정확도\", pipe.score(X_val, y_val))"
      ],
      "metadata": {
        "colab": {
          "base_uri": "https://localhost:8080/"
        },
        "id": "e16Zb8PQUgaw",
        "outputId": "85e6fcc6-13b0-41bb-9e22-0286b84a5e81"
      },
      "execution_count": 18,
      "outputs": [
        {
          "output_type": "stream",
          "name": "stdout",
          "text": [
            "검증 정확도 1.0\n"
          ]
        }
      ]
    },
    {
      "cell_type": "code",
      "source": [
        "tree = pipe.named_steps[\"decisiontreeclassifier\"]\n",
        "\n",
        "dot_data = export_graphviz(\n",
        "    tree,\n",
        "    feature_names=X_train.columns,\n",
        "    class_names=[\"False\", \"True\"],\n",
        "    filled=True,\n",
        "    proportion=True,\n",
        ")\n",
        "\n",
        "graphviz.Source(dot_data)"
      ],
      "metadata": {
        "colab": {
          "base_uri": "https://localhost:8080/",
          "height": 1000
        },
        "id": "6EmGyOCEWWHY",
        "outputId": "16e93cae-27d8-4b2f-e4bd-e1ec2440c433"
      },
      "execution_count": 19,
      "outputs": [
        {
          "output_type": "execute_result",
          "data": {
            "text/plain": [
              "<graphviz.files.Source at 0x7f930bdb4250>"
            ],
            "image/svg+xml": "<?xml version=\"1.0\" encoding=\"UTF-8\" standalone=\"no\"?>\n<!DOCTYPE svg PUBLIC \"-//W3C//DTD SVG 1.1//EN\"\n \"http://www.w3.org/Graphics/SVG/1.1/DTD/svg11.dtd\">\n<!-- Generated by graphviz version 2.43.0 (0)\n -->\n<!-- Title: Tree Pages: 1 -->\n<svg width=\"691pt\" height=\"790pt\"\n viewBox=\"0.00 0.00 690.50 790.00\" xmlns=\"http://www.w3.org/2000/svg\" xmlns:xlink=\"http://www.w3.org/1999/xlink\">\n<g id=\"graph0\" class=\"graph\" transform=\"scale(1 1) rotate(0) translate(4 786)\">\n<title>Tree</title>\n<polygon fill=\"white\" stroke=\"transparent\" points=\"-4,4 -4,-786 686.5,-786 686.5,4 -4,4\"/>\n<!-- 0 -->\n<g id=\"node1\" class=\"node\">\n<title>0</title>\n<polygon fill=\"#e68642\" stroke=\"black\" points=\"212.5,-782 65.5,-782 65.5,-699 212.5,-699 212.5,-782\"/>\n<text text-anchor=\"middle\" x=\"139\" y=\"-766.8\" font-family=\"Helvetica,sans-Serif\" font-size=\"14.00\">state &lt;= 3.5</text>\n<text text-anchor=\"middle\" x=\"139\" y=\"-751.8\" font-family=\"Helvetica,sans-Serif\" font-size=\"14.00\">gini = 0.079</text>\n<text text-anchor=\"middle\" x=\"139\" y=\"-736.8\" font-family=\"Helvetica,sans-Serif\" font-size=\"14.00\">samples = 100.0%</text>\n<text text-anchor=\"middle\" x=\"139\" y=\"-721.8\" font-family=\"Helvetica,sans-Serif\" font-size=\"14.00\">value = [0.959, 0.041]</text>\n<text text-anchor=\"middle\" x=\"139\" y=\"-706.8\" font-family=\"Helvetica,sans-Serif\" font-size=\"14.00\">class = False</text>\n</g>\n<!-- 1 -->\n<g id=\"node2\" class=\"node\">\n<title>1</title>\n<polygon fill=\"#e58139\" stroke=\"black\" points=\"122,-655.5 0,-655.5 0,-587.5 122,-587.5 122,-655.5\"/>\n<text text-anchor=\"middle\" x=\"61\" y=\"-640.3\" font-family=\"Helvetica,sans-Serif\" font-size=\"14.00\">gini = 0.0</text>\n<text text-anchor=\"middle\" x=\"61\" y=\"-625.3\" font-family=\"Helvetica,sans-Serif\" font-size=\"14.00\">samples = 95.8%</text>\n<text text-anchor=\"middle\" x=\"61\" y=\"-610.3\" font-family=\"Helvetica,sans-Serif\" font-size=\"14.00\">value = [1.0, 0.0]</text>\n<text text-anchor=\"middle\" x=\"61\" y=\"-595.3\" font-family=\"Helvetica,sans-Serif\" font-size=\"14.00\">class = False</text>\n</g>\n<!-- 0&#45;&gt;1 -->\n<g id=\"edge1\" class=\"edge\">\n<title>0&#45;&gt;1</title>\n<path fill=\"none\" stroke=\"black\" d=\"M111.94,-698.91C104.43,-687.65 96.28,-675.42 88.74,-664.11\"/>\n<polygon fill=\"black\" stroke=\"black\" points=\"91.57,-662.05 83.11,-655.67 85.75,-665.93 91.57,-662.05\"/>\n<text text-anchor=\"middle\" x=\"78.21\" y=\"-676.48\" font-family=\"Helvetica,sans-Serif\" font-size=\"14.00\">True</text>\n</g>\n<!-- 2 -->\n<g id=\"node3\" class=\"node\">\n<title>2</title>\n<polygon fill=\"#3b9ee5\" stroke=\"black\" points=\"295.5,-663 140.5,-663 140.5,-580 295.5,-580 295.5,-663\"/>\n<text text-anchor=\"middle\" x=\"218\" y=\"-647.8\" font-family=\"Helvetica,sans-Serif\" font-size=\"14.00\">backers_count &lt;= 36.5</text>\n<text text-anchor=\"middle\" x=\"218\" y=\"-632.8\" font-family=\"Helvetica,sans-Serif\" font-size=\"14.00\">gini = 0.017</text>\n<text text-anchor=\"middle\" x=\"218\" y=\"-617.8\" font-family=\"Helvetica,sans-Serif\" font-size=\"14.00\">samples = 4.2%</text>\n<text text-anchor=\"middle\" x=\"218\" y=\"-602.8\" font-family=\"Helvetica,sans-Serif\" font-size=\"14.00\">value = [0.008, 0.992]</text>\n<text text-anchor=\"middle\" x=\"218\" y=\"-587.8\" font-family=\"Helvetica,sans-Serif\" font-size=\"14.00\">class = True</text>\n</g>\n<!-- 0&#45;&gt;2 -->\n<g id=\"edge2\" class=\"edge\">\n<title>0&#45;&gt;2</title>\n<path fill=\"none\" stroke=\"black\" d=\"M166.41,-698.91C172.41,-690.01 178.83,-680.51 185.03,-671.33\"/>\n<polygon fill=\"black\" stroke=\"black\" points=\"187.94,-673.27 190.64,-663.02 182.14,-669.35 187.94,-673.27\"/>\n<text text-anchor=\"middle\" x=\"195.4\" y=\"-683.86\" font-family=\"Helvetica,sans-Serif\" font-size=\"14.00\">False</text>\n</g>\n<!-- 3 -->\n<g id=\"node4\" class=\"node\">\n<title>3</title>\n<polygon fill=\"#399de5\" stroke=\"black\" points=\"199.5,-536.5 82.5,-536.5 82.5,-468.5 199.5,-468.5 199.5,-536.5\"/>\n<text text-anchor=\"middle\" x=\"141\" y=\"-521.3\" font-family=\"Helvetica,sans-Serif\" font-size=\"14.00\">gini = 0.0</text>\n<text text-anchor=\"middle\" x=\"141\" y=\"-506.3\" font-family=\"Helvetica,sans-Serif\" font-size=\"14.00\">samples = 2.8%</text>\n<text text-anchor=\"middle\" x=\"141\" y=\"-491.3\" font-family=\"Helvetica,sans-Serif\" font-size=\"14.00\">value = [0.0, 1.0]</text>\n<text text-anchor=\"middle\" x=\"141\" y=\"-476.3\" font-family=\"Helvetica,sans-Serif\" font-size=\"14.00\">class = True</text>\n</g>\n<!-- 2&#45;&gt;3 -->\n<g id=\"edge3\" class=\"edge\">\n<title>2&#45;&gt;3</title>\n<path fill=\"none\" stroke=\"black\" d=\"M191.29,-579.91C183.88,-568.65 175.83,-556.42 168.38,-545.11\"/>\n<polygon fill=\"black\" stroke=\"black\" points=\"171.25,-543.1 162.83,-536.67 165.4,-546.94 171.25,-543.1\"/>\n</g>\n<!-- 4 -->\n<g id=\"node5\" class=\"node\">\n<title>4</title>\n<polygon fill=\"#3ea0e6\" stroke=\"black\" points=\"372.5,-544 217.5,-544 217.5,-461 372.5,-461 372.5,-544\"/>\n<text text-anchor=\"middle\" x=\"295\" y=\"-528.8\" font-family=\"Helvetica,sans-Serif\" font-size=\"14.00\">backers_count &lt;= 37.5</text>\n<text text-anchor=\"middle\" x=\"295\" y=\"-513.8\" font-family=\"Helvetica,sans-Serif\" font-size=\"14.00\">gini = 0.051</text>\n<text text-anchor=\"middle\" x=\"295\" y=\"-498.8\" font-family=\"Helvetica,sans-Serif\" font-size=\"14.00\">samples = 1.4%</text>\n<text text-anchor=\"middle\" x=\"295\" y=\"-483.8\" font-family=\"Helvetica,sans-Serif\" font-size=\"14.00\">value = [0.026, 0.974]</text>\n<text text-anchor=\"middle\" x=\"295\" y=\"-468.8\" font-family=\"Helvetica,sans-Serif\" font-size=\"14.00\">class = True</text>\n</g>\n<!-- 2&#45;&gt;4 -->\n<g id=\"edge4\" class=\"edge\">\n<title>2&#45;&gt;4</title>\n<path fill=\"none\" stroke=\"black\" d=\"M244.71,-579.91C250.51,-571.1 256.7,-561.7 262.68,-552.61\"/>\n<polygon fill=\"black\" stroke=\"black\" points=\"265.76,-554.3 268.33,-544.02 259.91,-550.45 265.76,-554.3\"/>\n</g>\n<!-- 5 -->\n<g id=\"node6\" class=\"node\">\n<title>5</title>\n<polygon fill=\"#e58139\" stroke=\"black\" points=\"278.5,-417.5 161.5,-417.5 161.5,-349.5 278.5,-349.5 278.5,-417.5\"/>\n<text text-anchor=\"middle\" x=\"220\" y=\"-402.3\" font-family=\"Helvetica,sans-Serif\" font-size=\"14.00\">gini = 0.0</text>\n<text text-anchor=\"middle\" x=\"220\" y=\"-387.3\" font-family=\"Helvetica,sans-Serif\" font-size=\"14.00\">samples = 0.0%</text>\n<text text-anchor=\"middle\" x=\"220\" y=\"-372.3\" font-family=\"Helvetica,sans-Serif\" font-size=\"14.00\">value = [1.0, 0.0]</text>\n<text text-anchor=\"middle\" x=\"220\" y=\"-357.3\" font-family=\"Helvetica,sans-Serif\" font-size=\"14.00\">class = False</text>\n</g>\n<!-- 4&#45;&gt;5 -->\n<g id=\"edge5\" class=\"edge\">\n<title>4&#45;&gt;5</title>\n<path fill=\"none\" stroke=\"black\" d=\"M268.98,-460.91C261.76,-449.65 253.92,-437.42 246.67,-426.11\"/>\n<polygon fill=\"black\" stroke=\"black\" points=\"249.6,-424.2 241.26,-417.67 243.71,-427.97 249.6,-424.2\"/>\n</g>\n<!-- 6 -->\n<g id=\"node7\" class=\"node\">\n<title>6</title>\n<polygon fill=\"#3c9ee5\" stroke=\"black\" points=\"443.5,-425 296.5,-425 296.5,-342 443.5,-342 443.5,-425\"/>\n<text text-anchor=\"middle\" x=\"370\" y=\"-409.8\" font-family=\"Helvetica,sans-Serif\" font-size=\"14.00\">currency &lt;= 6.0</text>\n<text text-anchor=\"middle\" x=\"370\" y=\"-394.8\" font-family=\"Helvetica,sans-Serif\" font-size=\"14.00\">gini = 0.026</text>\n<text text-anchor=\"middle\" x=\"370\" y=\"-379.8\" font-family=\"Helvetica,sans-Serif\" font-size=\"14.00\">samples = 1.3%</text>\n<text text-anchor=\"middle\" x=\"370\" y=\"-364.8\" font-family=\"Helvetica,sans-Serif\" font-size=\"14.00\">value = [0.013, 0.987]</text>\n<text text-anchor=\"middle\" x=\"370\" y=\"-349.8\" font-family=\"Helvetica,sans-Serif\" font-size=\"14.00\">class = True</text>\n</g>\n<!-- 4&#45;&gt;6 -->\n<g id=\"edge6\" class=\"edge\">\n<title>4&#45;&gt;6</title>\n<path fill=\"none\" stroke=\"black\" d=\"M321.02,-460.91C326.66,-452.1 332.69,-442.7 338.52,-433.61\"/>\n<polygon fill=\"black\" stroke=\"black\" points=\"341.57,-435.33 344.03,-425.02 335.68,-431.55 341.57,-435.33\"/>\n</g>\n<!-- 7 -->\n<g id=\"node8\" class=\"node\">\n<title>7</title>\n<polygon fill=\"#399de5\" stroke=\"black\" points=\"326.5,-298.5 209.5,-298.5 209.5,-230.5 326.5,-230.5 326.5,-298.5\"/>\n<text text-anchor=\"middle\" x=\"268\" y=\"-283.3\" font-family=\"Helvetica,sans-Serif\" font-size=\"14.00\">gini = 0.0</text>\n<text text-anchor=\"middle\" x=\"268\" y=\"-268.3\" font-family=\"Helvetica,sans-Serif\" font-size=\"14.00\">samples = 1.2%</text>\n<text text-anchor=\"middle\" x=\"268\" y=\"-253.3\" font-family=\"Helvetica,sans-Serif\" font-size=\"14.00\">value = [0.0, 1.0]</text>\n<text text-anchor=\"middle\" x=\"268\" y=\"-238.3\" font-family=\"Helvetica,sans-Serif\" font-size=\"14.00\">class = True</text>\n</g>\n<!-- 6&#45;&gt;7 -->\n<g id=\"edge7\" class=\"edge\">\n<title>6&#45;&gt;7</title>\n<path fill=\"none\" stroke=\"black\" d=\"M334.61,-341.91C324.61,-330.43 313.72,-317.94 303.69,-306.44\"/>\n<polygon fill=\"black\" stroke=\"black\" points=\"306.12,-303.9 296.91,-298.67 300.85,-308.5 306.12,-303.9\"/>\n</g>\n<!-- 8 -->\n<g id=\"node9\" class=\"node\">\n<title>8</title>\n<polygon fill=\"#4fa8e8\" stroke=\"black\" points=\"601.5,-306 344.5,-306 344.5,-223 601.5,-223 601.5,-306\"/>\n<text text-anchor=\"middle\" x=\"473\" y=\"-290.8\" font-family=\"Helvetica,sans-Serif\" font-size=\"14.00\">converted_pledged_amount &lt;= 17659.5</text>\n<text text-anchor=\"middle\" x=\"473\" y=\"-275.8\" font-family=\"Helvetica,sans-Serif\" font-size=\"14.00\">gini = 0.18</text>\n<text text-anchor=\"middle\" x=\"473\" y=\"-260.8\" font-family=\"Helvetica,sans-Serif\" font-size=\"14.00\">samples = 0.2%</text>\n<text text-anchor=\"middle\" x=\"473\" y=\"-245.8\" font-family=\"Helvetica,sans-Serif\" font-size=\"14.00\">value = [0.1, 0.9]</text>\n<text text-anchor=\"middle\" x=\"473\" y=\"-230.8\" font-family=\"Helvetica,sans-Serif\" font-size=\"14.00\">class = True</text>\n</g>\n<!-- 6&#45;&gt;8 -->\n<g id=\"edge8\" class=\"edge\">\n<title>6&#45;&gt;8</title>\n<path fill=\"none\" stroke=\"black\" d=\"M405.74,-341.91C413.72,-332.83 422.27,-323.12 430.51,-313.77\"/>\n<polygon fill=\"black\" stroke=\"black\" points=\"433.35,-315.84 437.33,-306.02 428.09,-311.21 433.35,-315.84\"/>\n</g>\n<!-- 9 -->\n<g id=\"node10\" class=\"node\">\n<title>9</title>\n<polygon fill=\"#399de5\" stroke=\"black\" points=\"447.5,-179.5 330.5,-179.5 330.5,-111.5 447.5,-111.5 447.5,-179.5\"/>\n<text text-anchor=\"middle\" x=\"389\" y=\"-164.3\" font-family=\"Helvetica,sans-Serif\" font-size=\"14.00\">gini = 0.0</text>\n<text text-anchor=\"middle\" x=\"389\" y=\"-149.3\" font-family=\"Helvetica,sans-Serif\" font-size=\"14.00\">samples = 0.1%</text>\n<text text-anchor=\"middle\" x=\"389\" y=\"-134.3\" font-family=\"Helvetica,sans-Serif\" font-size=\"14.00\">value = [0.0, 1.0]</text>\n<text text-anchor=\"middle\" x=\"389\" y=\"-119.3\" font-family=\"Helvetica,sans-Serif\" font-size=\"14.00\">class = True</text>\n</g>\n<!-- 8&#45;&gt;9 -->\n<g id=\"edge9\" class=\"edge\">\n<title>8&#45;&gt;9</title>\n<path fill=\"none\" stroke=\"black\" d=\"M443.86,-222.91C435.78,-211.65 426.99,-199.42 418.87,-188.11\"/>\n<polygon fill=\"black\" stroke=\"black\" points=\"421.49,-185.75 412.81,-179.67 415.8,-189.83 421.49,-185.75\"/>\n</g>\n<!-- 10 -->\n<g id=\"node11\" class=\"node\">\n<title>10</title>\n<polygon fill=\"#ffffff\" stroke=\"black\" points=\"648,-187 466,-187 466,-104 648,-104 648,-187\"/>\n<text text-anchor=\"middle\" x=\"557\" y=\"-171.8\" font-family=\"Helvetica,sans-Serif\" font-size=\"14.00\">usd_pledged &lt;= 20466.879</text>\n<text text-anchor=\"middle\" x=\"557\" y=\"-156.8\" font-family=\"Helvetica,sans-Serif\" font-size=\"14.00\">gini = 0.5</text>\n<text text-anchor=\"middle\" x=\"557\" y=\"-141.8\" font-family=\"Helvetica,sans-Serif\" font-size=\"14.00\">samples = 0.0%</text>\n<text text-anchor=\"middle\" x=\"557\" y=\"-126.8\" font-family=\"Helvetica,sans-Serif\" font-size=\"14.00\">value = [0.5, 0.5]</text>\n<text text-anchor=\"middle\" x=\"557\" y=\"-111.8\" font-family=\"Helvetica,sans-Serif\" font-size=\"14.00\">class = False</text>\n</g>\n<!-- 8&#45;&gt;10 -->\n<g id=\"edge10\" class=\"edge\">\n<title>8&#45;&gt;10</title>\n<path fill=\"none\" stroke=\"black\" d=\"M502.14,-222.91C508.53,-214.01 515.35,-204.51 521.94,-195.33\"/>\n<polygon fill=\"black\" stroke=\"black\" points=\"524.92,-197.19 527.91,-187.02 519.23,-193.1 524.92,-197.19\"/>\n</g>\n<!-- 11 -->\n<g id=\"node12\" class=\"node\">\n<title>11</title>\n<polygon fill=\"#e58139\" stroke=\"black\" points=\"547.5,-68 430.5,-68 430.5,0 547.5,0 547.5,-68\"/>\n<text text-anchor=\"middle\" x=\"489\" y=\"-52.8\" font-family=\"Helvetica,sans-Serif\" font-size=\"14.00\">gini = 0.0</text>\n<text text-anchor=\"middle\" x=\"489\" y=\"-37.8\" font-family=\"Helvetica,sans-Serif\" font-size=\"14.00\">samples = 0.0%</text>\n<text text-anchor=\"middle\" x=\"489\" y=\"-22.8\" font-family=\"Helvetica,sans-Serif\" font-size=\"14.00\">value = [1.0, 0.0]</text>\n<text text-anchor=\"middle\" x=\"489\" y=\"-7.8\" font-family=\"Helvetica,sans-Serif\" font-size=\"14.00\">class = False</text>\n</g>\n<!-- 10&#45;&gt;11 -->\n<g id=\"edge11\" class=\"edge\">\n<title>10&#45;&gt;11</title>\n<path fill=\"none\" stroke=\"black\" d=\"M531.68,-103.73C526.24,-94.97 520.49,-85.7 515.02,-76.91\"/>\n<polygon fill=\"black\" stroke=\"black\" points=\"517.93,-74.95 509.68,-68.3 511.98,-78.64 517.93,-74.95\"/>\n</g>\n<!-- 12 -->\n<g id=\"node13\" class=\"node\">\n<title>12</title>\n<polygon fill=\"#399de5\" stroke=\"black\" points=\"682.5,-68 565.5,-68 565.5,0 682.5,0 682.5,-68\"/>\n<text text-anchor=\"middle\" x=\"624\" y=\"-52.8\" font-family=\"Helvetica,sans-Serif\" font-size=\"14.00\">gini = 0.0</text>\n<text text-anchor=\"middle\" x=\"624\" y=\"-37.8\" font-family=\"Helvetica,sans-Serif\" font-size=\"14.00\">samples = 0.0%</text>\n<text text-anchor=\"middle\" x=\"624\" y=\"-22.8\" font-family=\"Helvetica,sans-Serif\" font-size=\"14.00\">value = [0.0, 1.0]</text>\n<text text-anchor=\"middle\" x=\"624\" y=\"-7.8\" font-family=\"Helvetica,sans-Serif\" font-size=\"14.00\">class = True</text>\n</g>\n<!-- 10&#45;&gt;12 -->\n<g id=\"edge12\" class=\"edge\">\n<title>10&#45;&gt;12</title>\n<path fill=\"none\" stroke=\"black\" d=\"M581.95,-103.73C587.31,-94.97 592.98,-85.7 598.36,-76.91\"/>\n<polygon fill=\"black\" stroke=\"black\" points=\"601.39,-78.66 603.62,-68.3 595.42,-75 601.39,-78.66\"/>\n</g>\n</g>\n</svg>\n"
          },
          "metadata": {},
          "execution_count": 19
        }
      ]
    },
    {
      "cell_type": "markdown",
      "source": [
        "state를 기준으로 대부분의 샘플이 갈려버림"
      ],
      "metadata": {
        "id": "RkL86-JOWt8l"
      }
    },
    {
      "cell_type": "code",
      "source": [
        "X_train_drop = X_train.drop([\"state\"], axis=1)\n",
        "X_val_drop = X_val.drop([\"state\"], axis=1)"
      ],
      "metadata": {
        "id": "XglD41OiW78p"
      },
      "execution_count": 20,
      "outputs": []
    },
    {
      "cell_type": "code",
      "source": [
        "pipe = make_pipeline(\n",
        "    OrdinalEncoder(),\n",
        "    DecisionTreeClassifier(max_depth=6, random_state=2),\n",
        ")\n",
        "pipe.fit(X_train_drop, y_train)\n",
        "print(\"검증 정확도\", pipe.score(X_val_drop, y_val))"
      ],
      "metadata": {
        "colab": {
          "base_uri": "https://localhost:8080/"
        },
        "id": "nr7iVQFJXDKx",
        "outputId": "dc5f9ec1-eb31-47e3-961b-dcad82d36632"
      },
      "execution_count": 21,
      "outputs": [
        {
          "output_type": "stream",
          "name": "stdout",
          "text": [
            "검증 정확도 0.9901269393511989\n"
          ]
        }
      ]
    },
    {
      "cell_type": "code",
      "source": [
        "tree = pipe.named_steps[\"decisiontreeclassifier\"]\n",
        "\n",
        "dot_data = export_graphviz(\n",
        "    tree,\n",
        "    feature_names=X_train_drop.columns,\n",
        "    class_names=[\"False\", \"True\"],\n",
        "    filled=True,\n",
        "    proportion=True,\n",
        ")\n",
        "\n",
        "graphviz.Source(dot_data)"
      ],
      "metadata": {
        "colab": {
          "base_uri": "https://localhost:8080/",
          "height": 1000
        },
        "id": "iRUJwJNRXKUQ",
        "outputId": "cde54e54-7069-4657-8fa5-b2c1b2f05336"
      },
      "execution_count": 22,
      "outputs": [
        {
          "output_type": "execute_result",
          "data": {
            "text/plain": [
              "<graphviz.files.Source at 0x7f930b908fd0>"
            ],
            "image/svg+xml": "<?xml version=\"1.0\" encoding=\"UTF-8\" standalone=\"no\"?>\n<!DOCTYPE svg PUBLIC \"-//W3C//DTD SVG 1.1//EN\"\n \"http://www.w3.org/Graphics/SVG/1.1/DTD/svg11.dtd\">\n<!-- Generated by graphviz version 2.43.0 (0)\n -->\n<!-- Title: Tree Pages: 1 -->\n<svg width=\"1533pt\" height=\"790pt\"\n viewBox=\"0.00 0.00 1533.00 790.00\" xmlns=\"http://www.w3.org/2000/svg\" xmlns:xlink=\"http://www.w3.org/1999/xlink\">\n<g id=\"graph0\" class=\"graph\" transform=\"scale(1 1) rotate(0) translate(4 786)\">\n<title>Tree</title>\n<polygon fill=\"white\" stroke=\"transparent\" points=\"-4,4 -4,-786 1529,-786 1529,4 -4,4\"/>\n<!-- 0 -->\n<g id=\"node1\" class=\"node\">\n<title>0</title>\n<polygon fill=\"#e68642\" stroke=\"black\" points=\"1061,-782 900,-782 900,-699 1061,-699 1061,-782\"/>\n<text text-anchor=\"middle\" x=\"980.5\" y=\"-766.8\" font-family=\"Helvetica,sans-Serif\" font-size=\"14.00\">category_name &lt;= 13.5</text>\n<text text-anchor=\"middle\" x=\"980.5\" y=\"-751.8\" font-family=\"Helvetica,sans-Serif\" font-size=\"14.00\">gini = 0.079</text>\n<text text-anchor=\"middle\" x=\"980.5\" y=\"-736.8\" font-family=\"Helvetica,sans-Serif\" font-size=\"14.00\">samples = 100.0%</text>\n<text text-anchor=\"middle\" x=\"980.5\" y=\"-721.8\" font-family=\"Helvetica,sans-Serif\" font-size=\"14.00\">value = [0.959, 0.041]</text>\n<text text-anchor=\"middle\" x=\"980.5\" y=\"-706.8\" font-family=\"Helvetica,sans-Serif\" font-size=\"14.00\">class = False</text>\n</g>\n<!-- 1 -->\n<g id=\"node2\" class=\"node\">\n<title>1</title>\n<polygon fill=\"#e68640\" stroke=\"black\" points=\"974,-663 817,-663 817,-580 974,-580 974,-663\"/>\n<text text-anchor=\"middle\" x=\"895.5\" y=\"-647.8\" font-family=\"Helvetica,sans-Serif\" font-size=\"14.00\">category_parent &lt;= 4.5</text>\n<text text-anchor=\"middle\" x=\"895.5\" y=\"-632.8\" font-family=\"Helvetica,sans-Serif\" font-size=\"14.00\">gini = 0.069</text>\n<text text-anchor=\"middle\" x=\"895.5\" y=\"-617.8\" font-family=\"Helvetica,sans-Serif\" font-size=\"14.00\">samples = 99.4%</text>\n<text text-anchor=\"middle\" x=\"895.5\" y=\"-602.8\" font-family=\"Helvetica,sans-Serif\" font-size=\"14.00\">value = [0.964, 0.036]</text>\n<text text-anchor=\"middle\" x=\"895.5\" y=\"-587.8\" font-family=\"Helvetica,sans-Serif\" font-size=\"14.00\">class = False</text>\n</g>\n<!-- 0&#45;&gt;1 -->\n<g id=\"edge1\" class=\"edge\">\n<title>0&#45;&gt;1</title>\n<path fill=\"none\" stroke=\"black\" d=\"M951.01,-698.91C944.55,-690.01 937.64,-680.51 930.98,-671.33\"/>\n<polygon fill=\"black\" stroke=\"black\" points=\"933.65,-669.05 924.94,-663.02 927.98,-673.17 933.65,-669.05\"/>\n<text text-anchor=\"middle\" x=\"921.03\" y=\"-684.01\" font-family=\"Helvetica,sans-Serif\" font-size=\"14.00\">True</text>\n</g>\n<!-- 30 -->\n<g id=\"node31\" class=\"node\">\n<title>30</title>\n<polygon fill=\"#3fa0e6\" stroke=\"black\" points=\"1139,-663 992,-663 992,-580 1139,-580 1139,-663\"/>\n<text text-anchor=\"middle\" x=\"1065.5\" y=\"-647.8\" font-family=\"Helvetica,sans-Serif\" font-size=\"14.00\">spotlight &lt;= 0.5</text>\n<text text-anchor=\"middle\" x=\"1065.5\" y=\"-632.8\" font-family=\"Helvetica,sans-Serif\" font-size=\"14.00\">gini = 0.061</text>\n<text text-anchor=\"middle\" x=\"1065.5\" y=\"-617.8\" font-family=\"Helvetica,sans-Serif\" font-size=\"14.00\">samples = 0.6%</text>\n<text text-anchor=\"middle\" x=\"1065.5\" y=\"-602.8\" font-family=\"Helvetica,sans-Serif\" font-size=\"14.00\">value = [0.031, 0.969]</text>\n<text text-anchor=\"middle\" x=\"1065.5\" y=\"-587.8\" font-family=\"Helvetica,sans-Serif\" font-size=\"14.00\">class = True</text>\n</g>\n<!-- 0&#45;&gt;30 -->\n<g id=\"edge30\" class=\"edge\">\n<title>0&#45;&gt;30</title>\n<path fill=\"none\" stroke=\"black\" d=\"M1009.99,-698.91C1016.45,-690.01 1023.36,-680.51 1030.02,-671.33\"/>\n<polygon fill=\"black\" stroke=\"black\" points=\"1033.02,-673.17 1036.06,-663.02 1027.35,-669.05 1033.02,-673.17\"/>\n<text text-anchor=\"middle\" x=\"1039.97\" y=\"-684.01\" font-family=\"Helvetica,sans-Serif\" font-size=\"14.00\">False</text>\n</g>\n<!-- 2 -->\n<g id=\"node3\" class=\"node\">\n<title>2</title>\n<polygon fill=\"#e5823b\" stroke=\"black\" points=\"770.5,-544 638.5,-544 638.5,-461 770.5,-461 770.5,-544\"/>\n<text text-anchor=\"middle\" x=\"704.5\" y=\"-528.8\" font-family=\"Helvetica,sans-Serif\" font-size=\"14.00\">spotlight &lt;= 0.5</text>\n<text text-anchor=\"middle\" x=\"704.5\" y=\"-513.8\" font-family=\"Helvetica,sans-Serif\" font-size=\"14.00\">gini = 0.019</text>\n<text text-anchor=\"middle\" x=\"704.5\" y=\"-498.8\" font-family=\"Helvetica,sans-Serif\" font-size=\"14.00\">samples = 66.7%</text>\n<text text-anchor=\"middle\" x=\"704.5\" y=\"-483.8\" font-family=\"Helvetica,sans-Serif\" font-size=\"14.00\">value = [0.99, 0.01]</text>\n<text text-anchor=\"middle\" x=\"704.5\" y=\"-468.8\" font-family=\"Helvetica,sans-Serif\" font-size=\"14.00\">class = False</text>\n</g>\n<!-- 1&#45;&gt;2 -->\n<g id=\"edge2\" class=\"edge\">\n<title>1&#45;&gt;2</title>\n<path fill=\"none\" stroke=\"black\" d=\"M829.23,-579.91C813.09,-570.02 795.7,-559.37 779.19,-549.25\"/>\n<polygon fill=\"black\" stroke=\"black\" points=\"781,-546.26 770.65,-544.02 777.35,-552.23 781,-546.26\"/>\n</g>\n<!-- 13 -->\n<g id=\"node14\" class=\"node\">\n<title>13</title>\n<polygon fill=\"#e88d4c\" stroke=\"black\" points=\"977,-544 824,-544 824,-461 977,-461 977,-544\"/>\n<text text-anchor=\"middle\" x=\"900.5\" y=\"-528.8\" font-family=\"Helvetica,sans-Serif\" font-size=\"14.00\">category_name &lt;= 7.0</text>\n<text text-anchor=\"middle\" x=\"900.5\" y=\"-513.8\" font-family=\"Helvetica,sans-Serif\" font-size=\"14.00\">gini = 0.163</text>\n<text text-anchor=\"middle\" x=\"900.5\" y=\"-498.8\" font-family=\"Helvetica,sans-Serif\" font-size=\"14.00\">samples = 32.8%</text>\n<text text-anchor=\"middle\" x=\"900.5\" y=\"-483.8\" font-family=\"Helvetica,sans-Serif\" font-size=\"14.00\">value = [0.911, 0.089]</text>\n<text text-anchor=\"middle\" x=\"900.5\" y=\"-468.8\" font-family=\"Helvetica,sans-Serif\" font-size=\"14.00\">class = False</text>\n</g>\n<!-- 1&#45;&gt;13 -->\n<g id=\"edge13\" class=\"edge\">\n<title>1&#45;&gt;13</title>\n<path fill=\"none\" stroke=\"black\" d=\"M897.23,-579.91C897.59,-571.56 897.97,-562.67 898.34,-554.02\"/>\n<polygon fill=\"black\" stroke=\"black\" points=\"901.84,-554.16 898.77,-544.02 894.84,-553.86 901.84,-554.16\"/>\n</g>\n<!-- 3 -->\n<g id=\"node4\" class=\"node\">\n<title>3</title>\n<polygon fill=\"#e6843d\" stroke=\"black\" points=\"621,-425 464,-425 464,-342 621,-342 621,-425\"/>\n<text text-anchor=\"middle\" x=\"542.5\" y=\"-409.8\" font-family=\"Helvetica,sans-Serif\" font-size=\"14.00\">category_parent &lt;= 3.5</text>\n<text text-anchor=\"middle\" x=\"542.5\" y=\"-394.8\" font-family=\"Helvetica,sans-Serif\" font-size=\"14.00\">gini = 0.04</text>\n<text text-anchor=\"middle\" x=\"542.5\" y=\"-379.8\" font-family=\"Helvetica,sans-Serif\" font-size=\"14.00\">samples = 32.3%</text>\n<text text-anchor=\"middle\" x=\"542.5\" y=\"-364.8\" font-family=\"Helvetica,sans-Serif\" font-size=\"14.00\">value = [0.98, 0.02]</text>\n<text text-anchor=\"middle\" x=\"542.5\" y=\"-349.8\" font-family=\"Helvetica,sans-Serif\" font-size=\"14.00\">class = False</text>\n</g>\n<!-- 2&#45;&gt;3 -->\n<g id=\"edge3\" class=\"edge\">\n<title>2&#45;&gt;3</title>\n<path fill=\"none\" stroke=\"black\" d=\"M648.29,-460.91C634.98,-451.29 620.67,-440.95 607.01,-431.09\"/>\n<polygon fill=\"black\" stroke=\"black\" points=\"608.76,-428.04 598.61,-425.02 604.66,-433.71 608.76,-428.04\"/>\n</g>\n<!-- 12 -->\n<g id=\"node13\" class=\"node\">\n<title>12</title>\n<polygon fill=\"#e58139\" stroke=\"black\" points=\"765.5,-417.5 643.5,-417.5 643.5,-349.5 765.5,-349.5 765.5,-417.5\"/>\n<text text-anchor=\"middle\" x=\"704.5\" y=\"-402.3\" font-family=\"Helvetica,sans-Serif\" font-size=\"14.00\">gini = 0.0</text>\n<text text-anchor=\"middle\" x=\"704.5\" y=\"-387.3\" font-family=\"Helvetica,sans-Serif\" font-size=\"14.00\">samples = 34.3%</text>\n<text text-anchor=\"middle\" x=\"704.5\" y=\"-372.3\" font-family=\"Helvetica,sans-Serif\" font-size=\"14.00\">value = [1.0, 0.0]</text>\n<text text-anchor=\"middle\" x=\"704.5\" y=\"-357.3\" font-family=\"Helvetica,sans-Serif\" font-size=\"14.00\">class = False</text>\n</g>\n<!-- 2&#45;&gt;12 -->\n<g id=\"edge12\" class=\"edge\">\n<title>2&#45;&gt;12</title>\n<path fill=\"none\" stroke=\"black\" d=\"M704.5,-460.91C704.5,-450.2 704.5,-438.62 704.5,-427.78\"/>\n<polygon fill=\"black\" stroke=\"black\" points=\"708,-427.67 704.5,-417.67 701,-427.67 708,-427.67\"/>\n</g>\n<!-- 4 -->\n<g id=\"node5\" class=\"node\">\n<title>4</title>\n<polygon fill=\"#e5833c\" stroke=\"black\" points=\"465,-306 318,-306 318,-223 465,-223 465,-306\"/>\n<text text-anchor=\"middle\" x=\"391.5\" y=\"-290.8\" font-family=\"Helvetica,sans-Serif\" font-size=\"14.00\">goal &lt;= 625.0</text>\n<text text-anchor=\"middle\" x=\"391.5\" y=\"-275.8\" font-family=\"Helvetica,sans-Serif\" font-size=\"14.00\">gini = 0.031</text>\n<text text-anchor=\"middle\" x=\"391.5\" y=\"-260.8\" font-family=\"Helvetica,sans-Serif\" font-size=\"14.00\">samples = 32.2%</text>\n<text text-anchor=\"middle\" x=\"391.5\" y=\"-245.8\" font-family=\"Helvetica,sans-Serif\" font-size=\"14.00\">value = [0.984, 0.016]</text>\n<text text-anchor=\"middle\" x=\"391.5\" y=\"-230.8\" font-family=\"Helvetica,sans-Serif\" font-size=\"14.00\">class = False</text>\n</g>\n<!-- 3&#45;&gt;4 -->\n<g id=\"edge4\" class=\"edge\">\n<title>3&#45;&gt;4</title>\n<path fill=\"none\" stroke=\"black\" d=\"M490.11,-341.91C477.81,-332.38 464.61,-322.15 451.99,-312.37\"/>\n<polygon fill=\"black\" stroke=\"black\" points=\"453.84,-309.38 443.8,-306.02 449.56,-314.91 453.84,-309.38\"/>\n</g>\n<!-- 11 -->\n<g id=\"node12\" class=\"node\">\n<title>11</title>\n<polygon fill=\"#399de5\" stroke=\"black\" points=\"601,-298.5 484,-298.5 484,-230.5 601,-230.5 601,-298.5\"/>\n<text text-anchor=\"middle\" x=\"542.5\" y=\"-283.3\" font-family=\"Helvetica,sans-Serif\" font-size=\"14.00\">gini = 0.0</text>\n<text text-anchor=\"middle\" x=\"542.5\" y=\"-268.3\" font-family=\"Helvetica,sans-Serif\" font-size=\"14.00\">samples = 0.1%</text>\n<text text-anchor=\"middle\" x=\"542.5\" y=\"-253.3\" font-family=\"Helvetica,sans-Serif\" font-size=\"14.00\">value = [0.0, 1.0]</text>\n<text text-anchor=\"middle\" x=\"542.5\" y=\"-238.3\" font-family=\"Helvetica,sans-Serif\" font-size=\"14.00\">class = True</text>\n</g>\n<!-- 3&#45;&gt;11 -->\n<g id=\"edge11\" class=\"edge\">\n<title>3&#45;&gt;11</title>\n<path fill=\"none\" stroke=\"black\" d=\"M542.5,-341.91C542.5,-331.2 542.5,-319.62 542.5,-308.78\"/>\n<polygon fill=\"black\" stroke=\"black\" points=\"546,-308.67 542.5,-298.67 539,-308.67 546,-308.67\"/>\n</g>\n<!-- 5 -->\n<g id=\"node6\" class=\"node\">\n<title>5</title>\n<polygon fill=\"#e78a48\" stroke=\"black\" points=\"297,-187 150,-187 150,-104 297,-104 297,-187\"/>\n<text text-anchor=\"middle\" x=\"223.5\" y=\"-171.8\" font-family=\"Helvetica,sans-Serif\" font-size=\"14.00\">pledged &lt;= 320.5</text>\n<text text-anchor=\"middle\" x=\"223.5\" y=\"-156.8\" font-family=\"Helvetica,sans-Serif\" font-size=\"14.00\">gini = 0.129</text>\n<text text-anchor=\"middle\" x=\"223.5\" y=\"-141.8\" font-family=\"Helvetica,sans-Serif\" font-size=\"14.00\">samples = 1.3%</text>\n<text text-anchor=\"middle\" x=\"223.5\" y=\"-126.8\" font-family=\"Helvetica,sans-Serif\" font-size=\"14.00\">value = [0.931, 0.069]</text>\n<text text-anchor=\"middle\" x=\"223.5\" y=\"-111.8\" font-family=\"Helvetica,sans-Serif\" font-size=\"14.00\">class = False</text>\n</g>\n<!-- 4&#45;&gt;5 -->\n<g id=\"edge5\" class=\"edge\">\n<title>4&#45;&gt;5</title>\n<path fill=\"none\" stroke=\"black\" d=\"M333.21,-222.91C319.27,-213.2 304.28,-202.76 290,-192.81\"/>\n<polygon fill=\"black\" stroke=\"black\" points=\"291.89,-189.86 281.68,-187.02 287.89,-195.61 291.89,-189.86\"/>\n</g>\n<!-- 8 -->\n<g id=\"node9\" class=\"node\">\n<title>8</title>\n<polygon fill=\"#e5833c\" stroke=\"black\" points=\"468,-187 315,-187 315,-104 468,-104 468,-187\"/>\n<text text-anchor=\"middle\" x=\"391.5\" y=\"-171.8\" font-family=\"Helvetica,sans-Serif\" font-size=\"14.00\">category_name &lt;= 4.0</text>\n<text text-anchor=\"middle\" x=\"391.5\" y=\"-156.8\" font-family=\"Helvetica,sans-Serif\" font-size=\"14.00\">gini = 0.027</text>\n<text text-anchor=\"middle\" x=\"391.5\" y=\"-141.8\" font-family=\"Helvetica,sans-Serif\" font-size=\"14.00\">samples = 30.9%</text>\n<text text-anchor=\"middle\" x=\"391.5\" y=\"-126.8\" font-family=\"Helvetica,sans-Serif\" font-size=\"14.00\">value = [0.986, 0.014]</text>\n<text text-anchor=\"middle\" x=\"391.5\" y=\"-111.8\" font-family=\"Helvetica,sans-Serif\" font-size=\"14.00\">class = False</text>\n</g>\n<!-- 4&#45;&gt;8 -->\n<g id=\"edge8\" class=\"edge\">\n<title>4&#45;&gt;8</title>\n<path fill=\"none\" stroke=\"black\" d=\"M391.5,-222.91C391.5,-214.65 391.5,-205.86 391.5,-197.3\"/>\n<polygon fill=\"black\" stroke=\"black\" points=\"395,-197.02 391.5,-187.02 388,-197.02 395,-197.02\"/>\n</g>\n<!-- 6 -->\n<g id=\"node7\" class=\"node\">\n<title>6</title>\n<polygon fill=\"#e5833c\" stroke=\"black\" points=\"147,-68 0,-68 0,0 147,0 147,-68\"/>\n<text text-anchor=\"middle\" x=\"73.5\" y=\"-52.8\" font-family=\"Helvetica,sans-Serif\" font-size=\"14.00\">gini = 0.029</text>\n<text text-anchor=\"middle\" x=\"73.5\" y=\"-37.8\" font-family=\"Helvetica,sans-Serif\" font-size=\"14.00\">samples = 1.2%</text>\n<text text-anchor=\"middle\" x=\"73.5\" y=\"-22.8\" font-family=\"Helvetica,sans-Serif\" font-size=\"14.00\">value = [0.985, 0.015]</text>\n<text text-anchor=\"middle\" x=\"73.5\" y=\"-7.8\" font-family=\"Helvetica,sans-Serif\" font-size=\"14.00\">class = False</text>\n</g>\n<!-- 5&#45;&gt;6 -->\n<g id=\"edge6\" class=\"edge\">\n<title>5&#45;&gt;6</title>\n<path fill=\"none\" stroke=\"black\" d=\"M167.65,-103.73C154.53,-94.15 140.57,-83.96 127.53,-74.44\"/>\n<polygon fill=\"black\" stroke=\"black\" points=\"129.26,-71.37 119.12,-68.3 125.13,-77.02 129.26,-71.37\"/>\n</g>\n<!-- 7 -->\n<g id=\"node8\" class=\"node\">\n<title>7</title>\n<polygon fill=\"#6ab6ec\" stroke=\"black\" points=\"282,-68 165,-68 165,0 282,0 282,-68\"/>\n<text text-anchor=\"middle\" x=\"223.5\" y=\"-52.8\" font-family=\"Helvetica,sans-Serif\" font-size=\"14.00\">gini = 0.32</text>\n<text text-anchor=\"middle\" x=\"223.5\" y=\"-37.8\" font-family=\"Helvetica,sans-Serif\" font-size=\"14.00\">samples = 0.1%</text>\n<text text-anchor=\"middle\" x=\"223.5\" y=\"-22.8\" font-family=\"Helvetica,sans-Serif\" font-size=\"14.00\">value = [0.2, 0.8]</text>\n<text text-anchor=\"middle\" x=\"223.5\" y=\"-7.8\" font-family=\"Helvetica,sans-Serif\" font-size=\"14.00\">class = True</text>\n</g>\n<!-- 5&#45;&gt;7 -->\n<g id=\"edge7\" class=\"edge\">\n<title>5&#45;&gt;7</title>\n<path fill=\"none\" stroke=\"black\" d=\"M223.5,-103.73C223.5,-95.52 223.5,-86.86 223.5,-78.56\"/>\n<polygon fill=\"black\" stroke=\"black\" points=\"227,-78.3 223.5,-68.3 220,-78.3 227,-78.3\"/>\n</g>\n<!-- 9 -->\n<g id=\"node10\" class=\"node\">\n<title>9</title>\n<polygon fill=\"#e6843e\" stroke=\"black\" points=\"447,-68 300,-68 300,0 447,0 447,-68\"/>\n<text text-anchor=\"middle\" x=\"373.5\" y=\"-52.8\" font-family=\"Helvetica,sans-Serif\" font-size=\"14.00\">gini = 0.044</text>\n<text text-anchor=\"middle\" x=\"373.5\" y=\"-37.8\" font-family=\"Helvetica,sans-Serif\" font-size=\"14.00\">samples = 15.1%</text>\n<text text-anchor=\"middle\" x=\"373.5\" y=\"-22.8\" font-family=\"Helvetica,sans-Serif\" font-size=\"14.00\">value = [0.978, 0.022]</text>\n<text text-anchor=\"middle\" x=\"373.5\" y=\"-7.8\" font-family=\"Helvetica,sans-Serif\" font-size=\"14.00\">class = False</text>\n</g>\n<!-- 8&#45;&gt;9 -->\n<g id=\"edge9\" class=\"edge\">\n<title>8&#45;&gt;9</title>\n<path fill=\"none\" stroke=\"black\" d=\"M384.8,-103.73C383.43,-95.43 381.99,-86.67 380.62,-78.28\"/>\n<polygon fill=\"black\" stroke=\"black\" points=\"384.05,-77.6 378.97,-68.3 377.14,-78.73 384.05,-77.6\"/>\n</g>\n<!-- 10 -->\n<g id=\"node11\" class=\"node\">\n<title>10</title>\n<polygon fill=\"#e5823a\" stroke=\"black\" points=\"612,-68 465,-68 465,0 612,0 612,-68\"/>\n<text text-anchor=\"middle\" x=\"538.5\" y=\"-52.8\" font-family=\"Helvetica,sans-Serif\" font-size=\"14.00\">gini = 0.011</text>\n<text text-anchor=\"middle\" x=\"538.5\" y=\"-37.8\" font-family=\"Helvetica,sans-Serif\" font-size=\"14.00\">samples = 15.8%</text>\n<text text-anchor=\"middle\" x=\"538.5\" y=\"-22.8\" font-family=\"Helvetica,sans-Serif\" font-size=\"14.00\">value = [0.994, 0.006]</text>\n<text text-anchor=\"middle\" x=\"538.5\" y=\"-7.8\" font-family=\"Helvetica,sans-Serif\" font-size=\"14.00\">class = False</text>\n</g>\n<!-- 8&#45;&gt;10 -->\n<g id=\"edge10\" class=\"edge\">\n<title>8&#45;&gt;10</title>\n<path fill=\"none\" stroke=\"black\" d=\"M446.24,-103.73C459.09,-94.15 472.77,-83.96 485.55,-74.44\"/>\n<polygon fill=\"black\" stroke=\"black\" points=\"487.87,-77.08 493.8,-68.3 483.69,-71.47 487.87,-77.08\"/>\n</g>\n<!-- 14 -->\n<g id=\"node15\" class=\"node\">\n<title>14</title>\n<polygon fill=\"#40a0e6\" stroke=\"black\" points=\"974,-425 827,-425 827,-342 974,-342 974,-425\"/>\n<text text-anchor=\"middle\" x=\"900.5\" y=\"-409.8\" font-family=\"Helvetica,sans-Serif\" font-size=\"14.00\">spotlight &lt;= 0.5</text>\n<text text-anchor=\"middle\" x=\"900.5\" y=\"-394.8\" font-family=\"Helvetica,sans-Serif\" font-size=\"14.00\">gini = 0.062</text>\n<text text-anchor=\"middle\" x=\"900.5\" y=\"-379.8\" font-family=\"Helvetica,sans-Serif\" font-size=\"14.00\">samples = 2.7%</text>\n<text text-anchor=\"middle\" x=\"900.5\" y=\"-364.8\" font-family=\"Helvetica,sans-Serif\" font-size=\"14.00\">value = [0.032, 0.968]</text>\n<text text-anchor=\"middle\" x=\"900.5\" y=\"-349.8\" font-family=\"Helvetica,sans-Serif\" font-size=\"14.00\">class = True</text>\n</g>\n<!-- 13&#45;&gt;14 -->\n<g id=\"edge14\" class=\"edge\">\n<title>13&#45;&gt;14</title>\n<path fill=\"none\" stroke=\"black\" d=\"M900.5,-460.91C900.5,-452.65 900.5,-443.86 900.5,-435.3\"/>\n<polygon fill=\"black\" stroke=\"black\" points=\"904,-435.02 900.5,-425.02 897,-435.02 904,-435.02\"/>\n</g>\n<!-- 21 -->\n<g id=\"node22\" class=\"node\">\n<title>21</title>\n<polygon fill=\"#e5823b\" stroke=\"black\" points=\"1141,-425 994,-425 994,-342 1141,-342 1141,-425\"/>\n<text text-anchor=\"middle\" x=\"1067.5\" y=\"-409.8\" font-family=\"Helvetica,sans-Serif\" font-size=\"14.00\">country &lt;= 22.5</text>\n<text text-anchor=\"middle\" x=\"1067.5\" y=\"-394.8\" font-family=\"Helvetica,sans-Serif\" font-size=\"14.00\">gini = 0.019</text>\n<text text-anchor=\"middle\" x=\"1067.5\" y=\"-379.8\" font-family=\"Helvetica,sans-Serif\" font-size=\"14.00\">samples = 30.0%</text>\n<text text-anchor=\"middle\" x=\"1067.5\" y=\"-364.8\" font-family=\"Helvetica,sans-Serif\" font-size=\"14.00\">value = [0.991, 0.009]</text>\n<text text-anchor=\"middle\" x=\"1067.5\" y=\"-349.8\" font-family=\"Helvetica,sans-Serif\" font-size=\"14.00\">class = False</text>\n</g>\n<!-- 13&#45;&gt;21 -->\n<g id=\"edge21\" class=\"edge\">\n<title>13&#45;&gt;21</title>\n<path fill=\"none\" stroke=\"black\" d=\"M958.44,-460.91C972.3,-451.2 987.2,-440.76 1001.4,-430.81\"/>\n<polygon fill=\"black\" stroke=\"black\" points=\"1003.48,-433.63 1009.66,-425.02 999.46,-427.89 1003.48,-433.63\"/>\n</g>\n<!-- 15 -->\n<g id=\"node16\" class=\"node\">\n<title>15</title>\n<polygon fill=\"#3d9fe6\" stroke=\"black\" points=\"832,-306 677,-306 677,-223 832,-223 832,-306\"/>\n<text text-anchor=\"middle\" x=\"754.5\" y=\"-290.8\" font-family=\"Helvetica,sans-Serif\" font-size=\"14.00\">backers_count &lt;= 26.5</text>\n<text text-anchor=\"middle\" x=\"754.5\" y=\"-275.8\" font-family=\"Helvetica,sans-Serif\" font-size=\"14.00\">gini = 0.038</text>\n<text text-anchor=\"middle\" x=\"754.5\" y=\"-260.8\" font-family=\"Helvetica,sans-Serif\" font-size=\"14.00\">samples = 2.7%</text>\n<text text-anchor=\"middle\" x=\"754.5\" y=\"-245.8\" font-family=\"Helvetica,sans-Serif\" font-size=\"14.00\">value = [0.02, 0.98]</text>\n<text text-anchor=\"middle\" x=\"754.5\" y=\"-230.8\" font-family=\"Helvetica,sans-Serif\" font-size=\"14.00\">class = True</text>\n</g>\n<!-- 14&#45;&gt;15 -->\n<g id=\"edge15\" class=\"edge\">\n<title>14&#45;&gt;15</title>\n<path fill=\"none\" stroke=\"black\" d=\"M849.85,-341.91C837.96,-332.38 825.19,-322.15 812.99,-312.37\"/>\n<polygon fill=\"black\" stroke=\"black\" points=\"815.06,-309.54 805.06,-306.02 810.68,-315.01 815.06,-309.54\"/>\n</g>\n<!-- 20 -->\n<g id=\"node21\" class=\"node\">\n<title>20</title>\n<polygon fill=\"#e58139\" stroke=\"black\" points=\"967,-298.5 850,-298.5 850,-230.5 967,-230.5 967,-298.5\"/>\n<text text-anchor=\"middle\" x=\"908.5\" y=\"-283.3\" font-family=\"Helvetica,sans-Serif\" font-size=\"14.00\">gini = 0.0</text>\n<text text-anchor=\"middle\" x=\"908.5\" y=\"-268.3\" font-family=\"Helvetica,sans-Serif\" font-size=\"14.00\">samples = 0.0%</text>\n<text text-anchor=\"middle\" x=\"908.5\" y=\"-253.3\" font-family=\"Helvetica,sans-Serif\" font-size=\"14.00\">value = [1.0, 0.0]</text>\n<text text-anchor=\"middle\" x=\"908.5\" y=\"-238.3\" font-family=\"Helvetica,sans-Serif\" font-size=\"14.00\">class = False</text>\n</g>\n<!-- 14&#45;&gt;20 -->\n<g id=\"edge20\" class=\"edge\">\n<title>14&#45;&gt;20</title>\n<path fill=\"none\" stroke=\"black\" d=\"M903.28,-341.91C904.01,-331.2 904.8,-319.62 905.54,-308.78\"/>\n<polygon fill=\"black\" stroke=\"black\" points=\"909.04,-308.88 906.23,-298.67 902.06,-308.4 909.04,-308.88\"/>\n</g>\n<!-- 16 -->\n<g id=\"node17\" class=\"node\">\n<title>16</title>\n<polygon fill=\"#399de5\" stroke=\"black\" points=\"736,-179.5 619,-179.5 619,-111.5 736,-111.5 736,-179.5\"/>\n<text text-anchor=\"middle\" x=\"677.5\" y=\"-164.3\" font-family=\"Helvetica,sans-Serif\" font-size=\"14.00\">gini = 0.0</text>\n<text text-anchor=\"middle\" x=\"677.5\" y=\"-149.3\" font-family=\"Helvetica,sans-Serif\" font-size=\"14.00\">samples = 1.5%</text>\n<text text-anchor=\"middle\" x=\"677.5\" y=\"-134.3\" font-family=\"Helvetica,sans-Serif\" font-size=\"14.00\">value = [0.0, 1.0]</text>\n<text text-anchor=\"middle\" x=\"677.5\" y=\"-119.3\" font-family=\"Helvetica,sans-Serif\" font-size=\"14.00\">class = True</text>\n</g>\n<!-- 15&#45;&gt;16 -->\n<g id=\"edge16\" class=\"edge\">\n<title>15&#45;&gt;16</title>\n<path fill=\"none\" stroke=\"black\" d=\"M727.79,-222.91C720.38,-211.65 712.33,-199.42 704.88,-188.11\"/>\n<polygon fill=\"black\" stroke=\"black\" points=\"707.75,-186.1 699.33,-179.67 701.9,-189.94 707.75,-186.1\"/>\n</g>\n<!-- 17 -->\n<g id=\"node18\" class=\"node\">\n<title>17</title>\n<polygon fill=\"#42a1e6\" stroke=\"black\" points=\"901,-187 754,-187 754,-104 901,-104 901,-187\"/>\n<text text-anchor=\"middle\" x=\"827.5\" y=\"-171.8\" font-family=\"Helvetica,sans-Serif\" font-size=\"14.00\">pledged &lt;= 2630.5</text>\n<text text-anchor=\"middle\" x=\"827.5\" y=\"-156.8\" font-family=\"Helvetica,sans-Serif\" font-size=\"14.00\">gini = 0.083</text>\n<text text-anchor=\"middle\" x=\"827.5\" y=\"-141.8\" font-family=\"Helvetica,sans-Serif\" font-size=\"14.00\">samples = 1.2%</text>\n<text text-anchor=\"middle\" x=\"827.5\" y=\"-126.8\" font-family=\"Helvetica,sans-Serif\" font-size=\"14.00\">value = [0.043, 0.957]</text>\n<text text-anchor=\"middle\" x=\"827.5\" y=\"-111.8\" font-family=\"Helvetica,sans-Serif\" font-size=\"14.00\">class = True</text>\n</g>\n<!-- 15&#45;&gt;17 -->\n<g id=\"edge17\" class=\"edge\">\n<title>15&#45;&gt;17</title>\n<path fill=\"none\" stroke=\"black\" d=\"M779.83,-222.91C785.32,-214.1 791.19,-204.7 796.86,-195.61\"/>\n<polygon fill=\"black\" stroke=\"black\" points=\"799.89,-197.36 802.22,-187.02 793.95,-193.65 799.89,-197.36\"/>\n</g>\n<!-- 18 -->\n<g id=\"node19\" class=\"node\">\n<title>18</title>\n<polygon fill=\"#72b9ec\" stroke=\"black\" points=\"777,-68 630,-68 630,0 777,0 777,-68\"/>\n<text text-anchor=\"middle\" x=\"703.5\" y=\"-52.8\" font-family=\"Helvetica,sans-Serif\" font-size=\"14.00\">gini = 0.346</text>\n<text text-anchor=\"middle\" x=\"703.5\" y=\"-37.8\" font-family=\"Helvetica,sans-Serif\" font-size=\"14.00\">samples = 0.2%</text>\n<text text-anchor=\"middle\" x=\"703.5\" y=\"-22.8\" font-family=\"Helvetica,sans-Serif\" font-size=\"14.00\">value = [0.222, 0.778]</text>\n<text text-anchor=\"middle\" x=\"703.5\" y=\"-7.8\" font-family=\"Helvetica,sans-Serif\" font-size=\"14.00\">class = True</text>\n</g>\n<!-- 17&#45;&gt;18 -->\n<g id=\"edge18\" class=\"edge\">\n<title>17&#45;&gt;18</title>\n<path fill=\"none\" stroke=\"black\" d=\"M781.33,-103.73C770.69,-94.33 759.38,-84.35 748.78,-74.99\"/>\n<polygon fill=\"black\" stroke=\"black\" points=\"751.02,-72.3 741.21,-68.3 746.39,-77.54 751.02,-72.3\"/>\n</g>\n<!-- 19 -->\n<g id=\"node20\" class=\"node\">\n<title>19</title>\n<polygon fill=\"#3c9fe5\" stroke=\"black\" points=\"942,-68 795,-68 795,0 942,0 942,-68\"/>\n<text text-anchor=\"middle\" x=\"868.5\" y=\"-52.8\" font-family=\"Helvetica,sans-Serif\" font-size=\"14.00\">gini = 0.033</text>\n<text text-anchor=\"middle\" x=\"868.5\" y=\"-37.8\" font-family=\"Helvetica,sans-Serif\" font-size=\"14.00\">samples = 1.1%</text>\n<text text-anchor=\"middle\" x=\"868.5\" y=\"-22.8\" font-family=\"Helvetica,sans-Serif\" font-size=\"14.00\">value = [0.017, 0.983]</text>\n<text text-anchor=\"middle\" x=\"868.5\" y=\"-7.8\" font-family=\"Helvetica,sans-Serif\" font-size=\"14.00\">class = True</text>\n</g>\n<!-- 17&#45;&gt;19 -->\n<g id=\"edge19\" class=\"edge\">\n<title>17&#45;&gt;19</title>\n<path fill=\"none\" stroke=\"black\" d=\"M842.77,-103.73C845.94,-95.24 849.3,-86.28 852.5,-77.73\"/>\n<polygon fill=\"black\" stroke=\"black\" points=\"855.8,-78.89 856.03,-68.3 849.25,-76.44 855.8,-78.89\"/>\n</g>\n<!-- 22 -->\n<g id=\"node23\" class=\"node\">\n<title>22</title>\n<polygon fill=\"#e5823b\" stroke=\"black\" points=\"1141,-306 994,-306 994,-223 1141,-223 1141,-306\"/>\n<text text-anchor=\"middle\" x=\"1067.5\" y=\"-290.8\" font-family=\"Helvetica,sans-Serif\" font-size=\"14.00\">spotlight &lt;= 0.5</text>\n<text text-anchor=\"middle\" x=\"1067.5\" y=\"-275.8\" font-family=\"Helvetica,sans-Serif\" font-size=\"14.00\">gini = 0.017</text>\n<text text-anchor=\"middle\" x=\"1067.5\" y=\"-260.8\" font-family=\"Helvetica,sans-Serif\" font-size=\"14.00\">samples = 30.0%</text>\n<text text-anchor=\"middle\" x=\"1067.5\" y=\"-245.8\" font-family=\"Helvetica,sans-Serif\" font-size=\"14.00\">value = [0.991, 0.009]</text>\n<text text-anchor=\"middle\" x=\"1067.5\" y=\"-230.8\" font-family=\"Helvetica,sans-Serif\" font-size=\"14.00\">class = False</text>\n</g>\n<!-- 21&#45;&gt;22 -->\n<g id=\"edge22\" class=\"edge\">\n<title>21&#45;&gt;22</title>\n<path fill=\"none\" stroke=\"black\" d=\"M1067.5,-341.91C1067.5,-333.65 1067.5,-324.86 1067.5,-316.3\"/>\n<polygon fill=\"black\" stroke=\"black\" points=\"1071,-316.02 1067.5,-306.02 1064,-316.02 1071,-316.02\"/>\n</g>\n<!-- 27 -->\n<g id=\"node28\" class=\"node\">\n<title>27</title>\n<polygon fill=\"#ffffff\" stroke=\"black\" points=\"1409,-306 1254,-306 1254,-223 1409,-223 1409,-306\"/>\n<text text-anchor=\"middle\" x=\"1331.5\" y=\"-290.8\" font-family=\"Helvetica,sans-Serif\" font-size=\"14.00\">backers_count &lt;= 18.5</text>\n<text text-anchor=\"middle\" x=\"1331.5\" y=\"-275.8\" font-family=\"Helvetica,sans-Serif\" font-size=\"14.00\">gini = 0.5</text>\n<text text-anchor=\"middle\" x=\"1331.5\" y=\"-260.8\" font-family=\"Helvetica,sans-Serif\" font-size=\"14.00\">samples = 0.0%</text>\n<text text-anchor=\"middle\" x=\"1331.5\" y=\"-245.8\" font-family=\"Helvetica,sans-Serif\" font-size=\"14.00\">value = [0.5, 0.5]</text>\n<text text-anchor=\"middle\" x=\"1331.5\" y=\"-230.8\" font-family=\"Helvetica,sans-Serif\" font-size=\"14.00\">class = False</text>\n</g>\n<!-- 21&#45;&gt;27 -->\n<g id=\"edge27\" class=\"edge\">\n<title>21&#45;&gt;27</title>\n<path fill=\"none\" stroke=\"black\" d=\"M1141.04,-349.91C1173.11,-335.69 1210.96,-318.92 1244.43,-304.09\"/>\n<polygon fill=\"black\" stroke=\"black\" points=\"1246.02,-307.21 1253.75,-299.96 1243.19,-300.81 1246.02,-307.21\"/>\n</g>\n<!-- 23 -->\n<g id=\"node24\" class=\"node\">\n<title>23</title>\n<polygon fill=\"#e5833d\" stroke=\"black\" points=\"1114,-187 953,-187 953,-104 1114,-104 1114,-187\"/>\n<text text-anchor=\"middle\" x=\"1033.5\" y=\"-171.8\" font-family=\"Helvetica,sans-Serif\" font-size=\"14.00\">category_name &lt;= 10.5</text>\n<text text-anchor=\"middle\" x=\"1033.5\" y=\"-156.8\" font-family=\"Helvetica,sans-Serif\" font-size=\"14.00\">gini = 0.035</text>\n<text text-anchor=\"middle\" x=\"1033.5\" y=\"-141.8\" font-family=\"Helvetica,sans-Serif\" font-size=\"14.00\">samples = 14.9%</text>\n<text text-anchor=\"middle\" x=\"1033.5\" y=\"-126.8\" font-family=\"Helvetica,sans-Serif\" font-size=\"14.00\">value = [0.982, 0.018]</text>\n<text text-anchor=\"middle\" x=\"1033.5\" y=\"-111.8\" font-family=\"Helvetica,sans-Serif\" font-size=\"14.00\">class = False</text>\n</g>\n<!-- 22&#45;&gt;23 -->\n<g id=\"edge23\" class=\"edge\">\n<title>22&#45;&gt;23</title>\n<path fill=\"none\" stroke=\"black\" d=\"M1055.7,-222.91C1053.25,-214.47 1050.64,-205.48 1048.1,-196.74\"/>\n<polygon fill=\"black\" stroke=\"black\" points=\"1051.43,-195.65 1045.28,-187.02 1044.7,-197.6 1051.43,-195.65\"/>\n</g>\n<!-- 26 -->\n<g id=\"node27\" class=\"node\">\n<title>26</title>\n<polygon fill=\"#e58139\" stroke=\"black\" points=\"1254.5,-179.5 1132.5,-179.5 1132.5,-111.5 1254.5,-111.5 1254.5,-179.5\"/>\n<text text-anchor=\"middle\" x=\"1193.5\" y=\"-164.3\" font-family=\"Helvetica,sans-Serif\" font-size=\"14.00\">gini = 0.0</text>\n<text text-anchor=\"middle\" x=\"1193.5\" y=\"-149.3\" font-family=\"Helvetica,sans-Serif\" font-size=\"14.00\">samples = 15.1%</text>\n<text text-anchor=\"middle\" x=\"1193.5\" y=\"-134.3\" font-family=\"Helvetica,sans-Serif\" font-size=\"14.00\">value = [1.0, 0.0]</text>\n<text text-anchor=\"middle\" x=\"1193.5\" y=\"-119.3\" font-family=\"Helvetica,sans-Serif\" font-size=\"14.00\">class = False</text>\n</g>\n<!-- 22&#45;&gt;26 -->\n<g id=\"edge26\" class=\"edge\">\n<title>22&#45;&gt;26</title>\n<path fill=\"none\" stroke=\"black\" d=\"M1111.22,-222.91C1123.81,-211.21 1137.55,-198.46 1150.12,-186.78\"/>\n<polygon fill=\"black\" stroke=\"black\" points=\"1152.84,-189.04 1157.78,-179.67 1148.07,-183.91 1152.84,-189.04\"/>\n</g>\n<!-- 24 -->\n<g id=\"node25\" class=\"node\">\n<title>24</title>\n<polygon fill=\"#e5823a\" stroke=\"black\" points=\"1107,-68 960,-68 960,0 1107,0 1107,-68\"/>\n<text text-anchor=\"middle\" x=\"1033.5\" y=\"-52.8\" font-family=\"Helvetica,sans-Serif\" font-size=\"14.00\">gini = 0.014</text>\n<text text-anchor=\"middle\" x=\"1033.5\" y=\"-37.8\" font-family=\"Helvetica,sans-Serif\" font-size=\"14.00\">samples = 12.4%</text>\n<text text-anchor=\"middle\" x=\"1033.5\" y=\"-22.8\" font-family=\"Helvetica,sans-Serif\" font-size=\"14.00\">value = [0.993, 0.007]</text>\n<text text-anchor=\"middle\" x=\"1033.5\" y=\"-7.8\" font-family=\"Helvetica,sans-Serif\" font-size=\"14.00\">class = False</text>\n</g>\n<!-- 23&#45;&gt;24 -->\n<g id=\"edge24\" class=\"edge\">\n<title>23&#45;&gt;24</title>\n<path fill=\"none\" stroke=\"black\" d=\"M1033.5,-103.73C1033.5,-95.52 1033.5,-86.86 1033.5,-78.56\"/>\n<polygon fill=\"black\" stroke=\"black\" points=\"1037,-78.3 1033.5,-68.3 1030,-78.3 1037,-78.3\"/>\n</g>\n<!-- 25 -->\n<g id=\"node26\" class=\"node\">\n<title>25</title>\n<polygon fill=\"#e78b48\" stroke=\"black\" points=\"1272,-68 1125,-68 1125,0 1272,0 1272,-68\"/>\n<text text-anchor=\"middle\" x=\"1198.5\" y=\"-52.8\" font-family=\"Helvetica,sans-Serif\" font-size=\"14.00\">gini = 0.133</text>\n<text text-anchor=\"middle\" x=\"1198.5\" y=\"-37.8\" font-family=\"Helvetica,sans-Serif\" font-size=\"14.00\">samples = 2.5%</text>\n<text text-anchor=\"middle\" x=\"1198.5\" y=\"-22.8\" font-family=\"Helvetica,sans-Serif\" font-size=\"14.00\">value = [0.929, 0.071]</text>\n<text text-anchor=\"middle\" x=\"1198.5\" y=\"-7.8\" font-family=\"Helvetica,sans-Serif\" font-size=\"14.00\">class = False</text>\n</g>\n<!-- 23&#45;&gt;25 -->\n<g id=\"edge25\" class=\"edge\">\n<title>23&#45;&gt;25</title>\n<path fill=\"none\" stroke=\"black\" d=\"M1094.94,-103.73C1109.72,-93.92 1125.47,-83.46 1140.11,-73.75\"/>\n<polygon fill=\"black\" stroke=\"black\" points=\"1142.19,-76.57 1148.59,-68.13 1138.32,-70.74 1142.19,-76.57\"/>\n</g>\n<!-- 28 -->\n<g id=\"node29\" class=\"node\">\n<title>28</title>\n<polygon fill=\"#e58139\" stroke=\"black\" points=\"1390,-179.5 1273,-179.5 1273,-111.5 1390,-111.5 1390,-179.5\"/>\n<text text-anchor=\"middle\" x=\"1331.5\" y=\"-164.3\" font-family=\"Helvetica,sans-Serif\" font-size=\"14.00\">gini = 0.0</text>\n<text text-anchor=\"middle\" x=\"1331.5\" y=\"-149.3\" font-family=\"Helvetica,sans-Serif\" font-size=\"14.00\">samples = 0.0%</text>\n<text text-anchor=\"middle\" x=\"1331.5\" y=\"-134.3\" font-family=\"Helvetica,sans-Serif\" font-size=\"14.00\">value = [1.0, 0.0]</text>\n<text text-anchor=\"middle\" x=\"1331.5\" y=\"-119.3\" font-family=\"Helvetica,sans-Serif\" font-size=\"14.00\">class = False</text>\n</g>\n<!-- 27&#45;&gt;28 -->\n<g id=\"edge28\" class=\"edge\">\n<title>27&#45;&gt;28</title>\n<path fill=\"none\" stroke=\"black\" d=\"M1331.5,-222.91C1331.5,-212.2 1331.5,-200.62 1331.5,-189.78\"/>\n<polygon fill=\"black\" stroke=\"black\" points=\"1335,-189.67 1331.5,-179.67 1328,-189.67 1335,-189.67\"/>\n</g>\n<!-- 29 -->\n<g id=\"node30\" class=\"node\">\n<title>29</title>\n<polygon fill=\"#399de5\" stroke=\"black\" points=\"1525,-179.5 1408,-179.5 1408,-111.5 1525,-111.5 1525,-179.5\"/>\n<text text-anchor=\"middle\" x=\"1466.5\" y=\"-164.3\" font-family=\"Helvetica,sans-Serif\" font-size=\"14.00\">gini = 0.0</text>\n<text text-anchor=\"middle\" x=\"1466.5\" y=\"-149.3\" font-family=\"Helvetica,sans-Serif\" font-size=\"14.00\">samples = 0.0%</text>\n<text text-anchor=\"middle\" x=\"1466.5\" y=\"-134.3\" font-family=\"Helvetica,sans-Serif\" font-size=\"14.00\">value = [0.0, 1.0]</text>\n<text text-anchor=\"middle\" x=\"1466.5\" y=\"-119.3\" font-family=\"Helvetica,sans-Serif\" font-size=\"14.00\">class = True</text>\n</g>\n<!-- 27&#45;&gt;29 -->\n<g id=\"edge29\" class=\"edge\">\n<title>27&#45;&gt;29</title>\n<path fill=\"none\" stroke=\"black\" d=\"M1378.34,-222.91C1391.96,-211.1 1406.83,-198.22 1420.4,-186.45\"/>\n<polygon fill=\"black\" stroke=\"black\" points=\"1422.97,-188.86 1428.23,-179.67 1418.38,-183.57 1422.97,-188.86\"/>\n</g>\n<!-- 31 -->\n<g id=\"node32\" class=\"node\">\n<title>31</title>\n<polygon fill=\"#399de5\" stroke=\"black\" points=\"1120,-536.5 1003,-536.5 1003,-468.5 1120,-468.5 1120,-536.5\"/>\n<text text-anchor=\"middle\" x=\"1061.5\" y=\"-521.3\" font-family=\"Helvetica,sans-Serif\" font-size=\"14.00\">gini = 0.0</text>\n<text text-anchor=\"middle\" x=\"1061.5\" y=\"-506.3\" font-family=\"Helvetica,sans-Serif\" font-size=\"14.00\">samples = 0.5%</text>\n<text text-anchor=\"middle\" x=\"1061.5\" y=\"-491.3\" font-family=\"Helvetica,sans-Serif\" font-size=\"14.00\">value = [0.0, 1.0]</text>\n<text text-anchor=\"middle\" x=\"1061.5\" y=\"-476.3\" font-family=\"Helvetica,sans-Serif\" font-size=\"14.00\">class = True</text>\n</g>\n<!-- 30&#45;&gt;31 -->\n<g id=\"edge31\" class=\"edge\">\n<title>30&#45;&gt;31</title>\n<path fill=\"none\" stroke=\"black\" d=\"M1064.11,-579.91C1063.75,-569.2 1063.35,-557.62 1062.98,-546.78\"/>\n<polygon fill=\"black\" stroke=\"black\" points=\"1066.47,-546.54 1062.63,-536.67 1059.48,-546.78 1066.47,-546.54\"/>\n</g>\n<!-- 32 -->\n<g id=\"node33\" class=\"node\">\n<title>32</title>\n<polygon fill=\"#e58139\" stroke=\"black\" points=\"1255,-536.5 1138,-536.5 1138,-468.5 1255,-468.5 1255,-536.5\"/>\n<text text-anchor=\"middle\" x=\"1196.5\" y=\"-521.3\" font-family=\"Helvetica,sans-Serif\" font-size=\"14.00\">gini = 0.0</text>\n<text text-anchor=\"middle\" x=\"1196.5\" y=\"-506.3\" font-family=\"Helvetica,sans-Serif\" font-size=\"14.00\">samples = 0.0%</text>\n<text text-anchor=\"middle\" x=\"1196.5\" y=\"-491.3\" font-family=\"Helvetica,sans-Serif\" font-size=\"14.00\">value = [1.0, 0.0]</text>\n<text text-anchor=\"middle\" x=\"1196.5\" y=\"-476.3\" font-family=\"Helvetica,sans-Serif\" font-size=\"14.00\">class = False</text>\n</g>\n<!-- 30&#45;&gt;32 -->\n<g id=\"edge32\" class=\"edge\">\n<title>30&#45;&gt;32</title>\n<path fill=\"none\" stroke=\"black\" d=\"M1110.95,-579.91C1124.17,-568.1 1138.6,-555.22 1151.77,-543.45\"/>\n<polygon fill=\"black\" stroke=\"black\" points=\"1154.24,-545.94 1159.36,-536.67 1149.57,-540.72 1154.24,-545.94\"/>\n</g>\n</g>\n</svg>\n"
          },
          "metadata": {},
          "execution_count": 22
        }
      ]
    },
    {
      "cell_type": "code",
      "source": [
        "def plot_confusion_matrix(model, X_val_encoded, y_val):\n",
        "    if isinstance(model, XGBClassifier):\n",
        "        y_pred = model.predict(X_val_encoded, iteration_range=(0, model.best_iteration))\n",
        "    else:\n",
        "        y_pred = model.predict(X_val_encoded)\n",
        "    cm = confusion_matrix(y_val, y_pred)\n",
        "    disp = ConfusionMatrixDisplay(cm)\n",
        "    disp.plot(cmap='Blues')\n",
        "    plt.show()"
      ],
      "metadata": {
        "id": "Q5IMrvpNgKGH"
      },
      "execution_count": 23,
      "outputs": []
    },
    {
      "cell_type": "code",
      "source": [
        "plot_confusion_matrix(pipe, X_val_drop, y_val)"
      ],
      "metadata": {
        "colab": {
          "base_uri": "https://localhost:8080/",
          "height": 279
        },
        "id": "f8TI1xHGaiOp",
        "outputId": "e4aeb233-b5ec-4649-c9e9-733dfa21b9b9"
      },
      "execution_count": 24,
      "outputs": [
        {
          "output_type": "display_data",
          "data": {
            "text/plain": [
              "<Figure size 432x288 with 2 Axes>"
            ],
            "image/png": "[encoded data removed]"
          },
          "metadata": {
            "needs_background": "light"
          }
        }
      ]
    },
    {
      "cell_type": "code",
      "source": [
        "oe = OrdinalEncoder()\n",
        "X_train_encoded = oe.fit_transform(X_train_drop)\n",
        "X_val_encoded = oe.transform(X_val_drop)\n",
        "X_train_sampled, y_train_sampled = SMOTE(random_state=2).fit_resample(X_train_encoded, y_train)"
      ],
      "metadata": {
        "id": "xSvppZbYQrIU"
      },
      "execution_count": 25,
      "outputs": []
    },
    {
      "cell_type": "code",
      "source": [
        "DTC = DecisionTreeClassifier(max_depth=6, random_state=2)\n",
        "DTC.fit(X_train_sampled, y_train_sampled)\n",
        "plot_confusion_matrix(DTC, X_val_encoded, y_val)"
      ],
      "metadata": {
        "colab": {
          "base_uri": "https://localhost:8080/",
          "height": 279
        },
        "id": "U_kd7k2RRKVZ",
        "outputId": "4175914b-8870-4ec2-b4d5-8ab792c23f23"
      },
      "execution_count": 26,
      "outputs": [
        {
          "output_type": "display_data",
          "data": {
            "text/plain": [
              "<Figure size 432x288 with 2 Axes>"
            ],
            "image/png": "[encoded data removed]"
          },
          "metadata": {
            "needs_background": "light"
          }
        }
      ]
    },
    {
      "cell_type": "code",
      "source": [
        "print(\"검증 정확도\", DTC.score(X_val_encoded, y_val))"
      ],
      "metadata": {
        "colab": {
          "base_uri": "https://localhost:8080/"
        },
        "id": "57xO7U0PYrBI",
        "outputId": "bb97af13-84a5-4c8c-da63-ae059c39059f"
      },
      "execution_count": 27,
      "outputs": [
        {
          "output_type": "stream",
          "name": "stdout",
          "text": [
            "검증 정확도 0.9471086036671368\n"
          ]
        }
      ]
    },
    {
      "cell_type": "markdown",
      "source": [
        "모델 해석"
      ],
      "metadata": {
        "id": "JVLKplakrJxc"
      }
    },
    {
      "cell_type": "code",
      "source": [
        "permuter = PermutationImportance(\n",
        "    DTC,  # model\n",
        "    scoring=\"roc_auc\",  # metric\n",
        "    n_iter=10,  # 다른 random seed를 사용하여 10번 반복\n",
        "    random_state=2,\n",
        ")\n",
        "\n",
        "permuter.fit(X_val_encoded, y_val)"
      ],
      "metadata": {
        "colab": {
          "base_uri": "https://localhost:8080/"
        },
        "id": "ITsSPG6orIVs",
        "outputId": "3a455383-b045-442a-cbb1-b804e319c0f2"
      },
      "execution_count": 28,
      "outputs": [
        {
          "output_type": "execute_result",
          "data": {
            "text/plain": [
              "PermutationImportance(estimator=DecisionTreeClassifier(max_depth=6,\n",
              "                                                       random_state=2),\n",
              "                      n_iter=10, random_state=2, scoring='roc_auc')"
            ]
          },
          "metadata": {},
          "execution_count": 28
        }
      ]
    },
    {
      "cell_type": "code",
      "source": [
        "feature_names = X_val_encoded.columns.tolist()\n",
        "pi = pd.Series(permuter.feature_importances_, feature_names).sort_values()\n",
        "pi.plot.barh()\n",
        "plt.title(\"Permutation Importance\")"
      ],
      "metadata": {
        "colab": {
          "base_uri": "https://localhost:8080/",
          "height": 299
        },
        "id": "-aqerQsitFme",
        "outputId": "c6bfa98d-055d-4458-a99e-2f01276b2136"
      },
      "execution_count": 29,
      "outputs": [
        {
          "output_type": "execute_result",
          "data": {
            "text/plain": [
              "Text(0.5, 1.0, 'Permutation Importance')"
            ]
          },
          "metadata": {},
          "execution_count": 29
        },
        {
          "output_type": "display_data",
          "data": {
            "text/plain": [
              "<Figure size 432x288 with 1 Axes>"
            ],
            "image/png": "[encoded data removed]"
          },
          "metadata": {
            "needs_background": "light"
          }
        }
      ]
    },
    {
      "cell_type": "code",
      "source": [
        "eli5.show_weights(\n",
        "    permuter,\n",
        "    top=None,\n",
        "    feature_names=feature_names,\n",
        ")"
      ],
      "metadata": {
        "colab": {
          "base_uri": "https://localhost:8080/",
          "height": 225
        },
        "id": "JQIEnEM50QmH",
        "outputId": "6e3b1c28-d81d-4999-8148-27c7a79561cd"
      },
      "execution_count": 30,
      "outputs": [
        {
          "output_type": "execute_result",
          "data": {
            "text/plain": [
              "<IPython.core.display.HTML object>"
            ],
            "text/html": [
              "\n",
              "    <style>\n",
              "    table.eli5-weights tr:hover {\n",
              "        filter: brightness(85%);\n",
              "    }\n",
              "</style>\n",
              "\n",
              "\n",
              "\n",
              "    \n",
              "\n",
              "    \n",
              "\n",
              "    \n",
              "\n",
              "    \n",
              "\n",
              "    \n",
              "\n",
              "    \n",
              "\n",
              "\n",
              "    \n",
              "\n",
              "    \n",
              "\n",
              "    \n",
              "\n",
              "    \n",
              "\n",
              "    \n",
              "\n",
              "    \n",
              "\n",
              "\n",
              "    \n",
              "\n",
              "    \n",
              "\n",
              "    \n",
              "\n",
              "    \n",
              "\n",
              "    \n",
              "        <table class=\"eli5-weights eli5-feature-importances\" style=\"border-collapse: collapse; border: none; margin-top: 0em; table-layout: auto;\">\n",
              "    <thead>\n",
              "    <tr style=\"border: none;\">\n",
              "        <th style=\"padding: 0 1em 0 0.5em; text-align: right; border: none;\">Weight</th>\n",
              "        <th style=\"padding: 0 0.5em 0 0.5em; text-align: left; border: none;\">Feature</th>\n",
              "    </tr>\n",
              "    </thead>\n",
              "    <tbody>\n",
              "    \n",
              "        <tr style=\"background-color: hsl(120, 100.00%, 80.00%); border: none;\">\n",
              "            <td style=\"padding: 0 1em 0 0.5em; text-align: right; border: none;\">\n",
              "                0.3501\n",
              "                \n",
              "                    &plusmn; 0.0742\n",
              "                \n",
              "            </td>\n",
              "            <td style=\"padding: 0 0.5em 0 0.5em; text-align: left; border: none;\">\n",
              "                spotlight\n",
              "            </td>\n",
              "        </tr>\n",
              "    \n",
              "        <tr style=\"background-color: hsl(120, 100.00%, 85.79%); border: none;\">\n",
              "            <td style=\"padding: 0 1em 0 0.5em; text-align: right; border: none;\">\n",
              "                0.2149\n",
              "                \n",
              "                    &plusmn; 0.0417\n",
              "                \n",
              "            </td>\n",
              "            <td style=\"padding: 0 0.5em 0 0.5em; text-align: left; border: none;\">\n",
              "                category_parent\n",
              "            </td>\n",
              "        </tr>\n",
              "    \n",
              "        <tr style=\"background-color: hsl(120, 100.00%, 98.30%); border: none;\">\n",
              "            <td style=\"padding: 0 1em 0 0.5em; text-align: right; border: none;\">\n",
              "                0.0103\n",
              "                \n",
              "                    &plusmn; 0.0134\n",
              "                \n",
              "            </td>\n",
              "            <td style=\"padding: 0 0.5em 0 0.5em; text-align: left; border: none;\">\n",
              "                goal\n",
              "            </td>\n",
              "        </tr>\n",
              "    \n",
              "        <tr style=\"background-color: hsl(120, 100.00%, 98.60%); border: none;\">\n",
              "            <td style=\"padding: 0 1em 0 0.5em; text-align: right; border: none;\">\n",
              "                0.0078\n",
              "                \n",
              "                    &plusmn; 0.0031\n",
              "                \n",
              "            </td>\n",
              "            <td style=\"padding: 0 0.5em 0 0.5em; text-align: left; border: none;\">\n",
              "                converted_pledged_amount\n",
              "            </td>\n",
              "        </tr>\n",
              "    \n",
              "        <tr style=\"background-color: hsl(120, 100.00%, 99.26%); border: none;\">\n",
              "            <td style=\"padding: 0 1em 0 0.5em; text-align: right; border: none;\">\n",
              "                0.0031\n",
              "                \n",
              "                    &plusmn; 0.0025\n",
              "                \n",
              "            </td>\n",
              "            <td style=\"padding: 0 0.5em 0 0.5em; text-align: left; border: none;\">\n",
              "                category_name\n",
              "            </td>\n",
              "        </tr>\n",
              "    \n",
              "        <tr style=\"background-color: hsl(120, 100.00%, 99.80%); border: none;\">\n",
              "            <td style=\"padding: 0 1em 0 0.5em; text-align: right; border: none;\">\n",
              "                0.0005\n",
              "                \n",
              "                    &plusmn; 0.0178\n",
              "                \n",
              "            </td>\n",
              "            <td style=\"padding: 0 0.5em 0 0.5em; text-align: left; border: none;\">\n",
              "                usd_pledged\n",
              "            </td>\n",
              "        </tr>\n",
              "    \n",
              "        <tr style=\"background-color: hsl(0, 100.00%, 100.00%); border: none;\">\n",
              "            <td style=\"padding: 0 1em 0 0.5em; text-align: right; border: none;\">\n",
              "                0\n",
              "                \n",
              "                    &plusmn; 0.0000\n",
              "                \n",
              "            </td>\n",
              "            <td style=\"padding: 0 0.5em 0 0.5em; text-align: left; border: none;\">\n",
              "                staff_pick\n",
              "            </td>\n",
              "        </tr>\n",
              "    \n",
              "        <tr style=\"background-color: hsl(0, 100.00%, 100.00%); border: none;\">\n",
              "            <td style=\"padding: 0 1em 0 0.5em; text-align: right; border: none;\">\n",
              "                0\n",
              "                \n",
              "                    &plusmn; 0.0000\n",
              "                \n",
              "            </td>\n",
              "            <td style=\"padding: 0 0.5em 0 0.5em; text-align: left; border: none;\">\n",
              "                pledged\n",
              "            </td>\n",
              "        </tr>\n",
              "    \n",
              "        <tr style=\"background-color: hsl(0, 100.00%, 100.00%); border: none;\">\n",
              "            <td style=\"padding: 0 1em 0 0.5em; text-align: right; border: none;\">\n",
              "                0\n",
              "                \n",
              "                    &plusmn; 0.0000\n",
              "                \n",
              "            </td>\n",
              "            <td style=\"padding: 0 0.5em 0 0.5em; text-align: left; border: none;\">\n",
              "                currency\n",
              "            </td>\n",
              "        </tr>\n",
              "    \n",
              "        <tr style=\"background-color: hsl(0, 100.00%, 99.20%); border: none;\">\n",
              "            <td style=\"padding: 0 1em 0 0.5em; text-align: right; border: none;\">\n",
              "                -0.0036\n",
              "                \n",
              "                    &plusmn; 0.0081\n",
              "                \n",
              "            </td>\n",
              "            <td style=\"padding: 0 0.5em 0 0.5em; text-align: left; border: none;\">\n",
              "                country\n",
              "            </td>\n",
              "        </tr>\n",
              "    \n",
              "        <tr style=\"background-color: hsl(0, 100.00%, 99.07%); border: none;\">\n",
              "            <td style=\"padding: 0 1em 0 0.5em; text-align: right; border: none;\">\n",
              "                -0.0044\n",
              "                \n",
              "                    &plusmn; 0.0110\n",
              "                \n",
              "            </td>\n",
              "            <td style=\"padding: 0 0.5em 0 0.5em; text-align: left; border: none;\">\n",
              "                backers_count\n",
              "            </td>\n",
              "        </tr>\n",
              "    \n",
              "    \n",
              "    </tbody>\n",
              "</table>\n",
              "    \n",
              "\n",
              "    \n",
              "\n",
              "\n",
              "    \n",
              "\n",
              "    \n",
              "\n",
              "    \n",
              "\n",
              "    \n",
              "\n",
              "    \n",
              "\n",
              "    \n",
              "\n",
              "\n",
              "\n"
            ]
          },
          "metadata": {},
          "execution_count": 30
        }
      ]
    },
    {
      "cell_type": "markdown",
      "source": [
        "찐 모델 생성"
      ],
      "metadata": {
        "id": "qC73ainT5Krh"
      }
    },
    {
      "cell_type": "code",
      "source": [
        "X_train_encoded = X_train_encoded.drop([\"spotlight\"], axis=1)\n",
        "X_test = X_val_encoded.drop([\"spotlight\"], axis=1)\n",
        "X_train_sampled, y_train_sampled = SMOTE(random_state=2).fit_resample(X_train_encoded, y_train)"
      ],
      "metadata": {
        "id": "3BJefBucBWYE"
      },
      "execution_count": 31,
      "outputs": []
    },
    {
      "cell_type": "code",
      "source": [
        "params = {\n",
        "    \"randomforestclassifier__max_depth\": [2, 4, 6, 8, 10, 15, 20, 25, 30],\n",
        "    \"randomforestclassifier__max_features\": [2, 4, 6, 8, 10, 15, 20, 25, 30],\n",
        "    \"randomforestclassifier__min_samples_leaf\": [2, 4, 6, 8, 10, 15, 20, 25, 30],\n",
        "    \"randomforestclassifier__bootstrap\": [\"True\", \"False\"],\n",
        "    \"randomforestclassifier__class_weight\": ['None', 'balanced', 'balanced_subsample'],\n",
        "    \"randomforestclassifier__criterion\": ['gini', 'entropy', 'log_loss'],\n",
        "    \"randomforestclassifier__n_estimators\": [180, 190, 200, 210, 220],\n",
        "    \"randomforestclassifier__warm_start\": [\"True\", \"False\"]\n",
        "}\n"
      ],
      "metadata": {
        "id": "nMhe4vPP4n0j"
      },
      "execution_count": 32,
      "outputs": []
    },
    {
      "cell_type": "code",
      "source": [
        "param_pipe = make_pipeline(\n",
        "    RandomForestClassifier(random_state=2, oob_score=True, n_jobs=-1)\n",
        ")"
      ],
      "metadata": {
        "id": "PZfg0GPd4vck"
      },
      "execution_count": 33,
      "outputs": []
    },
    {
      "cell_type": "code",
      "source": [
        "randomized_search = RandomizedSearchCV(\n",
        "    param_pipe,\n",
        "    param_distributions=params,\n",
        "    scoring=\"roc_auc\",\n",
        "    n_iter=30,\n",
        "    cv=3,\n",
        "    verbose=3,\n",
        "    random_state=2,\n",
        ")\n",
        "randomized_search.fit(X_train_sampled, y_train_sampled)"
      ],
      "metadata": {
        "colab": {
          "base_uri": "https://localhost:8080/"
        },
        "id": "GHUQ5TAo6AOp",
        "outputId": "01eeda91-f4f8-4c02-f4c9-07e7502465e9"
      },
      "execution_count": 34,
      "outputs": [
        {
          "output_type": "stream",
          "name": "stdout",
          "text": [
            "Fitting 3 folds for each of 30 candidates, totalling 90 fits\n"
          ]
        },
        {
          "output_type": "stream",
          "name": "stderr",
          "text": [
            "/usr/local/lib/python3.8/dist-packages/sklearn/ensemble/_forest.py:765: UserWarning: class_weight presets \"balanced\" or \"balanced_subsample\" are not recommended for warm_start if the fitted data differs from the full dataset. In order to use \"balanced\" weights, use compute_class_weight (\"balanced\", classes, y). In place of y you can use a large enough sample of the full training set target to properly estimate the class frequency distributions. Pass the resulting weights as the class_weight parameter.\n",
            "  warn(\n"
          ]
        },
        {
          "output_type": "stream",
          "name": "stdout",
          "text": [
            "[CV 1/3] END randomforestclassifier__bootstrap=False, randomforestclassifier__class_weight=balanced, randomforestclassifier__criterion=gini, randomforestclassifier__max_depth=6, randomforestclassifier__max_features=4, randomforestclassifier__min_samples_leaf=20, randomforestclassifier__n_estimators=210, randomforestclassifier__warm_start=True;, score=0.979 total time=   4.6s\n"
          ]
        },
        {
          "output_type": "stream",
          "name": "stderr",
          "text": [
            "/usr/local/lib/python3.8/dist-packages/sklearn/ensemble/_forest.py:765: UserWarning: class_weight presets \"balanced\" or \"balanced_subsample\" are not recommended for warm_start if the fitted data differs from the full dataset. In order to use \"balanced\" weights, use compute_class_weight (\"balanced\", classes, y). In place of y you can use a large enough sample of the full training set target to properly estimate the class frequency distributions. Pass the resulting weights as the class_weight parameter.\n",
            "  warn(\n"
          ]
        },
        {
          "output_type": "stream",
          "name": "stdout",
          "text": [
            "[CV 2/3] END randomforestclassifier__bootstrap=False, randomforestclassifier__class_weight=balanced, randomforestclassifier__criterion=gini, randomforestclassifier__max_depth=6, randomforestclassifier__max_features=4, randomforestclassifier__min_samples_leaf=20, randomforestclassifier__n_estimators=210, randomforestclassifier__warm_start=True;, score=0.987 total time=   4.2s\n"
          ]
        },
        {
          "output_type": "stream",
          "name": "stderr",
          "text": [
            "/usr/local/lib/python3.8/dist-packages/sklearn/ensemble/_forest.py:765: UserWarning: class_weight presets \"balanced\" or \"balanced_subsample\" are not recommended for warm_start if the fitted data differs from the full dataset. In order to use \"balanced\" weights, use compute_class_weight (\"balanced\", classes, y). In place of y you can use a large enough sample of the full training set target to properly estimate the class frequency distributions. Pass the resulting weights as the class_weight parameter.\n",
            "  warn(\n"
          ]
        },
        {
          "output_type": "stream",
          "name": "stdout",
          "text": [
            "[CV 3/3] END randomforestclassifier__bootstrap=False, randomforestclassifier__class_weight=balanced, randomforestclassifier__criterion=gini, randomforestclassifier__max_depth=6, randomforestclassifier__max_features=4, randomforestclassifier__min_samples_leaf=20, randomforestclassifier__n_estimators=210, randomforestclassifier__warm_start=True;, score=0.985 total time=   3.1s\n"
          ]
        },
        {
          "output_type": "stream",
          "name": "stderr",
          "text": [
            "/usr/local/lib/python3.8/dist-packages/sklearn/ensemble/_forest.py:765: UserWarning: class_weight presets \"balanced\" or \"balanced_subsample\" are not recommended for warm_start if the fitted data differs from the full dataset. In order to use \"balanced\" weights, use compute_class_weight (\"balanced\", classes, y). In place of y you can use a large enough sample of the full training set target to properly estimate the class frequency distributions. Pass the resulting weights as the class_weight parameter.\n",
            "  warn(\n"
          ]
        },
        {
          "output_type": "stream",
          "name": "stdout",
          "text": [
            "[CV 1/3] END randomforestclassifier__bootstrap=False, randomforestclassifier__class_weight=balanced, randomforestclassifier__criterion=entropy, randomforestclassifier__max_depth=25, randomforestclassifier__max_features=10, randomforestclassifier__min_samples_leaf=25, randomforestclassifier__n_estimators=220, randomforestclassifier__warm_start=False;, score=0.983 total time=   8.7s\n"
          ]
        },
        {
          "output_type": "stream",
          "name": "stderr",
          "text": [
            "/usr/local/lib/python3.8/dist-packages/sklearn/ensemble/_forest.py:765: UserWarning: class_weight presets \"balanced\" or \"balanced_subsample\" are not recommended for warm_start if the fitted data differs from the full dataset. In order to use \"balanced\" weights, use compute_class_weight (\"balanced\", classes, y). In place of y you can use a large enough sample of the full training set target to properly estimate the class frequency distributions. Pass the resulting weights as the class_weight parameter.\n",
            "  warn(\n"
          ]
        },
        {
          "output_type": "stream",
          "name": "stdout",
          "text": [
            "[CV 2/3] END randomforestclassifier__bootstrap=False, randomforestclassifier__class_weight=balanced, randomforestclassifier__criterion=entropy, randomforestclassifier__max_depth=25, randomforestclassifier__max_features=10, randomforestclassifier__min_samples_leaf=25, randomforestclassifier__n_estimators=220, randomforestclassifier__warm_start=False;, score=0.993 total time=   9.2s\n"
          ]
        },
        {
          "output_type": "stream",
          "name": "stderr",
          "text": [
            "/usr/local/lib/python3.8/dist-packages/sklearn/ensemble/_forest.py:765: UserWarning: class_weight presets \"balanced\" or \"balanced_subsample\" are not recommended for warm_start if the fitted data differs from the full dataset. In order to use \"balanced\" weights, use compute_class_weight (\"balanced\", classes, y). In place of y you can use a large enough sample of the full training set target to properly estimate the class frequency distributions. Pass the resulting weights as the class_weight parameter.\n",
            "  warn(\n"
          ]
        },
        {
          "output_type": "stream",
          "name": "stdout",
          "text": [
            "[CV 3/3] END randomforestclassifier__bootstrap=False, randomforestclassifier__class_weight=balanced, randomforestclassifier__criterion=entropy, randomforestclassifier__max_depth=25, randomforestclassifier__max_features=10, randomforestclassifier__min_samples_leaf=25, randomforestclassifier__n_estimators=220, randomforestclassifier__warm_start=False;, score=0.992 total time=  13.4s\n"
          ]
        },
        {
          "output_type": "stream",
          "name": "stderr",
          "text": [
            "/usr/local/lib/python3.8/dist-packages/sklearn/ensemble/_forest.py:765: UserWarning: class_weight presets \"balanced\" or \"balanced_subsample\" are not recommended for warm_start if the fitted data differs from the full dataset. In order to use \"balanced\" weights, use compute_class_weight (\"balanced\", classes, y). In place of y you can use a large enough sample of the full training set target to properly estimate the class frequency distributions. Pass the resulting weights as the class_weight parameter.\n",
            "  warn(\n"
          ]
        },
        {
          "output_type": "stream",
          "name": "stdout",
          "text": [
            "[CV 1/3] END randomforestclassifier__bootstrap=False, randomforestclassifier__class_weight=balanced, randomforestclassifier__criterion=entropy, randomforestclassifier__max_depth=4, randomforestclassifier__max_features=6, randomforestclassifier__min_samples_leaf=15, randomforestclassifier__n_estimators=210, randomforestclassifier__warm_start=True;, score=0.960 total time=   3.2s\n"
          ]
        },
        {
          "output_type": "stream",
          "name": "stderr",
          "text": [
            "/usr/local/lib/python3.8/dist-packages/sklearn/ensemble/_forest.py:765: UserWarning: class_weight presets \"balanced\" or \"balanced_subsample\" are not recommended for warm_start if the fitted data differs from the full dataset. In order to use \"balanced\" weights, use compute_class_weight (\"balanced\", classes, y). In place of y you can use a large enough sample of the full training set target to properly estimate the class frequency distributions. Pass the resulting weights as the class_weight parameter.\n",
            "  warn(\n"
          ]
        },
        {
          "output_type": "stream",
          "name": "stdout",
          "text": [
            "[CV 2/3] END randomforestclassifier__bootstrap=False, randomforestclassifier__class_weight=balanced, randomforestclassifier__criterion=entropy, randomforestclassifier__max_depth=4, randomforestclassifier__max_features=6, randomforestclassifier__min_samples_leaf=15, randomforestclassifier__n_estimators=210, randomforestclassifier__warm_start=True;, score=0.962 total time=   2.0s\n"
          ]
        },
        {
          "output_type": "stream",
          "name": "stderr",
          "text": [
            "/usr/local/lib/python3.8/dist-packages/sklearn/ensemble/_forest.py:765: UserWarning: class_weight presets \"balanced\" or \"balanced_subsample\" are not recommended for warm_start if the fitted data differs from the full dataset. In order to use \"balanced\" weights, use compute_class_weight (\"balanced\", classes, y). In place of y you can use a large enough sample of the full training set target to properly estimate the class frequency distributions. Pass the resulting weights as the class_weight parameter.\n",
            "  warn(\n"
          ]
        },
        {
          "output_type": "stream",
          "name": "stdout",
          "text": [
            "[CV 3/3] END randomforestclassifier__bootstrap=False, randomforestclassifier__class_weight=balanced, randomforestclassifier__criterion=entropy, randomforestclassifier__max_depth=4, randomforestclassifier__max_features=6, randomforestclassifier__min_samples_leaf=15, randomforestclassifier__n_estimators=210, randomforestclassifier__warm_start=True;, score=0.966 total time=   2.0s\n",
            "[CV 1/3] END randomforestclassifier__bootstrap=False, randomforestclassifier__class_weight=None, randomforestclassifier__criterion=log_loss, randomforestclassifier__max_depth=15, randomforestclassifier__max_features=6, randomforestclassifier__min_samples_leaf=4, randomforestclassifier__n_estimators=200, randomforestclassifier__warm_start=True;, score=nan total time=   0.0s\n",
            "[CV 2/3] END randomforestclassifier__bootstrap=False, randomforestclassifier__class_weight=None, randomforestclassifier__criterion=log_loss, randomforestclassifier__max_depth=15, randomforestclassifier__max_features=6, randomforestclassifier__min_samples_leaf=4, randomforestclassifier__n_estimators=200, randomforestclassifier__warm_start=True;, score=nan total time=   0.0s\n",
            "[CV 3/3] END randomforestclassifier__bootstrap=False, randomforestclassifier__class_weight=None, randomforestclassifier__criterion=log_loss, randomforestclassifier__max_depth=15, randomforestclassifier__max_features=6, randomforestclassifier__min_samples_leaf=4, randomforestclassifier__n_estimators=200, randomforestclassifier__warm_start=True;, score=nan total time=   0.0s\n",
            "[CV 1/3] END randomforestclassifier__bootstrap=True, randomforestclassifier__class_weight=balanced, randomforestclassifier__criterion=entropy, randomforestclassifier__max_depth=15, randomforestclassifier__max_features=25, randomforestclassifier__min_samples_leaf=6, randomforestclassifier__n_estimators=210, randomforestclassifier__warm_start=False;, score=nan total time=   0.1s\n"
          ]
        },
        {
          "output_type": "stream",
          "name": "stderr",
          "text": [
            "/usr/local/lib/python3.8/dist-packages/sklearn/ensemble/_forest.py:765: UserWarning: class_weight presets \"balanced\" or \"balanced_subsample\" are not recommended for warm_start if the fitted data differs from the full dataset. In order to use \"balanced\" weights, use compute_class_weight (\"balanced\", classes, y). In place of y you can use a large enough sample of the full training set target to properly estimate the class frequency distributions. Pass the resulting weights as the class_weight parameter.\n",
            "  warn(\n",
            "/usr/local/lib/python3.8/dist-packages/sklearn/ensemble/_forest.py:765: UserWarning: class_weight presets \"balanced\" or \"balanced_subsample\" are not recommended for warm_start if the fitted data differs from the full dataset. In order to use \"balanced\" weights, use compute_class_weight (\"balanced\", classes, y). In place of y you can use a large enough sample of the full training set target to properly estimate the class frequency distributions. Pass the resulting weights as the class_weight parameter.\n",
            "  warn(\n"
          ]
        },
        {
          "output_type": "stream",
          "name": "stdout",
          "text": [
            "[CV 2/3] END randomforestclassifier__bootstrap=True, randomforestclassifier__class_weight=balanced, randomforestclassifier__criterion=entropy, randomforestclassifier__max_depth=15, randomforestclassifier__max_features=25, randomforestclassifier__min_samples_leaf=6, randomforestclassifier__n_estimators=210, randomforestclassifier__warm_start=False;, score=nan total time=   1.0s\n"
          ]
        },
        {
          "output_type": "stream",
          "name": "stderr",
          "text": [
            "/usr/local/lib/python3.8/dist-packages/sklearn/ensemble/_forest.py:765: UserWarning: class_weight presets \"balanced\" or \"balanced_subsample\" are not recommended for warm_start if the fitted data differs from the full dataset. In order to use \"balanced\" weights, use compute_class_weight (\"balanced\", classes, y). In place of y you can use a large enough sample of the full training set target to properly estimate the class frequency distributions. Pass the resulting weights as the class_weight parameter.\n",
            "  warn(\n"
          ]
        },
        {
          "output_type": "stream",
          "name": "stdout",
          "text": [
            "[CV 3/3] END randomforestclassifier__bootstrap=True, randomforestclassifier__class_weight=balanced, randomforestclassifier__criterion=entropy, randomforestclassifier__max_depth=15, randomforestclassifier__max_features=25, randomforestclassifier__min_samples_leaf=6, randomforestclassifier__n_estimators=210, randomforestclassifier__warm_start=False;, score=nan total time=   1.5s\n",
            "[CV 1/3] END randomforestclassifier__bootstrap=False, randomforestclassifier__class_weight=None, randomforestclassifier__criterion=log_loss, randomforestclassifier__max_depth=2, randomforestclassifier__max_features=2, randomforestclassifier__min_samples_leaf=10, randomforestclassifier__n_estimators=190, randomforestclassifier__warm_start=True;, score=nan total time=   0.0s\n",
            "[CV 2/3] END randomforestclassifier__bootstrap=False, randomforestclassifier__class_weight=None, randomforestclassifier__criterion=log_loss, randomforestclassifier__max_depth=2, randomforestclassifier__max_features=2, randomforestclassifier__min_samples_leaf=10, randomforestclassifier__n_estimators=190, randomforestclassifier__warm_start=True;, score=nan total time=   0.0s\n",
            "[CV 3/3] END randomforestclassifier__bootstrap=False, randomforestclassifier__class_weight=None, randomforestclassifier__criterion=log_loss, randomforestclassifier__max_depth=2, randomforestclassifier__max_features=2, randomforestclassifier__min_samples_leaf=10, randomforestclassifier__n_estimators=190, randomforestclassifier__warm_start=True;, score=nan total time=   0.0s\n"
          ]
        },
        {
          "output_type": "stream",
          "name": "stderr",
          "text": [
            "/usr/local/lib/python3.8/dist-packages/sklearn/ensemble/_forest.py:765: UserWarning: class_weight presets \"balanced\" or \"balanced_subsample\" are not recommended for warm_start if the fitted data differs from the full dataset. In order to use \"balanced\" weights, use compute_class_weight (\"balanced\", classes, y). In place of y you can use a large enough sample of the full training set target to properly estimate the class frequency distributions. Pass the resulting weights as the class_weight parameter.\n",
            "  warn(\n"
          ]
        },
        {
          "output_type": "stream",
          "name": "stdout",
          "text": [
            "[CV 1/3] END randomforestclassifier__bootstrap=True, randomforestclassifier__class_weight=balanced_subsample, randomforestclassifier__criterion=entropy, randomforestclassifier__max_depth=8, randomforestclassifier__max_features=15, randomforestclassifier__min_samples_leaf=4, randomforestclassifier__n_estimators=190, randomforestclassifier__warm_start=True;, score=nan total time=   1.6s\n"
          ]
        },
        {
          "output_type": "stream",
          "name": "stderr",
          "text": [
            "/usr/local/lib/python3.8/dist-packages/sklearn/ensemble/_forest.py:765: UserWarning: class_weight presets \"balanced\" or \"balanced_subsample\" are not recommended for warm_start if the fitted data differs from the full dataset. In order to use \"balanced\" weights, use compute_class_weight (\"balanced\", classes, y). In place of y you can use a large enough sample of the full training set target to properly estimate the class frequency distributions. Pass the resulting weights as the class_weight parameter.\n",
            "  warn(\n"
          ]
        },
        {
          "output_type": "stream",
          "name": "stdout",
          "text": [
            "[CV 2/3] END randomforestclassifier__bootstrap=True, randomforestclassifier__class_weight=balanced_subsample, randomforestclassifier__criterion=entropy, randomforestclassifier__max_depth=8, randomforestclassifier__max_features=15, randomforestclassifier__min_samples_leaf=4, randomforestclassifier__n_estimators=190, randomforestclassifier__warm_start=True;, score=nan total time=   1.8s\n"
          ]
        },
        {
          "output_type": "stream",
          "name": "stderr",
          "text": [
            "/usr/local/lib/python3.8/dist-packages/sklearn/ensemble/_forest.py:765: UserWarning: class_weight presets \"balanced\" or \"balanced_subsample\" are not recommended for warm_start if the fitted data differs from the full dataset. In order to use \"balanced\" weights, use compute_class_weight (\"balanced\", classes, y). In place of y you can use a large enough sample of the full training set target to properly estimate the class frequency distributions. Pass the resulting weights as the class_weight parameter.\n",
            "  warn(\n"
          ]
        },
        {
          "output_type": "stream",
          "name": "stdout",
          "text": [
            "[CV 3/3] END randomforestclassifier__bootstrap=True, randomforestclassifier__class_weight=balanced_subsample, randomforestclassifier__criterion=entropy, randomforestclassifier__max_depth=8, randomforestclassifier__max_features=15, randomforestclassifier__min_samples_leaf=4, randomforestclassifier__n_estimators=190, randomforestclassifier__warm_start=True;, score=nan total time=   1.1s\n"
          ]
        },
        {
          "output_type": "stream",
          "name": "stderr",
          "text": [
            "/usr/local/lib/python3.8/dist-packages/sklearn/ensemble/_forest.py:765: UserWarning: class_weight presets \"balanced\" or \"balanced_subsample\" are not recommended for warm_start if the fitted data differs from the full dataset. In order to use \"balanced\" weights, use compute_class_weight (\"balanced\", classes, y). In place of y you can use a large enough sample of the full training set target to properly estimate the class frequency distributions. Pass the resulting weights as the class_weight parameter.\n",
            "  warn(\n"
          ]
        },
        {
          "output_type": "stream",
          "name": "stdout",
          "text": [
            "[CV 1/3] END randomforestclassifier__bootstrap=True, randomforestclassifier__class_weight=balanced, randomforestclassifier__criterion=entropy, randomforestclassifier__max_depth=10, randomforestclassifier__max_features=30, randomforestclassifier__min_samples_leaf=30, randomforestclassifier__n_estimators=180, randomforestclassifier__warm_start=False;, score=nan total time=   1.0s\n"
          ]
        },
        {
          "output_type": "stream",
          "name": "stderr",
          "text": [
            "/usr/local/lib/python3.8/dist-packages/sklearn/ensemble/_forest.py:765: UserWarning: class_weight presets \"balanced\" or \"balanced_subsample\" are not recommended for warm_start if the fitted data differs from the full dataset. In order to use \"balanced\" weights, use compute_class_weight (\"balanced\", classes, y). In place of y you can use a large enough sample of the full training set target to properly estimate the class frequency distributions. Pass the resulting weights as the class_weight parameter.\n",
            "  warn(\n"
          ]
        },
        {
          "output_type": "stream",
          "name": "stdout",
          "text": [
            "[CV 2/3] END randomforestclassifier__bootstrap=True, randomforestclassifier__class_weight=balanced, randomforestclassifier__criterion=entropy, randomforestclassifier__max_depth=10, randomforestclassifier__max_features=30, randomforestclassifier__min_samples_leaf=30, randomforestclassifier__n_estimators=180, randomforestclassifier__warm_start=False;, score=nan total time=   1.0s\n"
          ]
        },
        {
          "output_type": "stream",
          "name": "stderr",
          "text": [
            "/usr/local/lib/python3.8/dist-packages/sklearn/ensemble/_forest.py:765: UserWarning: class_weight presets \"balanced\" or \"balanced_subsample\" are not recommended for warm_start if the fitted data differs from the full dataset. In order to use \"balanced\" weights, use compute_class_weight (\"balanced\", classes, y). In place of y you can use a large enough sample of the full training set target to properly estimate the class frequency distributions. Pass the resulting weights as the class_weight parameter.\n",
            "  warn(\n"
          ]
        },
        {
          "output_type": "stream",
          "name": "stdout",
          "text": [
            "[CV 3/3] END randomforestclassifier__bootstrap=True, randomforestclassifier__class_weight=balanced, randomforestclassifier__criterion=entropy, randomforestclassifier__max_depth=10, randomforestclassifier__max_features=30, randomforestclassifier__min_samples_leaf=30, randomforestclassifier__n_estimators=180, randomforestclassifier__warm_start=False;, score=nan total time=   1.0s\n"
          ]
        },
        {
          "output_type": "stream",
          "name": "stderr",
          "text": [
            "/usr/local/lib/python3.8/dist-packages/sklearn/ensemble/_forest.py:765: UserWarning: class_weight presets \"balanced\" or \"balanced_subsample\" are not recommended for warm_start if the fitted data differs from the full dataset. In order to use \"balanced\" weights, use compute_class_weight (\"balanced\", classes, y). In place of y you can use a large enough sample of the full training set target to properly estimate the class frequency distributions. Pass the resulting weights as the class_weight parameter.\n",
            "  warn(\n"
          ]
        },
        {
          "output_type": "stream",
          "name": "stdout",
          "text": [
            "[CV 1/3] END randomforestclassifier__bootstrap=True, randomforestclassifier__class_weight=balanced, randomforestclassifier__criterion=log_loss, randomforestclassifier__max_depth=30, randomforestclassifier__max_features=25, randomforestclassifier__min_samples_leaf=8, randomforestclassifier__n_estimators=200, randomforestclassifier__warm_start=False;, score=nan total time=   1.0s\n"
          ]
        },
        {
          "output_type": "stream",
          "name": "stderr",
          "text": [
            "/usr/local/lib/python3.8/dist-packages/sklearn/ensemble/_forest.py:765: UserWarning: class_weight presets \"balanced\" or \"balanced_subsample\" are not recommended for warm_start if the fitted data differs from the full dataset. In order to use \"balanced\" weights, use compute_class_weight (\"balanced\", classes, y). In place of y you can use a large enough sample of the full training set target to properly estimate the class frequency distributions. Pass the resulting weights as the class_weight parameter.\n",
            "  warn(\n"
          ]
        },
        {
          "output_type": "stream",
          "name": "stdout",
          "text": [
            "[CV 2/3] END randomforestclassifier__bootstrap=True, randomforestclassifier__class_weight=balanced, randomforestclassifier__criterion=log_loss, randomforestclassifier__max_depth=30, randomforestclassifier__max_features=25, randomforestclassifier__min_samples_leaf=8, randomforestclassifier__n_estimators=200, randomforestclassifier__warm_start=False;, score=nan total time=   1.0s\n"
          ]
        },
        {
          "output_type": "stream",
          "name": "stderr",
          "text": [
            "/usr/local/lib/python3.8/dist-packages/sklearn/ensemble/_forest.py:765: UserWarning: class_weight presets \"balanced\" or \"balanced_subsample\" are not recommended for warm_start if the fitted data differs from the full dataset. In order to use \"balanced\" weights, use compute_class_weight (\"balanced\", classes, y). In place of y you can use a large enough sample of the full training set target to properly estimate the class frequency distributions. Pass the resulting weights as the class_weight parameter.\n",
            "  warn(\n"
          ]
        },
        {
          "output_type": "stream",
          "name": "stdout",
          "text": [
            "[CV 3/3] END randomforestclassifier__bootstrap=True, randomforestclassifier__class_weight=balanced, randomforestclassifier__criterion=log_loss, randomforestclassifier__max_depth=30, randomforestclassifier__max_features=25, randomforestclassifier__min_samples_leaf=8, randomforestclassifier__n_estimators=200, randomforestclassifier__warm_start=False;, score=nan total time=   1.0s\n"
          ]
        },
        {
          "output_type": "stream",
          "name": "stderr",
          "text": [
            "/usr/local/lib/python3.8/dist-packages/sklearn/ensemble/_forest.py:765: UserWarning: class_weight presets \"balanced\" or \"balanced_subsample\" are not recommended for warm_start if the fitted data differs from the full dataset. In order to use \"balanced\" weights, use compute_class_weight (\"balanced\", classes, y). In place of y you can use a large enough sample of the full training set target to properly estimate the class frequency distributions. Pass the resulting weights as the class_weight parameter.\n",
            "  warn(\n"
          ]
        },
        {
          "output_type": "stream",
          "name": "stdout",
          "text": [
            "[CV 1/3] END randomforestclassifier__bootstrap=True, randomforestclassifier__class_weight=balanced, randomforestclassifier__criterion=entropy, randomforestclassifier__max_depth=25, randomforestclassifier__max_features=25, randomforestclassifier__min_samples_leaf=30, randomforestclassifier__n_estimators=180, randomforestclassifier__warm_start=False;, score=nan total time=   1.0s\n"
          ]
        },
        {
          "output_type": "stream",
          "name": "stderr",
          "text": [
            "/usr/local/lib/python3.8/dist-packages/sklearn/ensemble/_forest.py:765: UserWarning: class_weight presets \"balanced\" or \"balanced_subsample\" are not recommended for warm_start if the fitted data differs from the full dataset. In order to use \"balanced\" weights, use compute_class_weight (\"balanced\", classes, y). In place of y you can use a large enough sample of the full training set target to properly estimate the class frequency distributions. Pass the resulting weights as the class_weight parameter.\n",
            "  warn(\n"
          ]
        },
        {
          "output_type": "stream",
          "name": "stdout",
          "text": [
            "[CV 2/3] END randomforestclassifier__bootstrap=True, randomforestclassifier__class_weight=balanced, randomforestclassifier__criterion=entropy, randomforestclassifier__max_depth=25, randomforestclassifier__max_features=25, randomforestclassifier__min_samples_leaf=30, randomforestclassifier__n_estimators=180, randomforestclassifier__warm_start=False;, score=nan total time=   1.0s\n"
          ]
        },
        {
          "output_type": "stream",
          "name": "stderr",
          "text": [
            "/usr/local/lib/python3.8/dist-packages/sklearn/ensemble/_forest.py:765: UserWarning: class_weight presets \"balanced\" or \"balanced_subsample\" are not recommended for warm_start if the fitted data differs from the full dataset. In order to use \"balanced\" weights, use compute_class_weight (\"balanced\", classes, y). In place of y you can use a large enough sample of the full training set target to properly estimate the class frequency distributions. Pass the resulting weights as the class_weight parameter.\n",
            "  warn(\n"
          ]
        },
        {
          "output_type": "stream",
          "name": "stdout",
          "text": [
            "[CV 3/3] END randomforestclassifier__bootstrap=True, randomforestclassifier__class_weight=balanced, randomforestclassifier__criterion=entropy, randomforestclassifier__max_depth=25, randomforestclassifier__max_features=25, randomforestclassifier__min_samples_leaf=30, randomforestclassifier__n_estimators=180, randomforestclassifier__warm_start=False;, score=nan total time=   1.0s\n",
            "[CV 1/3] END randomforestclassifier__bootstrap=False, randomforestclassifier__class_weight=None, randomforestclassifier__criterion=gini, randomforestclassifier__max_depth=20, randomforestclassifier__max_features=6, randomforestclassifier__min_samples_leaf=15, randomforestclassifier__n_estimators=190, randomforestclassifier__warm_start=False;, score=nan total time=   0.0s\n",
            "[CV 2/3] END randomforestclassifier__bootstrap=False, randomforestclassifier__class_weight=None, randomforestclassifier__criterion=gini, randomforestclassifier__max_depth=20, randomforestclassifier__max_features=6, randomforestclassifier__min_samples_leaf=15, randomforestclassifier__n_estimators=190, randomforestclassifier__warm_start=False;, score=nan total time=   0.0s\n",
            "[CV 3/3] END randomforestclassifier__bootstrap=False, randomforestclassifier__class_weight=None, randomforestclassifier__criterion=gini, randomforestclassifier__max_depth=20, randomforestclassifier__max_features=6, randomforestclassifier__min_samples_leaf=15, randomforestclassifier__n_estimators=190, randomforestclassifier__warm_start=False;, score=nan total time=   0.0s\n"
          ]
        },
        {
          "output_type": "stream",
          "name": "stderr",
          "text": [
            "/usr/local/lib/python3.8/dist-packages/sklearn/ensemble/_forest.py:765: UserWarning: class_weight presets \"balanced\" or \"balanced_subsample\" are not recommended for warm_start if the fitted data differs from the full dataset. In order to use \"balanced\" weights, use compute_class_weight (\"balanced\", classes, y). In place of y you can use a large enough sample of the full training set target to properly estimate the class frequency distributions. Pass the resulting weights as the class_weight parameter.\n",
            "  warn(\n"
          ]
        },
        {
          "output_type": "stream",
          "name": "stdout",
          "text": [
            "[CV 1/3] END randomforestclassifier__bootstrap=True, randomforestclassifier__class_weight=balanced, randomforestclassifier__criterion=entropy, randomforestclassifier__max_depth=8, randomforestclassifier__max_features=10, randomforestclassifier__min_samples_leaf=30, randomforestclassifier__n_estimators=180, randomforestclassifier__warm_start=False;, score=0.976 total time=   6.0s\n"
          ]
        },
        {
          "output_type": "stream",
          "name": "stderr",
          "text": [
            "/usr/local/lib/python3.8/dist-packages/sklearn/ensemble/_forest.py:765: UserWarning: class_weight presets \"balanced\" or \"balanced_subsample\" are not recommended for warm_start if the fitted data differs from the full dataset. In order to use \"balanced\" weights, use compute_class_weight (\"balanced\", classes, y). In place of y you can use a large enough sample of the full training set target to properly estimate the class frequency distributions. Pass the resulting weights as the class_weight parameter.\n",
            "  warn(\n"
          ]
        },
        {
          "output_type": "stream",
          "name": "stdout",
          "text": [
            "[CV 2/3] END randomforestclassifier__bootstrap=True, randomforestclassifier__class_weight=balanced, randomforestclassifier__criterion=entropy, randomforestclassifier__max_depth=8, randomforestclassifier__max_features=10, randomforestclassifier__min_samples_leaf=30, randomforestclassifier__n_estimators=180, randomforestclassifier__warm_start=False;, score=0.986 total time=   3.0s\n"
          ]
        },
        {
          "output_type": "stream",
          "name": "stderr",
          "text": [
            "/usr/local/lib/python3.8/dist-packages/sklearn/ensemble/_forest.py:765: UserWarning: class_weight presets \"balanced\" or \"balanced_subsample\" are not recommended for warm_start if the fitted data differs from the full dataset. In order to use \"balanced\" weights, use compute_class_weight (\"balanced\", classes, y). In place of y you can use a large enough sample of the full training set target to properly estimate the class frequency distributions. Pass the resulting weights as the class_weight parameter.\n",
            "  warn(\n"
          ]
        },
        {
          "output_type": "stream",
          "name": "stdout",
          "text": [
            "[CV 3/3] END randomforestclassifier__bootstrap=True, randomforestclassifier__class_weight=balanced, randomforestclassifier__criterion=entropy, randomforestclassifier__max_depth=8, randomforestclassifier__max_features=10, randomforestclassifier__min_samples_leaf=30, randomforestclassifier__n_estimators=180, randomforestclassifier__warm_start=False;, score=0.985 total time=   3.0s\n"
          ]
        },
        {
          "output_type": "stream",
          "name": "stderr",
          "text": [
            "/usr/local/lib/python3.8/dist-packages/sklearn/ensemble/_forest.py:765: UserWarning: class_weight presets \"balanced\" or \"balanced_subsample\" are not recommended for warm_start if the fitted data differs from the full dataset. In order to use \"balanced\" weights, use compute_class_weight (\"balanced\", classes, y). In place of y you can use a large enough sample of the full training set target to properly estimate the class frequency distributions. Pass the resulting weights as the class_weight parameter.\n",
            "  warn(\n"
          ]
        },
        {
          "output_type": "stream",
          "name": "stdout",
          "text": [
            "[CV 1/3] END randomforestclassifier__bootstrap=False, randomforestclassifier__class_weight=balanced_subsample, randomforestclassifier__criterion=entropy, randomforestclassifier__max_depth=20, randomforestclassifier__max_features=4, randomforestclassifier__min_samples_leaf=10, randomforestclassifier__n_estimators=210, randomforestclassifier__warm_start=False;, score=0.992 total time=   4.0s\n"
          ]
        },
        {
          "output_type": "stream",
          "name": "stderr",
          "text": [
            "/usr/local/lib/python3.8/dist-packages/sklearn/ensemble/_forest.py:765: UserWarning: class_weight presets \"balanced\" or \"balanced_subsample\" are not recommended for warm_start if the fitted data differs from the full dataset. In order to use \"balanced\" weights, use compute_class_weight (\"balanced\", classes, y). In place of y you can use a large enough sample of the full training set target to properly estimate the class frequency distributions. Pass the resulting weights as the class_weight parameter.\n",
            "  warn(\n"
          ]
        },
        {
          "output_type": "stream",
          "name": "stdout",
          "text": [
            "[CV 2/3] END randomforestclassifier__bootstrap=False, randomforestclassifier__class_weight=balanced_subsample, randomforestclassifier__criterion=entropy, randomforestclassifier__max_depth=20, randomforestclassifier__max_features=4, randomforestclassifier__min_samples_leaf=10, randomforestclassifier__n_estimators=210, randomforestclassifier__warm_start=False;, score=0.997 total time=   5.4s\n"
          ]
        },
        {
          "output_type": "stream",
          "name": "stderr",
          "text": [
            "/usr/local/lib/python3.8/dist-packages/sklearn/ensemble/_forest.py:765: UserWarning: class_weight presets \"balanced\" or \"balanced_subsample\" are not recommended for warm_start if the fitted data differs from the full dataset. In order to use \"balanced\" weights, use compute_class_weight (\"balanced\", classes, y). In place of y you can use a large enough sample of the full training set target to properly estimate the class frequency distributions. Pass the resulting weights as the class_weight parameter.\n",
            "  warn(\n"
          ]
        },
        {
          "output_type": "stream",
          "name": "stdout",
          "text": [
            "[CV 3/3] END randomforestclassifier__bootstrap=False, randomforestclassifier__class_weight=balanced_subsample, randomforestclassifier__criterion=entropy, randomforestclassifier__max_depth=20, randomforestclassifier__max_features=4, randomforestclassifier__min_samples_leaf=10, randomforestclassifier__n_estimators=210, randomforestclassifier__warm_start=False;, score=0.998 total time=   3.3s\n",
            "[CV 1/3] END randomforestclassifier__bootstrap=False, randomforestclassifier__class_weight=balanced_subsample, randomforestclassifier__criterion=gini, randomforestclassifier__max_depth=6, randomforestclassifier__max_features=30, randomforestclassifier__min_samples_leaf=6, randomforestclassifier__n_estimators=220, randomforestclassifier__warm_start=True;, score=nan total time=   0.1s\n"
          ]
        },
        {
          "output_type": "stream",
          "name": "stderr",
          "text": [
            "/usr/local/lib/python3.8/dist-packages/sklearn/ensemble/_forest.py:765: UserWarning: class_weight presets \"balanced\" or \"balanced_subsample\" are not recommended for warm_start if the fitted data differs from the full dataset. In order to use \"balanced\" weights, use compute_class_weight (\"balanced\", classes, y). In place of y you can use a large enough sample of the full training set target to properly estimate the class frequency distributions. Pass the resulting weights as the class_weight parameter.\n",
            "  warn(\n",
            "/usr/local/lib/python3.8/dist-packages/sklearn/ensemble/_forest.py:765: UserWarning: class_weight presets \"balanced\" or \"balanced_subsample\" are not recommended for warm_start if the fitted data differs from the full dataset. In order to use \"balanced\" weights, use compute_class_weight (\"balanced\", classes, y). In place of y you can use a large enough sample of the full training set target to properly estimate the class frequency distributions. Pass the resulting weights as the class_weight parameter.\n",
            "  warn(\n"
          ]
        },
        {
          "output_type": "stream",
          "name": "stdout",
          "text": [
            "[CV 2/3] END randomforestclassifier__bootstrap=False, randomforestclassifier__class_weight=balanced_subsample, randomforestclassifier__criterion=gini, randomforestclassifier__max_depth=6, randomforestclassifier__max_features=30, randomforestclassifier__min_samples_leaf=6, randomforestclassifier__n_estimators=220, randomforestclassifier__warm_start=True;, score=nan total time=   1.0s\n"
          ]
        },
        {
          "output_type": "stream",
          "name": "stderr",
          "text": [
            "/usr/local/lib/python3.8/dist-packages/sklearn/ensemble/_forest.py:765: UserWarning: class_weight presets \"balanced\" or \"balanced_subsample\" are not recommended for warm_start if the fitted data differs from the full dataset. In order to use \"balanced\" weights, use compute_class_weight (\"balanced\", classes, y). In place of y you can use a large enough sample of the full training set target to properly estimate the class frequency distributions. Pass the resulting weights as the class_weight parameter.\n",
            "  warn(\n"
          ]
        },
        {
          "output_type": "stream",
          "name": "stdout",
          "text": [
            "[CV 3/3] END randomforestclassifier__bootstrap=False, randomforestclassifier__class_weight=balanced_subsample, randomforestclassifier__criterion=gini, randomforestclassifier__max_depth=6, randomforestclassifier__max_features=30, randomforestclassifier__min_samples_leaf=6, randomforestclassifier__n_estimators=220, randomforestclassifier__warm_start=True;, score=nan total time=   1.0s\n"
          ]
        },
        {
          "output_type": "stream",
          "name": "stderr",
          "text": [
            "/usr/local/lib/python3.8/dist-packages/sklearn/ensemble/_forest.py:765: UserWarning: class_weight presets \"balanced\" or \"balanced_subsample\" are not recommended for warm_start if the fitted data differs from the full dataset. In order to use \"balanced\" weights, use compute_class_weight (\"balanced\", classes, y). In place of y you can use a large enough sample of the full training set target to properly estimate the class frequency distributions. Pass the resulting weights as the class_weight parameter.\n",
            "  warn(\n"
          ]
        },
        {
          "output_type": "stream",
          "name": "stdout",
          "text": [
            "[CV 1/3] END randomforestclassifier__bootstrap=False, randomforestclassifier__class_weight=balanced_subsample, randomforestclassifier__criterion=entropy, randomforestclassifier__max_depth=20, randomforestclassifier__max_features=4, randomforestclassifier__min_samples_leaf=4, randomforestclassifier__n_estimators=200, randomforestclassifier__warm_start=True;, score=0.995 total time=   3.5s\n"
          ]
        },
        {
          "output_type": "stream",
          "name": "stderr",
          "text": [
            "/usr/local/lib/python3.8/dist-packages/sklearn/ensemble/_forest.py:765: UserWarning: class_weight presets \"balanced\" or \"balanced_subsample\" are not recommended for warm_start if the fitted data differs from the full dataset. In order to use \"balanced\" weights, use compute_class_weight (\"balanced\", classes, y). In place of y you can use a large enough sample of the full training set target to properly estimate the class frequency distributions. Pass the resulting weights as the class_weight parameter.\n",
            "  warn(\n"
          ]
        },
        {
          "output_type": "stream",
          "name": "stdout",
          "text": [
            "[CV 2/3] END randomforestclassifier__bootstrap=False, randomforestclassifier__class_weight=balanced_subsample, randomforestclassifier__criterion=entropy, randomforestclassifier__max_depth=20, randomforestclassifier__max_features=4, randomforestclassifier__min_samples_leaf=4, randomforestclassifier__n_estimators=200, randomforestclassifier__warm_start=True;, score=0.998 total time=   2.8s\n"
          ]
        },
        {
          "output_type": "stream",
          "name": "stderr",
          "text": [
            "/usr/local/lib/python3.8/dist-packages/sklearn/ensemble/_forest.py:765: UserWarning: class_weight presets \"balanced\" or \"balanced_subsample\" are not recommended for warm_start if the fitted data differs from the full dataset. In order to use \"balanced\" weights, use compute_class_weight (\"balanced\", classes, y). In place of y you can use a large enough sample of the full training set target to properly estimate the class frequency distributions. Pass the resulting weights as the class_weight parameter.\n",
            "  warn(\n"
          ]
        },
        {
          "output_type": "stream",
          "name": "stdout",
          "text": [
            "[CV 3/3] END randomforestclassifier__bootstrap=False, randomforestclassifier__class_weight=balanced_subsample, randomforestclassifier__criterion=entropy, randomforestclassifier__max_depth=20, randomforestclassifier__max_features=4, randomforestclassifier__min_samples_leaf=4, randomforestclassifier__n_estimators=200, randomforestclassifier__warm_start=True;, score=0.999 total time=   4.8s\n",
            "[CV 1/3] END randomforestclassifier__bootstrap=True, randomforestclassifier__class_weight=None, randomforestclassifier__criterion=log_loss, randomforestclassifier__max_depth=30, randomforestclassifier__max_features=8, randomforestclassifier__min_samples_leaf=30, randomforestclassifier__n_estimators=220, randomforestclassifier__warm_start=True;, score=nan total time=   0.0s\n",
            "[CV 2/3] END randomforestclassifier__bootstrap=True, randomforestclassifier__class_weight=None, randomforestclassifier__criterion=log_loss, randomforestclassifier__max_depth=30, randomforestclassifier__max_features=8, randomforestclassifier__min_samples_leaf=30, randomforestclassifier__n_estimators=220, randomforestclassifier__warm_start=True;, score=nan total time=   0.0s\n",
            "[CV 3/3] END randomforestclassifier__bootstrap=True, randomforestclassifier__class_weight=None, randomforestclassifier__criterion=log_loss, randomforestclassifier__max_depth=30, randomforestclassifier__max_features=8, randomforestclassifier__min_samples_leaf=30, randomforestclassifier__n_estimators=220, randomforestclassifier__warm_start=True;, score=nan total time=   0.0s\n",
            "[CV 1/3] END randomforestclassifier__bootstrap=False, randomforestclassifier__class_weight=balanced_subsample, randomforestclassifier__criterion=entropy, randomforestclassifier__max_depth=6, randomforestclassifier__max_features=20, randomforestclassifier__min_samples_leaf=8, randomforestclassifier__n_estimators=200, randomforestclassifier__warm_start=False;, score=nan total time=   0.1s\n"
          ]
        },
        {
          "output_type": "stream",
          "name": "stderr",
          "text": [
            "/usr/local/lib/python3.8/dist-packages/sklearn/ensemble/_forest.py:765: UserWarning: class_weight presets \"balanced\" or \"balanced_subsample\" are not recommended for warm_start if the fitted data differs from the full dataset. In order to use \"balanced\" weights, use compute_class_weight (\"balanced\", classes, y). In place of y you can use a large enough sample of the full training set target to properly estimate the class frequency distributions. Pass the resulting weights as the class_weight parameter.\n",
            "  warn(\n",
            "/usr/local/lib/python3.8/dist-packages/sklearn/ensemble/_forest.py:765: UserWarning: class_weight presets \"balanced\" or \"balanced_subsample\" are not recommended for warm_start if the fitted data differs from the full dataset. In order to use \"balanced\" weights, use compute_class_weight (\"balanced\", classes, y). In place of y you can use a large enough sample of the full training set target to properly estimate the class frequency distributions. Pass the resulting weights as the class_weight parameter.\n",
            "  warn(\n"
          ]
        },
        {
          "output_type": "stream",
          "name": "stdout",
          "text": [
            "[CV 2/3] END randomforestclassifier__bootstrap=False, randomforestclassifier__class_weight=balanced_subsample, randomforestclassifier__criterion=entropy, randomforestclassifier__max_depth=6, randomforestclassifier__max_features=20, randomforestclassifier__min_samples_leaf=8, randomforestclassifier__n_estimators=200, randomforestclassifier__warm_start=False;, score=nan total time=   1.0s\n"
          ]
        },
        {
          "output_type": "stream",
          "name": "stderr",
          "text": [
            "/usr/local/lib/python3.8/dist-packages/sklearn/ensemble/_forest.py:765: UserWarning: class_weight presets \"balanced\" or \"balanced_subsample\" are not recommended for warm_start if the fitted data differs from the full dataset. In order to use \"balanced\" weights, use compute_class_weight (\"balanced\", classes, y). In place of y you can use a large enough sample of the full training set target to properly estimate the class frequency distributions. Pass the resulting weights as the class_weight parameter.\n",
            "  warn(\n"
          ]
        },
        {
          "output_type": "stream",
          "name": "stdout",
          "text": [
            "[CV 3/3] END randomforestclassifier__bootstrap=False, randomforestclassifier__class_weight=balanced_subsample, randomforestclassifier__criterion=entropy, randomforestclassifier__max_depth=6, randomforestclassifier__max_features=20, randomforestclassifier__min_samples_leaf=8, randomforestclassifier__n_estimators=200, randomforestclassifier__warm_start=False;, score=nan total time=   1.0s\n"
          ]
        },
        {
          "output_type": "stream",
          "name": "stderr",
          "text": [
            "/usr/local/lib/python3.8/dist-packages/sklearn/ensemble/_forest.py:765: UserWarning: class_weight presets \"balanced\" or \"balanced_subsample\" are not recommended for warm_start if the fitted data differs from the full dataset. In order to use \"balanced\" weights, use compute_class_weight (\"balanced\", classes, y). In place of y you can use a large enough sample of the full training set target to properly estimate the class frequency distributions. Pass the resulting weights as the class_weight parameter.\n",
            "  warn(\n"
          ]
        },
        {
          "output_type": "stream",
          "name": "stdout",
          "text": [
            "[CV 1/3] END randomforestclassifier__bootstrap=True, randomforestclassifier__class_weight=balanced_subsample, randomforestclassifier__criterion=log_loss, randomforestclassifier__max_depth=8, randomforestclassifier__max_features=6, randomforestclassifier__min_samples_leaf=8, randomforestclassifier__n_estimators=210, randomforestclassifier__warm_start=True;, score=nan total time=   1.0s\n"
          ]
        },
        {
          "output_type": "stream",
          "name": "stderr",
          "text": [
            "/usr/local/lib/python3.8/dist-packages/sklearn/ensemble/_forest.py:765: UserWarning: class_weight presets \"balanced\" or \"balanced_subsample\" are not recommended for warm_start if the fitted data differs from the full dataset. In order to use \"balanced\" weights, use compute_class_weight (\"balanced\", classes, y). In place of y you can use a large enough sample of the full training set target to properly estimate the class frequency distributions. Pass the resulting weights as the class_weight parameter.\n",
            "  warn(\n"
          ]
        },
        {
          "output_type": "stream",
          "name": "stdout",
          "text": [
            "[CV 2/3] END randomforestclassifier__bootstrap=True, randomforestclassifier__class_weight=balanced_subsample, randomforestclassifier__criterion=log_loss, randomforestclassifier__max_depth=8, randomforestclassifier__max_features=6, randomforestclassifier__min_samples_leaf=8, randomforestclassifier__n_estimators=210, randomforestclassifier__warm_start=True;, score=nan total time=   1.0s\n"
          ]
        },
        {
          "output_type": "stream",
          "name": "stderr",
          "text": [
            "/usr/local/lib/python3.8/dist-packages/sklearn/ensemble/_forest.py:765: UserWarning: class_weight presets \"balanced\" or \"balanced_subsample\" are not recommended for warm_start if the fitted data differs from the full dataset. In order to use \"balanced\" weights, use compute_class_weight (\"balanced\", classes, y). In place of y you can use a large enough sample of the full training set target to properly estimate the class frequency distributions. Pass the resulting weights as the class_weight parameter.\n",
            "  warn(\n"
          ]
        },
        {
          "output_type": "stream",
          "name": "stdout",
          "text": [
            "[CV 3/3] END randomforestclassifier__bootstrap=True, randomforestclassifier__class_weight=balanced_subsample, randomforestclassifier__criterion=log_loss, randomforestclassifier__max_depth=8, randomforestclassifier__max_features=6, randomforestclassifier__min_samples_leaf=8, randomforestclassifier__n_estimators=210, randomforestclassifier__warm_start=True;, score=nan total time=   1.0s\n",
            "[CV 1/3] END randomforestclassifier__bootstrap=True, randomforestclassifier__class_weight=None, randomforestclassifier__criterion=log_loss, randomforestclassifier__max_depth=4, randomforestclassifier__max_features=15, randomforestclassifier__min_samples_leaf=20, randomforestclassifier__n_estimators=200, randomforestclassifier__warm_start=False;, score=nan total time=   0.0s\n",
            "[CV 2/3] END randomforestclassifier__bootstrap=True, randomforestclassifier__class_weight=None, randomforestclassifier__criterion=log_loss, randomforestclassifier__max_depth=4, randomforestclassifier__max_features=15, randomforestclassifier__min_samples_leaf=20, randomforestclassifier__n_estimators=200, randomforestclassifier__warm_start=False;, score=nan total time=   0.0s\n",
            "[CV 3/3] END randomforestclassifier__bootstrap=True, randomforestclassifier__class_weight=None, randomforestclassifier__criterion=log_loss, randomforestclassifier__max_depth=4, randomforestclassifier__max_features=15, randomforestclassifier__min_samples_leaf=20, randomforestclassifier__n_estimators=200, randomforestclassifier__warm_start=False;, score=nan total time=   0.0s\n",
            "[CV 1/3] END randomforestclassifier__bootstrap=False, randomforestclassifier__class_weight=None, randomforestclassifier__criterion=log_loss, randomforestclassifier__max_depth=30, randomforestclassifier__max_features=6, randomforestclassifier__min_samples_leaf=15, randomforestclassifier__n_estimators=220, randomforestclassifier__warm_start=True;, score=nan total time=   0.0s\n",
            "[CV 2/3] END randomforestclassifier__bootstrap=False, randomforestclassifier__class_weight=None, randomforestclassifier__criterion=log_loss, randomforestclassifier__max_depth=30, randomforestclassifier__max_features=6, randomforestclassifier__min_samples_leaf=15, randomforestclassifier__n_estimators=220, randomforestclassifier__warm_start=True;, score=nan total time=   0.0s\n",
            "[CV 3/3] END randomforestclassifier__bootstrap=False, randomforestclassifier__class_weight=None, randomforestclassifier__criterion=log_loss, randomforestclassifier__max_depth=30, randomforestclassifier__max_features=6, randomforestclassifier__min_samples_leaf=15, randomforestclassifier__n_estimators=220, randomforestclassifier__warm_start=True;, score=nan total time=   0.0s\n",
            "[CV 1/3] END randomforestclassifier__bootstrap=True, randomforestclassifier__class_weight=None, randomforestclassifier__criterion=log_loss, randomforestclassifier__max_depth=6, randomforestclassifier__max_features=10, randomforestclassifier__min_samples_leaf=25, randomforestclassifier__n_estimators=220, randomforestclassifier__warm_start=False;, score=nan total time=   0.0s\n",
            "[CV 2/3] END randomforestclassifier__bootstrap=True, randomforestclassifier__class_weight=None, randomforestclassifier__criterion=log_loss, randomforestclassifier__max_depth=6, randomforestclassifier__max_features=10, randomforestclassifier__min_samples_leaf=25, randomforestclassifier__n_estimators=220, randomforestclassifier__warm_start=False;, score=nan total time=   0.0s\n",
            "[CV 3/3] END randomforestclassifier__bootstrap=True, randomforestclassifier__class_weight=None, randomforestclassifier__criterion=log_loss, randomforestclassifier__max_depth=6, randomforestclassifier__max_features=10, randomforestclassifier__min_samples_leaf=25, randomforestclassifier__n_estimators=220, randomforestclassifier__warm_start=False;, score=nan total time=   0.0s\n"
          ]
        },
        {
          "output_type": "stream",
          "name": "stderr",
          "text": [
            "/usr/local/lib/python3.8/dist-packages/sklearn/ensemble/_forest.py:765: UserWarning: class_weight presets \"balanced\" or \"balanced_subsample\" are not recommended for warm_start if the fitted data differs from the full dataset. In order to use \"balanced\" weights, use compute_class_weight (\"balanced\", classes, y). In place of y you can use a large enough sample of the full training set target to properly estimate the class frequency distributions. Pass the resulting weights as the class_weight parameter.\n",
            "  warn(\n"
          ]
        },
        {
          "output_type": "stream",
          "name": "stdout",
          "text": [
            "[CV 1/3] END randomforestclassifier__bootstrap=False, randomforestclassifier__class_weight=balanced_subsample, randomforestclassifier__criterion=entropy, randomforestclassifier__max_depth=10, randomforestclassifier__max_features=2, randomforestclassifier__min_samples_leaf=4, randomforestclassifier__n_estimators=210, randomforestclassifier__warm_start=True;, score=0.992 total time=   2.8s\n"
          ]
        },
        {
          "output_type": "stream",
          "name": "stderr",
          "text": [
            "/usr/local/lib/python3.8/dist-packages/sklearn/ensemble/_forest.py:765: UserWarning: class_weight presets \"balanced\" or \"balanced_subsample\" are not recommended for warm_start if the fitted data differs from the full dataset. In order to use \"balanced\" weights, use compute_class_weight (\"balanced\", classes, y). In place of y you can use a large enough sample of the full training set target to properly estimate the class frequency distributions. Pass the resulting weights as the class_weight parameter.\n",
            "  warn(\n"
          ]
        },
        {
          "output_type": "stream",
          "name": "stdout",
          "text": [
            "[CV 2/3] END randomforestclassifier__bootstrap=False, randomforestclassifier__class_weight=balanced_subsample, randomforestclassifier__criterion=entropy, randomforestclassifier__max_depth=10, randomforestclassifier__max_features=2, randomforestclassifier__min_samples_leaf=4, randomforestclassifier__n_estimators=210, randomforestclassifier__warm_start=True;, score=0.996 total time=   2.1s\n"
          ]
        },
        {
          "output_type": "stream",
          "name": "stderr",
          "text": [
            "/usr/local/lib/python3.8/dist-packages/sklearn/ensemble/_forest.py:765: UserWarning: class_weight presets \"balanced\" or \"balanced_subsample\" are not recommended for warm_start if the fitted data differs from the full dataset. In order to use \"balanced\" weights, use compute_class_weight (\"balanced\", classes, y). In place of y you can use a large enough sample of the full training set target to properly estimate the class frequency distributions. Pass the resulting weights as the class_weight parameter.\n",
            "  warn(\n"
          ]
        },
        {
          "output_type": "stream",
          "name": "stdout",
          "text": [
            "[CV 3/3] END randomforestclassifier__bootstrap=False, randomforestclassifier__class_weight=balanced_subsample, randomforestclassifier__criterion=entropy, randomforestclassifier__max_depth=10, randomforestclassifier__max_features=2, randomforestclassifier__min_samples_leaf=4, randomforestclassifier__n_estimators=210, randomforestclassifier__warm_start=True;, score=0.996 total time=   3.8s\n",
            "[CV 1/3] END randomforestclassifier__bootstrap=False, randomforestclassifier__class_weight=balanced, randomforestclassifier__criterion=gini, randomforestclassifier__max_depth=10, randomforestclassifier__max_features=25, randomforestclassifier__min_samples_leaf=30, randomforestclassifier__n_estimators=220, randomforestclassifier__warm_start=True;, score=nan total time=   0.2s\n"
          ]
        },
        {
          "output_type": "stream",
          "name": "stderr",
          "text": [
            "/usr/local/lib/python3.8/dist-packages/sklearn/ensemble/_forest.py:765: UserWarning: class_weight presets \"balanced\" or \"balanced_subsample\" are not recommended for warm_start if the fitted data differs from the full dataset. In order to use \"balanced\" weights, use compute_class_weight (\"balanced\", classes, y). In place of y you can use a large enough sample of the full training set target to properly estimate the class frequency distributions. Pass the resulting weights as the class_weight parameter.\n",
            "  warn(\n",
            "/usr/local/lib/python3.8/dist-packages/sklearn/ensemble/_forest.py:765: UserWarning: class_weight presets \"balanced\" or \"balanced_subsample\" are not recommended for warm_start if the fitted data differs from the full dataset. In order to use \"balanced\" weights, use compute_class_weight (\"balanced\", classes, y). In place of y you can use a large enough sample of the full training set target to properly estimate the class frequency distributions. Pass the resulting weights as the class_weight parameter.\n",
            "  warn(\n"
          ]
        },
        {
          "output_type": "stream",
          "name": "stdout",
          "text": [
            "[CV 2/3] END randomforestclassifier__bootstrap=False, randomforestclassifier__class_weight=balanced, randomforestclassifier__criterion=gini, randomforestclassifier__max_depth=10, randomforestclassifier__max_features=25, randomforestclassifier__min_samples_leaf=30, randomforestclassifier__n_estimators=220, randomforestclassifier__warm_start=True;, score=nan total time=   1.0s\n"
          ]
        },
        {
          "output_type": "stream",
          "name": "stderr",
          "text": [
            "/usr/local/lib/python3.8/dist-packages/sklearn/ensemble/_forest.py:765: UserWarning: class_weight presets \"balanced\" or \"balanced_subsample\" are not recommended for warm_start if the fitted data differs from the full dataset. In order to use \"balanced\" weights, use compute_class_weight (\"balanced\", classes, y). In place of y you can use a large enough sample of the full training set target to properly estimate the class frequency distributions. Pass the resulting weights as the class_weight parameter.\n",
            "  warn(\n"
          ]
        },
        {
          "output_type": "stream",
          "name": "stdout",
          "text": [
            "[CV 3/3] END randomforestclassifier__bootstrap=False, randomforestclassifier__class_weight=balanced, randomforestclassifier__criterion=gini, randomforestclassifier__max_depth=10, randomforestclassifier__max_features=25, randomforestclassifier__min_samples_leaf=30, randomforestclassifier__n_estimators=220, randomforestclassifier__warm_start=True;, score=nan total time=   1.0s\n"
          ]
        },
        {
          "output_type": "stream",
          "name": "stderr",
          "text": [
            "/usr/local/lib/python3.8/dist-packages/sklearn/ensemble/_forest.py:765: UserWarning: class_weight presets \"balanced\" or \"balanced_subsample\" are not recommended for warm_start if the fitted data differs from the full dataset. In order to use \"balanced\" weights, use compute_class_weight (\"balanced\", classes, y). In place of y you can use a large enough sample of the full training set target to properly estimate the class frequency distributions. Pass the resulting weights as the class_weight parameter.\n",
            "  warn(\n"
          ]
        },
        {
          "output_type": "stream",
          "name": "stdout",
          "text": [
            "[CV 1/3] END randomforestclassifier__bootstrap=False, randomforestclassifier__class_weight=balanced_subsample, randomforestclassifier__criterion=gini, randomforestclassifier__max_depth=30, randomforestclassifier__max_features=6, randomforestclassifier__min_samples_leaf=15, randomforestclassifier__n_estimators=190, randomforestclassifier__warm_start=False;, score=0.991 total time=   3.2s\n"
          ]
        },
        {
          "output_type": "stream",
          "name": "stderr",
          "text": [
            "/usr/local/lib/python3.8/dist-packages/sklearn/ensemble/_forest.py:765: UserWarning: class_weight presets \"balanced\" or \"balanced_subsample\" are not recommended for warm_start if the fitted data differs from the full dataset. In order to use \"balanced\" weights, use compute_class_weight (\"balanced\", classes, y). In place of y you can use a large enough sample of the full training set target to properly estimate the class frequency distributions. Pass the resulting weights as the class_weight parameter.\n",
            "  warn(\n"
          ]
        },
        {
          "output_type": "stream",
          "name": "stdout",
          "text": [
            "[CV 2/3] END randomforestclassifier__bootstrap=False, randomforestclassifier__class_weight=balanced_subsample, randomforestclassifier__criterion=gini, randomforestclassifier__max_depth=30, randomforestclassifier__max_features=6, randomforestclassifier__min_samples_leaf=15, randomforestclassifier__n_estimators=190, randomforestclassifier__warm_start=False;, score=0.995 total time=   2.4s\n"
          ]
        },
        {
          "output_type": "stream",
          "name": "stderr",
          "text": [
            "/usr/local/lib/python3.8/dist-packages/sklearn/ensemble/_forest.py:765: UserWarning: class_weight presets \"balanced\" or \"balanced_subsample\" are not recommended for warm_start if the fitted data differs from the full dataset. In order to use \"balanced\" weights, use compute_class_weight (\"balanced\", classes, y). In place of y you can use a large enough sample of the full training set target to properly estimate the class frequency distributions. Pass the resulting weights as the class_weight parameter.\n",
            "  warn(\n"
          ]
        },
        {
          "output_type": "stream",
          "name": "stdout",
          "text": [
            "[CV 3/3] END randomforestclassifier__bootstrap=False, randomforestclassifier__class_weight=balanced_subsample, randomforestclassifier__criterion=gini, randomforestclassifier__max_depth=30, randomforestclassifier__max_features=6, randomforestclassifier__min_samples_leaf=15, randomforestclassifier__n_estimators=190, randomforestclassifier__warm_start=False;, score=0.996 total time=   2.4s\n"
          ]
        },
        {
          "output_type": "stream",
          "name": "stderr",
          "text": [
            "/usr/local/lib/python3.8/dist-packages/sklearn/ensemble/_forest.py:765: UserWarning: class_weight presets \"balanced\" or \"balanced_subsample\" are not recommended for warm_start if the fitted data differs from the full dataset. In order to use \"balanced\" weights, use compute_class_weight (\"balanced\", classes, y). In place of y you can use a large enough sample of the full training set target to properly estimate the class frequency distributions. Pass the resulting weights as the class_weight parameter.\n",
            "  warn(\n"
          ]
        },
        {
          "output_type": "stream",
          "name": "stdout",
          "text": [
            "[CV 1/3] END randomforestclassifier__bootstrap=False, randomforestclassifier__class_weight=balanced, randomforestclassifier__criterion=gini, randomforestclassifier__max_depth=25, randomforestclassifier__max_features=6, randomforestclassifier__min_samples_leaf=20, randomforestclassifier__n_estimators=200, randomforestclassifier__warm_start=False;, score=0.989 total time=   3.5s\n"
          ]
        },
        {
          "output_type": "stream",
          "name": "stderr",
          "text": [
            "/usr/local/lib/python3.8/dist-packages/sklearn/ensemble/_forest.py:765: UserWarning: class_weight presets \"balanced\" or \"balanced_subsample\" are not recommended for warm_start if the fitted data differs from the full dataset. In order to use \"balanced\" weights, use compute_class_weight (\"balanced\", classes, y). In place of y you can use a large enough sample of the full training set target to properly estimate the class frequency distributions. Pass the resulting weights as the class_weight parameter.\n",
            "  warn(\n"
          ]
        },
        {
          "output_type": "stream",
          "name": "stdout",
          "text": [
            "[CV 2/3] END randomforestclassifier__bootstrap=False, randomforestclassifier__class_weight=balanced, randomforestclassifier__criterion=gini, randomforestclassifier__max_depth=25, randomforestclassifier__max_features=6, randomforestclassifier__min_samples_leaf=20, randomforestclassifier__n_estimators=200, randomforestclassifier__warm_start=False;, score=0.995 total time=   3.1s\n"
          ]
        },
        {
          "output_type": "stream",
          "name": "stderr",
          "text": [
            "/usr/local/lib/python3.8/dist-packages/sklearn/ensemble/_forest.py:765: UserWarning: class_weight presets \"balanced\" or \"balanced_subsample\" are not recommended for warm_start if the fitted data differs from the full dataset. In order to use \"balanced\" weights, use compute_class_weight (\"balanced\", classes, y). In place of y you can use a large enough sample of the full training set target to properly estimate the class frequency distributions. Pass the resulting weights as the class_weight parameter.\n",
            "  warn(\n"
          ]
        },
        {
          "output_type": "stream",
          "name": "stdout",
          "text": [
            "[CV 3/3] END randomforestclassifier__bootstrap=False, randomforestclassifier__class_weight=balanced, randomforestclassifier__criterion=gini, randomforestclassifier__max_depth=25, randomforestclassifier__max_features=6, randomforestclassifier__min_samples_leaf=20, randomforestclassifier__n_estimators=200, randomforestclassifier__warm_start=False;, score=0.994 total time=   2.2s\n",
            "[CV 1/3] END randomforestclassifier__bootstrap=False, randomforestclassifier__class_weight=balanced, randomforestclassifier__criterion=log_loss, randomforestclassifier__max_depth=30, randomforestclassifier__max_features=15, randomforestclassifier__min_samples_leaf=2, randomforestclassifier__n_estimators=200, randomforestclassifier__warm_start=True;, score=nan total time=   0.1s\n"
          ]
        },
        {
          "output_type": "stream",
          "name": "stderr",
          "text": [
            "/usr/local/lib/python3.8/dist-packages/sklearn/ensemble/_forest.py:765: UserWarning: class_weight presets \"balanced\" or \"balanced_subsample\" are not recommended for warm_start if the fitted data differs from the full dataset. In order to use \"balanced\" weights, use compute_class_weight (\"balanced\", classes, y). In place of y you can use a large enough sample of the full training set target to properly estimate the class frequency distributions. Pass the resulting weights as the class_weight parameter.\n",
            "  warn(\n",
            "/usr/local/lib/python3.8/dist-packages/sklearn/ensemble/_forest.py:765: UserWarning: class_weight presets \"balanced\" or \"balanced_subsample\" are not recommended for warm_start if the fitted data differs from the full dataset. In order to use \"balanced\" weights, use compute_class_weight (\"balanced\", classes, y). In place of y you can use a large enough sample of the full training set target to properly estimate the class frequency distributions. Pass the resulting weights as the class_weight parameter.\n",
            "  warn(\n"
          ]
        },
        {
          "output_type": "stream",
          "name": "stdout",
          "text": [
            "[CV 2/3] END randomforestclassifier__bootstrap=False, randomforestclassifier__class_weight=balanced, randomforestclassifier__criterion=log_loss, randomforestclassifier__max_depth=30, randomforestclassifier__max_features=15, randomforestclassifier__min_samples_leaf=2, randomforestclassifier__n_estimators=200, randomforestclassifier__warm_start=True;, score=nan total time=   1.0s\n"
          ]
        },
        {
          "output_type": "stream",
          "name": "stderr",
          "text": [
            "/usr/local/lib/python3.8/dist-packages/sklearn/ensemble/_forest.py:765: UserWarning: class_weight presets \"balanced\" or \"balanced_subsample\" are not recommended for warm_start if the fitted data differs from the full dataset. In order to use \"balanced\" weights, use compute_class_weight (\"balanced\", classes, y). In place of y you can use a large enough sample of the full training set target to properly estimate the class frequency distributions. Pass the resulting weights as the class_weight parameter.\n",
            "  warn(\n"
          ]
        },
        {
          "output_type": "stream",
          "name": "stdout",
          "text": [
            "[CV 3/3] END randomforestclassifier__bootstrap=False, randomforestclassifier__class_weight=balanced, randomforestclassifier__criterion=log_loss, randomforestclassifier__max_depth=30, randomforestclassifier__max_features=15, randomforestclassifier__min_samples_leaf=2, randomforestclassifier__n_estimators=200, randomforestclassifier__warm_start=True;, score=nan total time=   1.0s\n"
          ]
        },
        {
          "output_type": "stream",
          "name": "stderr",
          "text": [
            "/usr/local/lib/python3.8/dist-packages/sklearn/ensemble/_forest.py:765: UserWarning: class_weight presets \"balanced\" or \"balanced_subsample\" are not recommended for warm_start if the fitted data differs from the full dataset. In order to use \"balanced\" weights, use compute_class_weight (\"balanced\", classes, y). In place of y you can use a large enough sample of the full training set target to properly estimate the class frequency distributions. Pass the resulting weights as the class_weight parameter.\n",
            "  warn(\n"
          ]
        },
        {
          "output_type": "stream",
          "name": "stdout",
          "text": [
            "[CV 1/3] END randomforestclassifier__bootstrap=False, randomforestclassifier__class_weight=balanced, randomforestclassifier__criterion=entropy, randomforestclassifier__max_depth=30, randomforestclassifier__max_features=25, randomforestclassifier__min_samples_leaf=30, randomforestclassifier__n_estimators=220, randomforestclassifier__warm_start=True;, score=nan total time=   1.3s\n"
          ]
        },
        {
          "output_type": "stream",
          "name": "stderr",
          "text": [
            "/usr/local/lib/python3.8/dist-packages/sklearn/ensemble/_forest.py:765: UserWarning: class_weight presets \"balanced\" or \"balanced_subsample\" are not recommended for warm_start if the fitted data differs from the full dataset. In order to use \"balanced\" weights, use compute_class_weight (\"balanced\", classes, y). In place of y you can use a large enough sample of the full training set target to properly estimate the class frequency distributions. Pass the resulting weights as the class_weight parameter.\n",
            "  warn(\n"
          ]
        },
        {
          "output_type": "stream",
          "name": "stdout",
          "text": [
            "[CV 2/3] END randomforestclassifier__bootstrap=False, randomforestclassifier__class_weight=balanced, randomforestclassifier__criterion=entropy, randomforestclassifier__max_depth=30, randomforestclassifier__max_features=25, randomforestclassifier__min_samples_leaf=30, randomforestclassifier__n_estimators=220, randomforestclassifier__warm_start=True;, score=nan total time=   1.0s\n"
          ]
        },
        {
          "output_type": "stream",
          "name": "stderr",
          "text": [
            "/usr/local/lib/python3.8/dist-packages/sklearn/ensemble/_forest.py:765: UserWarning: class_weight presets \"balanced\" or \"balanced_subsample\" are not recommended for warm_start if the fitted data differs from the full dataset. In order to use \"balanced\" weights, use compute_class_weight (\"balanced\", classes, y). In place of y you can use a large enough sample of the full training set target to properly estimate the class frequency distributions. Pass the resulting weights as the class_weight parameter.\n",
            "  warn(\n"
          ]
        },
        {
          "output_type": "stream",
          "name": "stdout",
          "text": [
            "[CV 3/3] END randomforestclassifier__bootstrap=False, randomforestclassifier__class_weight=balanced, randomforestclassifier__criterion=entropy, randomforestclassifier__max_depth=30, randomforestclassifier__max_features=25, randomforestclassifier__min_samples_leaf=30, randomforestclassifier__n_estimators=220, randomforestclassifier__warm_start=True;, score=nan total time=   1.0s\n"
          ]
        },
        {
          "output_type": "stream",
          "name": "stderr",
          "text": [
            "/usr/local/lib/python3.8/dist-packages/sklearn/ensemble/_forest.py:765: UserWarning: class_weight presets \"balanced\" or \"balanced_subsample\" are not recommended for warm_start if the fitted data differs from the full dataset. In order to use \"balanced\" weights, use compute_class_weight (\"balanced\", classes, y). In place of y you can use a large enough sample of the full training set target to properly estimate the class frequency distributions. Pass the resulting weights as the class_weight parameter.\n",
            "  warn(\n"
          ]
        },
        {
          "output_type": "stream",
          "name": "stdout",
          "text": [
            "[CV 1/3] END randomforestclassifier__bootstrap=False, randomforestclassifier__class_weight=balanced_subsample, randomforestclassifier__criterion=gini, randomforestclassifier__max_depth=30, randomforestclassifier__max_features=10, randomforestclassifier__min_samples_leaf=30, randomforestclassifier__n_estimators=210, randomforestclassifier__warm_start=True;, score=0.981 total time=   8.7s\n"
          ]
        },
        {
          "output_type": "stream",
          "name": "stderr",
          "text": [
            "/usr/local/lib/python3.8/dist-packages/sklearn/ensemble/_forest.py:765: UserWarning: class_weight presets \"balanced\" or \"balanced_subsample\" are not recommended for warm_start if the fitted data differs from the full dataset. In order to use \"balanced\" weights, use compute_class_weight (\"balanced\", classes, y). In place of y you can use a large enough sample of the full training set target to properly estimate the class frequency distributions. Pass the resulting weights as the class_weight parameter.\n",
            "  warn(\n"
          ]
        },
        {
          "output_type": "stream",
          "name": "stdout",
          "text": [
            "[CV 2/3] END randomforestclassifier__bootstrap=False, randomforestclassifier__class_weight=balanced_subsample, randomforestclassifier__criterion=gini, randomforestclassifier__max_depth=30, randomforestclassifier__max_features=10, randomforestclassifier__min_samples_leaf=30, randomforestclassifier__n_estimators=210, randomforestclassifier__warm_start=True;, score=0.990 total time=   3.3s\n"
          ]
        },
        {
          "output_type": "stream",
          "name": "stderr",
          "text": [
            "/usr/local/lib/python3.8/dist-packages/sklearn/ensemble/_forest.py:765: UserWarning: class_weight presets \"balanced\" or \"balanced_subsample\" are not recommended for warm_start if the fitted data differs from the full dataset. In order to use \"balanced\" weights, use compute_class_weight (\"balanced\", classes, y). In place of y you can use a large enough sample of the full training set target to properly estimate the class frequency distributions. Pass the resulting weights as the class_weight parameter.\n",
            "  warn(\n"
          ]
        },
        {
          "output_type": "stream",
          "name": "stdout",
          "text": [
            "[CV 3/3] END randomforestclassifier__bootstrap=False, randomforestclassifier__class_weight=balanced_subsample, randomforestclassifier__criterion=gini, randomforestclassifier__max_depth=30, randomforestclassifier__max_features=10, randomforestclassifier__min_samples_leaf=30, randomforestclassifier__n_estimators=210, randomforestclassifier__warm_start=True;, score=0.989 total time=   3.3s\n",
            "[CV 1/3] END randomforestclassifier__bootstrap=True, randomforestclassifier__class_weight=None, randomforestclassifier__criterion=log_loss, randomforestclassifier__max_depth=20, randomforestclassifier__max_features=6, randomforestclassifier__min_samples_leaf=25, randomforestclassifier__n_estimators=200, randomforestclassifier__warm_start=True;, score=nan total time=   0.0s\n",
            "[CV 2/3] END randomforestclassifier__bootstrap=True, randomforestclassifier__class_weight=None, randomforestclassifier__criterion=log_loss, randomforestclassifier__max_depth=20, randomforestclassifier__max_features=6, randomforestclassifier__min_samples_leaf=25, randomforestclassifier__n_estimators=200, randomforestclassifier__warm_start=True;, score=nan total time=   0.0s\n",
            "[CV 3/3] END randomforestclassifier__bootstrap=True, randomforestclassifier__class_weight=None, randomforestclassifier__criterion=log_loss, randomforestclassifier__max_depth=20, randomforestclassifier__max_features=6, randomforestclassifier__min_samples_leaf=25, randomforestclassifier__n_estimators=200, randomforestclassifier__warm_start=True;, score=nan total time=   0.0s\n",
            "[CV 1/3] END randomforestclassifier__bootstrap=False, randomforestclassifier__class_weight=balanced_subsample, randomforestclassifier__criterion=log_loss, randomforestclassifier__max_depth=25, randomforestclassifier__max_features=10, randomforestclassifier__min_samples_leaf=8, randomforestclassifier__n_estimators=210, randomforestclassifier__warm_start=True;, score=nan total time=   0.1s\n"
          ]
        },
        {
          "output_type": "stream",
          "name": "stderr",
          "text": [
            "/usr/local/lib/python3.8/dist-packages/sklearn/ensemble/_forest.py:765: UserWarning: class_weight presets \"balanced\" or \"balanced_subsample\" are not recommended for warm_start if the fitted data differs from the full dataset. In order to use \"balanced\" weights, use compute_class_weight (\"balanced\", classes, y). In place of y you can use a large enough sample of the full training set target to properly estimate the class frequency distributions. Pass the resulting weights as the class_weight parameter.\n",
            "  warn(\n",
            "/usr/local/lib/python3.8/dist-packages/sklearn/ensemble/_forest.py:765: UserWarning: class_weight presets \"balanced\" or \"balanced_subsample\" are not recommended for warm_start if the fitted data differs from the full dataset. In order to use \"balanced\" weights, use compute_class_weight (\"balanced\", classes, y). In place of y you can use a large enough sample of the full training set target to properly estimate the class frequency distributions. Pass the resulting weights as the class_weight parameter.\n",
            "  warn(\n"
          ]
        },
        {
          "output_type": "stream",
          "name": "stdout",
          "text": [
            "[CV 2/3] END randomforestclassifier__bootstrap=False, randomforestclassifier__class_weight=balanced_subsample, randomforestclassifier__criterion=log_loss, randomforestclassifier__max_depth=25, randomforestclassifier__max_features=10, randomforestclassifier__min_samples_leaf=8, randomforestclassifier__n_estimators=210, randomforestclassifier__warm_start=True;, score=nan total time=   1.1s\n"
          ]
        },
        {
          "output_type": "stream",
          "name": "stderr",
          "text": [
            "/usr/local/lib/python3.8/dist-packages/sklearn/ensemble/_forest.py:765: UserWarning: class_weight presets \"balanced\" or \"balanced_subsample\" are not recommended for warm_start if the fitted data differs from the full dataset. In order to use \"balanced\" weights, use compute_class_weight (\"balanced\", classes, y). In place of y you can use a large enough sample of the full training set target to properly estimate the class frequency distributions. Pass the resulting weights as the class_weight parameter.\n",
            "  warn(\n"
          ]
        },
        {
          "output_type": "stream",
          "name": "stdout",
          "text": [
            "[CV 3/3] END randomforestclassifier__bootstrap=False, randomforestclassifier__class_weight=balanced_subsample, randomforestclassifier__criterion=log_loss, randomforestclassifier__max_depth=25, randomforestclassifier__max_features=10, randomforestclassifier__min_samples_leaf=8, randomforestclassifier__n_estimators=210, randomforestclassifier__warm_start=True;, score=nan total time=   1.6s\n"
          ]
        },
        {
          "output_type": "stream",
          "name": "stderr",
          "text": [
            "/usr/local/lib/python3.8/dist-packages/sklearn/model_selection/_validation.py:372: FitFailedWarning: \n",
            "60 fits failed out of a total of 90.\n",
            "The score on these train-test partitions for these parameters will be set to nan.\n",
            "If these failures are not expected, you can try to debug them by setting error_score='raise'.\n",
            "\n",
            "Below are more details about the failures:\n",
            "--------------------------------------------------------------------------------\n",
            "24 fits failed with the following error:\n",
            "Traceback (most recent call last):\n",
            "  File \"/usr/local/lib/python3.8/dist-packages/sklearn/model_selection/_validation.py\", line 680, in _fit_and_score\n",
            "    estimator.fit(X_train, y_train, **fit_params)\n",
            "  File \"/usr/local/lib/python3.8/dist-packages/sklearn/pipeline.py\", line 394, in fit\n",
            "    self._final_estimator.fit(Xt, y, **fit_params_last_step)\n",
            "  File \"/usr/local/lib/python3.8/dist-packages/sklearn/ensemble/_forest.py\", line 367, in fit\n",
            "    y, expanded_class_weight = self._validate_y_class_weight(y)\n",
            "  File \"/usr/local/lib/python3.8/dist-packages/sklearn/ensemble/_forest.py\", line 758, in _validate_y_class_weight\n",
            "    raise ValueError(\n",
            "ValueError: Valid presets for class_weight include \"balanced\" and \"balanced_subsample\".Given \"None\".\n",
            "\n",
            "--------------------------------------------------------------------------------\n",
            "29 fits failed with the following error:\n",
            "joblib.externals.loky.process_executor._RemoteTraceback: \n",
            "\"\"\"\n",
            "Traceback (most recent call last):\n",
            "  File \"/usr/local/lib/python3.8/dist-packages/joblib/externals/loky/process_executor.py\", line 428, in _process_worker\n",
            "    r = call_item()\n",
            "  File \"/usr/local/lib/python3.8/dist-packages/joblib/externals/loky/process_executor.py\", line 275, in __call__\n",
            "    return self.fn(*self.args, **self.kwargs)\n",
            "  File \"/usr/local/lib/python3.8/dist-packages/joblib/_parallel_backends.py\", line 620, in __call__\n",
            "    return self.func(*args, **kwargs)\n",
            "  File \"/usr/local/lib/python3.8/dist-packages/joblib/parallel.py\", line 288, in __call__\n",
            "    return [func(*args, **kwargs)\n",
            "  File \"/usr/local/lib/python3.8/dist-packages/joblib/parallel.py\", line 288, in <listcomp>\n",
            "    return [func(*args, **kwargs)\n",
            "  File \"/usr/local/lib/python3.8/dist-packages/sklearn/utils/fixes.py\", line 216, in __call__\n",
            "    return self.function(*args, **kwargs)\n",
            "  File \"/usr/local/lib/python3.8/dist-packages/sklearn/ensemble/_forest.py\", line 185, in _parallel_build_trees\n",
            "    tree.fit(X, y, sample_weight=curr_sample_weight, check_input=False)\n",
            "  File \"/usr/local/lib/python3.8/dist-packages/sklearn/tree/_classes.py\", line 937, in fit\n",
            "    super().fit(\n",
            "  File \"/usr/local/lib/python3.8/dist-packages/sklearn/tree/_classes.py\", line 308, in fit\n",
            "    raise ValueError(\"max_features must be in (0, n_features]\")\n",
            "ValueError: max_features must be in (0, n_features]\n",
            "\"\"\"\n",
            "\n",
            "The above exception was the direct cause of the following exception:\n",
            "\n",
            "Traceback (most recent call last):\n",
            "  File \"/usr/local/lib/python3.8/dist-packages/sklearn/model_selection/_validation.py\", line 680, in _fit_and_score\n",
            "    estimator.fit(X_train, y_train, **fit_params)\n",
            "  File \"/usr/local/lib/python3.8/dist-packages/sklearn/pipeline.py\", line 394, in fit\n",
            "    self._final_estimator.fit(Xt, y, **fit_params_last_step)\n",
            "  File \"/usr/local/lib/python3.8/dist-packages/sklearn/ensemble/_forest.py\", line 450, in fit\n",
            "    trees = Parallel(\n",
            "  File \"/usr/local/lib/python3.8/dist-packages/joblib/parallel.py\", line 1098, in __call__\n",
            "    self.retrieve()\n",
            "  File \"/usr/local/lib/python3.8/dist-packages/joblib/parallel.py\", line 975, in retrieve\n",
            "    self._output.extend(job.get(timeout=self.timeout))\n",
            "  File \"/usr/local/lib/python3.8/dist-packages/joblib/_parallel_backends.py\", line 567, in wrap_future_result\n",
            "    return future.result(timeout=timeout)\n",
            "  File \"/usr/lib/python3.8/concurrent/futures/_base.py\", line 444, in result\n",
            "    return self.__get_result()\n",
            "  File \"/usr/lib/python3.8/concurrent/futures/_base.py\", line 389, in __get_result\n",
            "    raise self._exception\n",
            "ValueError: max_features must be in (0, n_features]\n",
            "\n",
            "--------------------------------------------------------------------------------\n",
            "6 fits failed with the following error:\n",
            "joblib.externals.loky.process_executor._RemoteTraceback: \n",
            "\"\"\"\n",
            "Traceback (most recent call last):\n",
            "  File \"/usr/local/lib/python3.8/dist-packages/joblib/externals/loky/process_executor.py\", line 428, in _process_worker\n",
            "    r = call_item()\n",
            "  File \"/usr/local/lib/python3.8/dist-packages/joblib/externals/loky/process_executor.py\", line 275, in __call__\n",
            "    return self.fn(*self.args, **self.kwargs)\n",
            "  File \"/usr/local/lib/python3.8/dist-packages/joblib/_parallel_backends.py\", line 620, in __call__\n",
            "    return self.func(*args, **kwargs)\n",
            "  File \"/usr/local/lib/python3.8/dist-packages/joblib/parallel.py\", line 288, in __call__\n",
            "    return [func(*args, **kwargs)\n",
            "  File \"/usr/local/lib/python3.8/dist-packages/joblib/parallel.py\", line 288, in <listcomp>\n",
            "    return [func(*args, **kwargs)\n",
            "  File \"/usr/local/lib/python3.8/dist-packages/sklearn/utils/fixes.py\", line 216, in __call__\n",
            "    return self.function(*args, **kwargs)\n",
            "  File \"/usr/local/lib/python3.8/dist-packages/sklearn/ensemble/_forest.py\", line 185, in _parallel_build_trees\n",
            "    tree.fit(X, y, sample_weight=curr_sample_weight, check_input=False)\n",
            "  File \"/usr/local/lib/python3.8/dist-packages/sklearn/tree/_classes.py\", line 937, in fit\n",
            "    super().fit(\n",
            "  File \"/usr/local/lib/python3.8/dist-packages/sklearn/tree/_classes.py\", line 352, in fit\n",
            "    criterion = CRITERIA_CLF[self.criterion](\n",
            "KeyError: 'log_loss'\n",
            "\"\"\"\n",
            "\n",
            "The above exception was the direct cause of the following exception:\n",
            "\n",
            "Traceback (most recent call last):\n",
            "  File \"/usr/local/lib/python3.8/dist-packages/sklearn/model_selection/_validation.py\", line 680, in _fit_and_score\n",
            "    estimator.fit(X_train, y_train, **fit_params)\n",
            "  File \"/usr/local/lib/python3.8/dist-packages/sklearn/pipeline.py\", line 394, in fit\n",
            "    self._final_estimator.fit(Xt, y, **fit_params_last_step)\n",
            "  File \"/usr/local/lib/python3.8/dist-packages/sklearn/ensemble/_forest.py\", line 450, in fit\n",
            "    trees = Parallel(\n",
            "  File \"/usr/local/lib/python3.8/dist-packages/joblib/parallel.py\", line 1098, in __call__\n",
            "    self.retrieve()\n",
            "  File \"/usr/local/lib/python3.8/dist-packages/joblib/parallel.py\", line 975, in retrieve\n",
            "    self._output.extend(job.get(timeout=self.timeout))\n",
            "  File \"/usr/local/lib/python3.8/dist-packages/joblib/_parallel_backends.py\", line 567, in wrap_future_result\n",
            "    return future.result(timeout=timeout)\n",
            "  File \"/usr/lib/python3.8/concurrent/futures/_base.py\", line 444, in result\n",
            "    return self.__get_result()\n",
            "  File \"/usr/lib/python3.8/concurrent/futures/_base.py\", line 389, in __get_result\n",
            "    raise self._exception\n",
            "KeyError: 'log_loss'\n",
            "\n",
            "--------------------------------------------------------------------------------\n",
            "1 fits failed with the following error:\n",
            "joblib.externals.loky.process_executor._RemoteTraceback: \n",
            "\"\"\"\n",
            "Traceback (most recent call last):\n",
            "  File \"/usr/local/lib/python3.8/dist-packages/joblib/externals/loky/process_executor.py\", line 428, in _process_worker\n",
            "    r = call_item()\n",
            "  File \"/usr/local/lib/python3.8/dist-packages/joblib/externals/loky/process_executor.py\", line 275, in __call__\n",
            "    return self.fn(*self.args, **self.kwargs)\n",
            "  File \"/usr/local/lib/python3.8/dist-packages/joblib/_parallel_backends.py\", line 620, in __call__\n",
            "    return self.func(*args, **kwargs)\n",
            "  File \"/usr/local/lib/python3.8/dist-packages/joblib/parallel.py\", line 288, in __call__\n",
            "    return [func(*args, **kwargs)\n",
            "  File \"/usr/local/lib/python3.8/dist-packages/joblib/parallel.py\", line 288, in <listcomp>\n",
            "    return [func(*args, **kwargs)\n",
            "  File \"/usr/local/lib/python3.8/dist-packages/sklearn/utils/fixes.py\", line 216, in __call__\n",
            "    return self.function(*args, **kwargs)\n",
            "  File \"/usr/local/lib/python3.8/dist-packages/sklearn/ensemble/_forest.py\", line 185, in _parallel_build_trees\n",
            "    tree.fit(X, y, sample_weight=curr_sample_weight, check_input=False)\n",
            "  File \"/usr/local/lib/python3.8/dist-packages/sklearn/tree/_classes.py\", line 937, in fit\n",
            "    super().fit(\n",
            "  File \"/usr/local/lib/python3.8/dist-packages/sklearn/tree/_classes.py\", line 308, in fit\n",
            "    raise ValueError(\"max_features must be in (0, n_features]\")\n",
            "ValueError: max_features must be in (0, n_features]\n",
            "\"\"\"\n",
            "\n",
            "The above exception was the direct cause of the following exception:\n",
            "\n",
            "Traceback (most recent call last):\n",
            "  File \"/usr/local/lib/python3.8/dist-packages/sklearn/model_selection/_validation.py\", line 680, in _fit_and_score\n",
            "    estimator.fit(X_train, y_train, **fit_params)\n",
            "  File \"/usr/local/lib/python3.8/dist-packages/sklearn/pipeline.py\", line 394, in fit\n",
            "    self._final_estimator.fit(Xt, y, **fit_params_last_step)\n",
            "  File \"/usr/local/lib/python3.8/dist-packages/sklearn/ensemble/_forest.py\", line 450, in fit\n",
            "    trees = Parallel(\n",
            "  File \"/usr/local/lib/python3.8/dist-packages/joblib/parallel.py\", line 1098, in __call__\n",
            "    self.retrieve()\n",
            "  File \"/usr/local/lib/python3.8/dist-packages/joblib/parallel.py\", line 975, in retrieve\n",
            "    self._output.extend(job.get(timeout=self.timeout))\n",
            "  File \"/usr/local/lib/python3.8/dist-packages/joblib/_parallel_backends.py\", line 567, in wrap_future_result\n",
            "    return future.result(timeout=timeout)\n",
            "  File \"/usr/lib/python3.8/concurrent/futures/_base.py\", line 437, in result\n",
            "    return self.__get_result()\n",
            "  File \"/usr/lib/python3.8/concurrent/futures/_base.py\", line 389, in __get_result\n",
            "    raise self._exception\n",
            "ValueError: max_features must be in (0, n_features]\n",
            "\n",
            "  warnings.warn(some_fits_failed_message, FitFailedWarning)\n",
            "/usr/local/lib/python3.8/dist-packages/sklearn/model_selection/_search.py:969: UserWarning: One or more of the test scores are non-finite: [0.98349444 0.98933237 0.9625707         nan        nan        nan\n",
            "        nan        nan        nan        nan        nan 0.98244643\n",
            " 0.99561461        nan 0.9972606         nan        nan        nan\n",
            "        nan        nan        nan 0.99460661        nan 0.99402642\n",
            " 0.99258147        nan        nan 0.98688815        nan        nan]\n",
            "  warnings.warn(\n",
            "/usr/local/lib/python3.8/dist-packages/sklearn/ensemble/_forest.py:765: UserWarning: class_weight presets \"balanced\" or \"balanced_subsample\" are not recommended for warm_start if the fitted data differs from the full dataset. In order to use \"balanced\" weights, use compute_class_weight (\"balanced\", classes, y). In place of y you can use a large enough sample of the full training set target to properly estimate the class frequency distributions. Pass the resulting weights as the class_weight parameter.\n",
            "  warn(\n"
          ]
        },
        {
          "output_type": "execute_result",
          "data": {
            "text/plain": [
              "RandomizedSearchCV(cv=3,\n",
              "                   estimator=Pipeline(steps=[('randomforestclassifier',\n",
              "                                              RandomForestClassifier(n_jobs=-1,\n",
              "                                                                     oob_score=True,\n",
              "                                                                     random_state=2))]),\n",
              "                   n_iter=30,\n",
              "                   param_distributions={'randomforestclassifier__bootstrap': ['True',\n",
              "                                                                              'False'],\n",
              "                                        'randomforestclassifier__class_weight': ['None',\n",
              "                                                                                 'balanced',\n",
              "                                                                                 'balanced_subsample'],\n",
              "                                        'randomforestclassifier__criterion': ['gini'...\n",
              "                                        'randomforestclassifier__max_depth': [2,\n",
              "                                                                              4,\n",
              "                                                                              6,\n",
              "                                                                              8,\n",
              "                                                                              10,\n",
              "                                                                              15,\n",
              "                                                                              20,\n",
              "                                                                              25,\n",
              "                                                                              30],\n",
              "                                        'randomforestclassifier__max_features': [2,\n",
              "                                                                                 4,\n",
              "                                                                                 6,\n",
              "                                                                                 8,\n",
              "                                                                                 10,\n",
              "                                                                                 15,\n",
              "                                                                                 20,\n",
              "                                                                                 25,\n",
              "                                                                                 30],\n",
              "                                        'randomforestclassifier__min_samples_leaf': [2,\n",
              "                                                                                     4,\n",
              "                                                                                     6,\n",
              "                                                                                     8,\n",
              "                                                                                     10,\n",
              "                                                                                     15,\n",
              "                                                                                     20,\n",
              "                                                                                     25,\n",
              "                                                                                     30],\n",
              "                                        'randomforestclassifier__n_estimators': [180,\n",
              "                                                                                 190,\n",
              "                                                                                 200,\n",
              "                                                                                 210,\n",
              "                                                                                 220],\n",
              "                                        'randomforestclassifier__warm_start': ['True',\n",
              "                                                                               'False']},\n",
              "                   random_state=2, scoring='roc_auc', verbose=3)"
            ]
          },
          "metadata": {},
          "execution_count": 34
        }
      ]
    },
    {
      "cell_type": "code",
      "source": [
        "print(\"최적 하이퍼파라미터: \", randomized_search.best_params_)\n",
        "print(\"최적 roc_auc: \", randomized_search.best_score_)"
      ],
      "metadata": {
        "colab": {
          "base_uri": "https://localhost:8080/"
        },
        "id": "xvDSfr8B7NFq",
        "outputId": "e0246543-e26c-49f6-de2b-a05ec217dbe7"
      },
      "execution_count": 35,
      "outputs": [
        {
          "output_type": "stream",
          "name": "stdout",
          "text": [
            "최적 하이퍼파라미터:  {'randomforestclassifier__warm_start': 'True', 'randomforestclassifier__n_estimators': 200, 'randomforestclassifier__min_samples_leaf': 4, 'randomforestclassifier__max_features': 4, 'randomforestclassifier__max_depth': 20, 'randomforestclassifier__criterion': 'entropy', 'randomforestclassifier__class_weight': 'balanced_subsample', 'randomforestclassifier__bootstrap': 'False'}\n",
            "최적 roc_auc:  0.9972606021361176\n"
          ]
        }
      ]
    },
    {
      "cell_type": "code",
      "source": [
        "RFC = RandomForestClassifier(random_state=2, oob_score=True, n_jobs=-1, warm_start= True, n_estimators= 200, min_samples_leaf= 4, max_features= 4, max_depth= 20, criterion= 'entropy', class_weight= 'balanced_subsample')"
      ],
      "metadata": {
        "id": "7p90idHm9dHI"
      },
      "execution_count": 36,
      "outputs": []
    },
    {
      "cell_type": "code",
      "source": [
        "RFC.fit(X_train_sampled, y_train_sampled)"
      ],
      "metadata": {
        "colab": {
          "base_uri": "https://localhost:8080/"
        },
        "id": "YOK8l6SE9_wi",
        "outputId": "32124e32-46c5-4c65-dbbe-7d633f8a3203"
      },
      "execution_count": 37,
      "outputs": [
        {
          "output_type": "stream",
          "name": "stderr",
          "text": [
            "/usr/local/lib/python3.8/dist-packages/sklearn/ensemble/_forest.py:765: UserWarning: class_weight presets \"balanced\" or \"balanced_subsample\" are not recommended for warm_start if the fitted data differs from the full dataset. In order to use \"balanced\" weights, use compute_class_weight (\"balanced\", classes, y). In place of y you can use a large enough sample of the full training set target to properly estimate the class frequency distributions. Pass the resulting weights as the class_weight parameter.\n",
            "  warn(\n"
          ]
        },
        {
          "output_type": "execute_result",
          "data": {
            "text/plain": [
              "RandomForestClassifier(class_weight='balanced_subsample', criterion='entropy',\n",
              "                       max_depth=20, max_features=4, min_samples_leaf=4,\n",
              "                       n_estimators=200, n_jobs=-1, oob_score=True,\n",
              "                       random_state=2, warm_start=True)"
            ]
          },
          "metadata": {},
          "execution_count": 37
        }
      ]
    },
    {
      "cell_type": "code",
      "source": [
        "y_test = y_val"
      ],
      "metadata": {
        "id": "aqOucEvz5c85"
      },
      "execution_count": 38,
      "outputs": []
    },
    {
      "cell_type": "code",
      "source": [
        "y_pred_proba = RFC.predict_proba(X_test)[:,1]\n",
        "roc_auc_score(y_test, y_pred_proba)"
      ],
      "metadata": {
        "colab": {
          "base_uri": "https://localhost:8080/"
        },
        "id": "xpNDLCX-6Rw_",
        "outputId": "070f601d-d5de-49f7-eb7d-57c39eff43d2"
      },
      "execution_count": 39,
      "outputs": [
        {
          "output_type": "execute_result",
          "data": {
            "text/plain": [
              "0.8954361054766734"
            ]
          },
          "metadata": {},
          "execution_count": 39
        }
      ]
    },
    {
      "cell_type": "code",
      "source": [
        "permuter = PermutationImportance(\n",
        "    RFC,  # model\n",
        "    scoring=\"roc_auc\",  # metric\n",
        "    n_iter=10,  # 다른 random seed를 사용하여 10번 반복\n",
        "    random_state=2,\n",
        ")\n",
        "\n",
        "permuter.fit(X_test, y_test)"
      ],
      "metadata": {
        "colab": {
          "base_uri": "https://localhost:8080/"
        },
        "outputId": "65525136-f1d6-4af7-de46-708706fcd69a",
        "id": "v5teUWMl-TXI"
      },
      "execution_count": 40,
      "outputs": [
        {
          "output_type": "execute_result",
          "data": {
            "text/plain": [
              "PermutationImportance(estimator=RandomForestClassifier(class_weight='balanced_subsample',\n",
              "                                                       criterion='entropy',\n",
              "                                                       max_depth=20,\n",
              "                                                       max_features=4,\n",
              "                                                       min_samples_leaf=4,\n",
              "                                                       n_estimators=200,\n",
              "                                                       n_jobs=-1,\n",
              "                                                       oob_score=True,\n",
              "                                                       random_state=2,\n",
              "                                                       warm_start=True),\n",
              "                      n_iter=10, random_state=2, scoring='roc_auc')"
            ]
          },
          "metadata": {},
          "execution_count": 40
        }
      ]
    },
    {
      "cell_type": "code",
      "source": [
        "feature_names = X_test.columns.tolist()\n",
        "pi = pd.Series(permuter.feature_importances_, feature_names).sort_values()\n",
        "pi.plot.barh()\n",
        "plt.title(\"Permutation Importance\")"
      ],
      "metadata": {
        "colab": {
          "base_uri": "https://localhost:8080/",
          "height": 299
        },
        "outputId": "f6887699-df5d-47d7-a75e-398ccb413c61",
        "id": "ZYAczhud-TXI"
      },
      "execution_count": 41,
      "outputs": [
        {
          "output_type": "execute_result",
          "data": {
            "text/plain": [
              "Text(0.5, 1.0, 'Permutation Importance')"
            ]
          },
          "metadata": {},
          "execution_count": 41
        },
        {
          "output_type": "display_data",
          "data": {
            "text/plain": [
              "<Figure size 432x288 with 1 Axes>"
            ],
            "image/png": "[encoded data removed]"
          },
          "metadata": {
            "needs_background": "light"
          }
        }
      ]
    },
    {
      "cell_type": "code",
      "source": [
        "eli5.show_weights(\n",
        "    permuter,\n",
        "    top=None,\n",
        "    feature_names=feature_names,\n",
        ")"
      ],
      "metadata": {
        "colab": {
          "base_uri": "https://localhost:8080/",
          "height": 208
        },
        "id": "OqcdJveTA1Xm",
        "outputId": "3b7a4be4-b38a-47da-dbe6-57404c096546"
      },
      "execution_count": 42,
      "outputs": [
        {
          "output_type": "execute_result",
          "data": {
            "text/plain": [
              "<IPython.core.display.HTML object>"
            ],
            "text/html": [
              "\n",
              "    <style>\n",
              "    table.eli5-weights tr:hover {\n",
              "        filter: brightness(85%);\n",
              "    }\n",
              "</style>\n",
              "\n",
              "\n",
              "\n",
              "    \n",
              "\n",
              "    \n",
              "\n",
              "    \n",
              "\n",
              "    \n",
              "\n",
              "    \n",
              "\n",
              "    \n",
              "\n",
              "\n",
              "    \n",
              "\n",
              "    \n",
              "\n",
              "    \n",
              "\n",
              "    \n",
              "\n",
              "    \n",
              "\n",
              "    \n",
              "\n",
              "\n",
              "    \n",
              "\n",
              "    \n",
              "\n",
              "    \n",
              "\n",
              "    \n",
              "\n",
              "    \n",
              "        <table class=\"eli5-weights eli5-feature-importances\" style=\"border-collapse: collapse; border: none; margin-top: 0em; table-layout: auto;\">\n",
              "    <thead>\n",
              "    <tr style=\"border: none;\">\n",
              "        <th style=\"padding: 0 1em 0 0.5em; text-align: right; border: none;\">Weight</th>\n",
              "        <th style=\"padding: 0 0.5em 0 0.5em; text-align: left; border: none;\">Feature</th>\n",
              "    </tr>\n",
              "    </thead>\n",
              "    <tbody>\n",
              "    \n",
              "        <tr style=\"background-color: hsl(120, 100.00%, 80.00%); border: none;\">\n",
              "            <td style=\"padding: 0 1em 0 0.5em; text-align: right; border: none;\">\n",
              "                0.2209\n",
              "                \n",
              "                    &plusmn; 0.0499\n",
              "                \n",
              "            </td>\n",
              "            <td style=\"padding: 0 0.5em 0 0.5em; text-align: left; border: none;\">\n",
              "                category_parent\n",
              "            </td>\n",
              "        </tr>\n",
              "    \n",
              "        <tr style=\"background-color: hsl(120, 100.00%, 88.09%); border: none;\">\n",
              "            <td style=\"padding: 0 1em 0 0.5em; text-align: right; border: none;\">\n",
              "                0.1054\n",
              "                \n",
              "                    &plusmn; 0.0428\n",
              "                \n",
              "            </td>\n",
              "            <td style=\"padding: 0 0.5em 0 0.5em; text-align: left; border: none;\">\n",
              "                category_name\n",
              "            </td>\n",
              "        </tr>\n",
              "    \n",
              "        <tr style=\"background-color: hsl(120, 100.00%, 97.73%); border: none;\">\n",
              "            <td style=\"padding: 0 1em 0 0.5em; text-align: right; border: none;\">\n",
              "                0.0098\n",
              "                \n",
              "                    &plusmn; 0.0284\n",
              "                \n",
              "            </td>\n",
              "            <td style=\"padding: 0 0.5em 0 0.5em; text-align: left; border: none;\">\n",
              "                backers_count\n",
              "            </td>\n",
              "        </tr>\n",
              "    \n",
              "        <tr style=\"background-color: hsl(120, 100.00%, 99.50%); border: none;\">\n",
              "            <td style=\"padding: 0 1em 0 0.5em; text-align: right; border: none;\">\n",
              "                0.0011\n",
              "                \n",
              "                    &plusmn; 0.0018\n",
              "                \n",
              "            </td>\n",
              "            <td style=\"padding: 0 0.5em 0 0.5em; text-align: left; border: none;\">\n",
              "                staff_pick\n",
              "            </td>\n",
              "        </tr>\n",
              "    \n",
              "        <tr style=\"background-color: hsl(0, 100.00%, 98.86%); border: none;\">\n",
              "            <td style=\"padding: 0 1em 0 0.5em; text-align: right; border: none;\">\n",
              "                -0.0037\n",
              "                \n",
              "                    &plusmn; 0.0137\n",
              "                \n",
              "            </td>\n",
              "            <td style=\"padding: 0 0.5em 0 0.5em; text-align: left; border: none;\">\n",
              "                currency\n",
              "            </td>\n",
              "        </tr>\n",
              "    \n",
              "        <tr style=\"background-color: hsl(0, 100.00%, 98.81%); border: none;\">\n",
              "            <td style=\"padding: 0 1em 0 0.5em; text-align: right; border: none;\">\n",
              "                -0.0039\n",
              "                \n",
              "                    &plusmn; 0.0156\n",
              "                \n",
              "            </td>\n",
              "            <td style=\"padding: 0 0.5em 0 0.5em; text-align: left; border: none;\">\n",
              "                goal\n",
              "            </td>\n",
              "        </tr>\n",
              "    \n",
              "        <tr style=\"background-color: hsl(0, 100.00%, 98.44%); border: none;\">\n",
              "            <td style=\"padding: 0 1em 0 0.5em; text-align: right; border: none;\">\n",
              "                -0.0058\n",
              "                \n",
              "                    &plusmn; 0.0194\n",
              "                \n",
              "            </td>\n",
              "            <td style=\"padding: 0 0.5em 0 0.5em; text-align: left; border: none;\">\n",
              "                country\n",
              "            </td>\n",
              "        </tr>\n",
              "    \n",
              "        <tr style=\"background-color: hsl(0, 100.00%, 97.90%); border: none;\">\n",
              "            <td style=\"padding: 0 1em 0 0.5em; text-align: right; border: none;\">\n",
              "                -0.0089\n",
              "                \n",
              "                    &plusmn; 0.0170\n",
              "                \n",
              "            </td>\n",
              "            <td style=\"padding: 0 0.5em 0 0.5em; text-align: left; border: none;\">\n",
              "                usd_pledged\n",
              "            </td>\n",
              "        </tr>\n",
              "    \n",
              "        <tr style=\"background-color: hsl(0, 100.00%, 97.24%); border: none;\">\n",
              "            <td style=\"padding: 0 1em 0 0.5em; text-align: right; border: none;\">\n",
              "                -0.0130\n",
              "                \n",
              "                    &plusmn; 0.0238\n",
              "                \n",
              "            </td>\n",
              "            <td style=\"padding: 0 0.5em 0 0.5em; text-align: left; border: none;\">\n",
              "                pledged\n",
              "            </td>\n",
              "        </tr>\n",
              "    \n",
              "        <tr style=\"background-color: hsl(0, 100.00%, 96.40%); border: none;\">\n",
              "            <td style=\"padding: 0 1em 0 0.5em; text-align: right; border: none;\">\n",
              "                -0.0191\n",
              "                \n",
              "                    &plusmn; 0.0296\n",
              "                \n",
              "            </td>\n",
              "            <td style=\"padding: 0 0.5em 0 0.5em; text-align: left; border: none;\">\n",
              "                converted_pledged_amount\n",
              "            </td>\n",
              "        </tr>\n",
              "    \n",
              "    \n",
              "    </tbody>\n",
              "</table>\n",
              "    \n",
              "\n",
              "    \n",
              "\n",
              "\n",
              "    \n",
              "\n",
              "    \n",
              "\n",
              "    \n",
              "\n",
              "    \n",
              "\n",
              "    \n",
              "\n",
              "    \n",
              "\n",
              "\n",
              "\n"
            ]
          },
          "metadata": {},
          "execution_count": 42
        }
      ]
    }
  ]
}